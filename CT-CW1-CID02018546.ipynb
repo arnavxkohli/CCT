{
 "cells": [
  {
   "cell_type": "markdown",
   "id": "9fdea660",
   "metadata": {},
   "source": [
    "# Coursework 1 - Coding Theory\n",
    "\n",
    "### PLAGIARISM/COLLUSION DECLARATION\n",
    "\n",
    "Coursework submitted for assessment must be the original work of you and your group. Assignments are subjected to regular checks for plagiarism and/or collusion. Plagiarism is the presentation of another person’s thoughts or words (those outside your group) as if they were your own. Collusion involves obtaining help from someone outside your group to complete your work. In preparing your coursework, you should not seek help, or copy from any other person or source, including the\n",
    "Internet, without proper and explicit acknowledgement.\n",
    "\n",
    "There is a procedure in place for you to declare individual contributions within your group for courswork. You must declare the contributions fairly and accurately.\n",
    "\n",
    "You must not disclose your solutions or insights related to coursework with anyone else, including future students or the Internet.\n",
    "\n",
    "By acknowledging the the statements above, you are declaring that both this and all subsequent pieces of coursework are, and will remain, the original work of you and your group. \n",
    "\n",
    "* Submissions will not be accepted without the aforementioned declaration.\n",
    "\n",
    "* Members of a group are deemed to have collective responsibility for the integrity for work submitted and are liable for any penalty imposed, proportionate to their contributions. \n",
    "\n"
   ]
  },
  {
   "cell_type": "markdown",
   "id": "7db0c9d5",
   "metadata": {},
   "source": [
    "### Due Date\n",
    "Week 4, 25th Oct. (Time: 11:59)"
   ]
  },
  {
   "cell_type": "code",
   "execution_count": 30,
   "id": "d8d22128",
   "metadata": {},
   "outputs": [
    {
     "name": "stderr",
     "output_type": "stream",
     "text": [
      "\u001b[32m\u001b[1m   Resolving\u001b[22m\u001b[39m package versions...\n",
      "\u001b[32m\u001b[1m  No Changes\u001b[22m\u001b[39m to `~/.julia/environments/v1.10/Project.toml`\n",
      "\u001b[32m\u001b[1m  No Changes\u001b[22m\u001b[39m to `~/.julia/environments/v1.10/Manifest.toml`\n",
      "\u001b[32m\u001b[1m   Resolving\u001b[22m\u001b[39m package versions...\n",
      "\u001b[32m\u001b[1m  No Changes\u001b[22m\u001b[39m to `~/.julia/environments/v1.10/Project.toml`\n",
      "\u001b[32m\u001b[1m  No Changes\u001b[22m\u001b[39m to `~/.julia/environments/v1.10/Manifest.toml`\n"
     ]
    }
   ],
   "source": [
    "using Pkg\n",
    "Pkg.add(\"FileIO\")\n",
    "Pkg.add(\"JLD2\")\n",
    "using FileIO, JLD2"
   ]
  },
  {
   "cell_type": "code",
   "execution_count": 31,
   "id": "53773a16",
   "metadata": {},
   "outputs": [
    {
     "data": {
      "text/plain": [
       "CourseWork_1"
      ]
     },
     "metadata": {},
     "output_type": "display_data"
    }
   ],
   "source": [
    "Base.@kwdef mutable struct CourseWork_1\n",
    "    CID::Int\n",
    "    Plagiarism_declare::Union{Missing,Bool}\n",
    "    Demo_willing::Union{Missing,Bool}\n",
    "    \n",
    "    \"Chapter 4\"\n",
    "    # 4.1 Congurence equations\n",
    "    Q4_1_a_data_a::Int\n",
    "    Q4_1_a_data_b::Int\n",
    "    Q4_1_a_data_n::Int\n",
    "    Q4_1_a_ans_x::Union{Missing, Int, Array{Int}}\n",
    "\n",
    "    Q4_1_b_data_a::Int\n",
    "    Q4_1_b_data_b::Int\n",
    "    Q4_1_b_data_n::Int\n",
    "    Q4_1_b_ans_x::Union{Missing, Int, Array{Int}}\n",
    "\n",
    "    Q4_1_c_data_a::Int\n",
    "    Q4_1_c_data_b::Int\n",
    "    Q4_1_c_data_n::Int\n",
    "    Q4_1_c_ans_x::Union{Missing, Int, Array{Int}}\n",
    "\n",
    "    Q4_1_d_data_a::Int\n",
    "    Q4_1_d_data_b::Int\n",
    "    Q4_1_d_data_n::Int\n",
    "    Q4_1_d_ans_x::Union{Missing, Int, Array{Int}}\n",
    "\n",
    "    Q4_1_e_data_a::Int\n",
    "    Q4_1_e_data_b::Int\n",
    "    Q4_1_e_data_n::Int\n",
    "    Q4_1_e_ans_x::Union{Missing, Int, Array{Int}}\n",
    "\n",
    "    Q4_1_f_data_a::Int\n",
    "    Q4_1_f_data_b::Int\n",
    "    Q4_1_f_data_n::Int\n",
    "    Q4_1_f_ans_x::Union{Missing, Int, Array{Int}}\n",
    "\n",
    "    # Q4.3\n",
    "    Q4_3_a_data_b::Int\n",
    "    Q4_3_a_data_p::Int\n",
    "    Q4_3_a_data_n::Int\n",
    "    Q4_3_a_ans::Union{Missing, Int, Array{Int}}\n",
    "\n",
    "    Q4_3_b_data_b::Int\n",
    "    Q4_3_b_data_p::Int\n",
    "    Q4_3_b_data_n::Int\n",
    "    Q4_3_b_ans::Union{Missing, Int, Array{Int}}\n",
    "\n",
    "    Q4_3_c_data_b::Int\n",
    "    Q4_3_c_data_p::Int\n",
    "    Q4_3_c_data_n::Int\n",
    "    Q4_3_c_ans::Union{Missing, Int, Array{Int}}\n",
    "\n",
    "    Q4_3_d_data_b::Int\n",
    "    Q4_3_d_data_p::Int\n",
    "    Q4_3_d_data_n::Int\n",
    "    Q4_3_d_ans::Union{Missing, Int, Array{Int}}\n",
    "\n",
    "    Q4_3_e_data_b::Int\n",
    "    Q4_3_e_data_p::Int\n",
    "    Q4_3_e_data_n::Int\n",
    "    Q4_3_e_ans::Union{Missing, Int, Array{Int}}\n",
    "\n",
    "    # Q4.4.a\n",
    "    Q4_4_a_data_a::Int\n",
    "    Q4_4_a_ans_b::Union{Missing, Int, Array{Int}}\n",
    "\n",
    "    # Q4.4.b\n",
    "    Q4_4_b_data_a::Int\n",
    "    Q4_4_b_data_b::Int\n",
    "    Q4_4_b_ans_p::Union{Missing, Int, Array{Int}}\n",
    "\n",
    "    # Q4.5.a\n",
    "    Q4_5_a_data_M ::Array{Int}\n",
    "    Q4_5_a_data_m ::Int\n",
    "    Q4_5_a_ans::Union{Missing, Int, Array{Int}}\n",
    "\n",
    "    # Q4.5.b\n",
    "    Q4_5_b_data_M ::Array{Int}\n",
    "    Q4_5_b_data_m ::Int\n",
    "    Q4_5_b_ans::Union{Missing, Int, Array{Int} }\n",
    "\n",
    "    # Q4.5.c\n",
    "    Q4_5_c_data_M ::Array{Int}\n",
    "    Q4_5_c_data_m ::Int\n",
    "    Q4_5_c_ans::Union{Missing, Int, Array{Int}}\n",
    "    \n",
    "\n",
    "    \"Chapter 5\"\n",
    "    # Q5.1 Shift Cipher\n",
    "    Q5_1_data_encrypted_quote1::String\n",
    "    Q5_1_data_encrypted_quote2::String\n",
    "    Q5_1_ans_quote1::Union{Missing, String}\n",
    "    Q5_1_ans_quote2::Union{Missing, String}\n",
    "\n",
    "    # Q5.2 Affine Cipher\n",
    "    Q5_2_data_encrypted_para::String\n",
    "    Q5_2_data_encrypted_quote1::String\n",
    "    Q5_2_data_encrypted_quote2::String\n",
    "    Q5_2_ans_para::Union{Missing, String}\n",
    "    Q5_2_ans_quote1::Union{Missing, String}\n",
    "    Q5_2_ans_quote2::Union{Missing, String}\n",
    "\n",
    "    # Q5.3 Vigenere cipher\n",
    "    Q5_3_data_encrypted_para::String\n",
    "    Q5_3_a_ans_len_key::Union{Missing, Int}\n",
    "    Q5_3_b_ans_key::Union{Missing, String}\n",
    "    Q5_3_b_ans_para::Union{Missing, String}\n",
    "\n",
    "    # Q5.4 Block cipher\n",
    "    Q5_4_data_A :: Array{Int,2}\n",
    "    Q5_4_data_b :: Array{Int,1}\n",
    "    Q5_4_plain_text :: String\n",
    "\n",
    "    Q5_4_a_ans :: Union{Missing, String }\n",
    "    Q5_4_b_ans :: Union{Missing, Array{Float64, 1} }\n",
    "\n",
    "end"
   ]
  },
  {
   "cell_type": "code",
   "execution_count": 32,
   "id": "052f7342",
   "metadata": {},
   "outputs": [],
   "source": [
    "# Download and upload data from JLD file, refer to https://juliaio.github.io/JLD2.jl/dev/ \n",
    "\n",
    "# Example\n",
    "A = JLD2.load(\"Arnav 2018546StudentFile.jld2\");\n",
    "A = A[ \"CourseWork_1\" ];\n",
    "A.Demo_willing = true;\n",
    "\n",
    "jldopen(\"Arnav 2018546StudentFile.jld2\", \"w\") do file\n",
    "   write(file, \"CourseWork_1\", A)\n",
    "end"
   ]
  },
  {
   "cell_type": "markdown",
   "id": "237a63e0",
   "metadata": {},
   "source": [
    "### 4.1\n",
    "* If the subproblem has more than one solution, arrange all the solutions into a vector in ascending order;\n",
    "* If only one solution, save it as type Int;\n",
    "* If no solution, save it as []."
   ]
  },
  {
   "cell_type": "code",
   "execution_count": 33,
   "id": "db08cb67",
   "metadata": {},
   "outputs": [
    {
     "name": "stdout",
     "output_type": "stream",
     "text": [
      "17, 1, 37: 24\n",
      "19, 5, 31: 28\n",
      "62, 1, 134: Int64[]\n",
      "629, 5, 1139: Int64[]\n",
      "217, 7, 371: [12, 65, 118, 171, 224, 277, 330]\n",
      "437, 133, 779: [11, 52, 93, 134, 175, 216, 257, 298, 339, 380, 421, 462, 503, 544, 585, 626, 667, 708, 749]\n"
     ]
    }
   ],
   "source": [
    "# save your answers in Q4_1_a_ans_x, Q4_1_b_ans_x, Q4_1_c_ans_x, Q4_1_d_ans_x, Q4_1_e_ans_x, Q4_1_f_ans_x\n",
    "function find_gcd(n1::Int, n2::Int)\n",
    "    if n2 == 0\n",
    "        return n1\n",
    "    end\n",
    "    return find_gcd(n2, n1 % n2)\n",
    "end\n",
    "\n",
    "function extended_gcd(n1::Int, n2::Int)\n",
    "    if n2 == 0\n",
    "        return n1, 1, 0\n",
    "    end\n",
    "    g, x_prev, y_prev = extended_gcd(n2, n1 % n2)\n",
    "    x_curr = y_prev\n",
    "    y_curr = x_prev - (n1 ÷ n2) * y_prev\n",
    "    return g, x_curr, y_curr\n",
    "end\n",
    "\n",
    "function find_congruence(a::Int, b::Int, n::Int)\n",
    "    g, x, y = extended_gcd(a, n)\n",
    "    result = []\n",
    "    if b % g == 0\n",
    "        inc = (n ÷ g)\n",
    "        x = ((x * (b ÷ g)) % inc + inc) % inc\n",
    "        result = sort([x + inc * index for index in 0:(g-1)])\n",
    "    end\n",
    "    if length(result) == 1\n",
    "        return Int(result[1])\n",
    "    elseif length(result) == 0\n",
    "        return Array{Int,1}(undef,0);\n",
    "    else\n",
    "        return Array{Int}(result)\n",
    "    end\n",
    "end\n",
    "\n",
    "for ch in ['a', 'b', 'c', 'd', 'e', 'f']\n",
    "    a = getfield(A, Symbol(\"Q4_1_\", ch, \"_data_a\"))\n",
    "    b = getfield(A, Symbol(\"Q4_1_\", ch, \"_data_b\"))\n",
    "    n = getfield(A, Symbol(\"Q4_1_\", ch, \"_data_n\"))\n",
    "    println(\"$a, $b, $n: $(find_congruence(a, b, n))\")\n",
    "    setfield!(A, Symbol(\"Q4_1_\", ch, \"_ans_x\"), find_congruence(a, b, n))\n",
    "end"
   ]
  },
  {
   "cell_type": "markdown",
   "id": "9b8ef128",
   "metadata": {},
   "source": [
    "### 4.2\n"
   ]
  },
  {
   "cell_type": "code",
   "execution_count": 34,
   "id": "c72d0565",
   "metadata": {},
   "outputs": [],
   "source": []
  },
  {
   "cell_type": "markdown",
   "id": "c7c0a8bd",
   "metadata": {},
   "source": [
    "### 4.3\n",
    "* If the subproblem has more than one solution, arrange all the solutions into a vector in ascending order;\n",
    "* If only one solution, save it as type Int;\n",
    "* If no solution, save it as []."
   ]
  },
  {
   "cell_type": "code",
   "execution_count": 35,
   "id": "383c26a7",
   "metadata": {},
   "outputs": [
    {
     "name": "stdout",
     "output_type": "stream",
     "text": [
      "5, 9, 163: 59\n",
      "7, 53, 787: 206\n",
      "7, -6, 191: 1\n",
      "599, 40, 63407: 4215\n",
      "163, -20, 63407: 1\n"
     ]
    }
   ],
   "source": [
    "# save your answers in Q4_3_a_ans, Q4_3_b_ans, Q4_3_c_ans, Q4_3_d_ans, Q4_3_e_ans\n",
    "\n",
    "# need to address negative powers\n",
    "\n",
    "function mod_exp(b::Int, p::Int, n::Int)\n",
    "    powers = Dict{Int, Int}()\n",
    "    max_power = -1\n",
    "    while p > 0\n",
    "        next = floor(Int, log2(p))\n",
    "        powers[next] = 1\n",
    "        max_power = max(max_power, next)\n",
    "        p -= 2^next\n",
    "    end\n",
    "    curr = b % n\n",
    "    for i in 0:max_power\n",
    "        if haskey(powers, i)\n",
    "            powers[i] = curr\n",
    "        end\n",
    "        curr = (curr * curr) % n\n",
    "    end\n",
    "    result = 1\n",
    "    for (_, value) in powers\n",
    "        result = (result * value) % n\n",
    "    end\n",
    "    return result\n",
    "end\n",
    "\n",
    "for ch in ['a', 'b', 'c', 'd', 'e']\n",
    "    b = getfield(A, Symbol(\"Q4_3_\", ch, \"_data_b\"))\n",
    "    p = getfield(A, Symbol(\"Q4_3_\", ch, \"_data_p\"))\n",
    "    n = getfield(A, Symbol(\"Q4_3_\", ch, \"_data_n\"))\n",
    "    println(\"$b, $p, $n: $(mod_exp(b, p, n))\")\n",
    "    setfield!(A, Symbol(\"Q4_3_\", ch, \"_ans\"), mod_exp(b, p, n))\n",
    "end"
   ]
  },
  {
   "cell_type": "markdown",
   "id": "32c442b3",
   "metadata": {},
   "source": [
    "### 4.4\n"
   ]
  },
  {
   "cell_type": "code",
   "execution_count": 43,
   "id": "55680c79",
   "metadata": {},
   "outputs": [
    {
     "data": {
      "text/plain": [
       "48-element Vector{Int64}:\n",
       "  3\n",
       "  4\n",
       "  5\n",
       "  6\n",
       "  7\n",
       "  8\n",
       "  9\n",
       " 10\n",
       " 11\n",
       " 12\n",
       "  ⋮\n",
       " 42\n",
       " 43\n",
       " 44\n",
       " 45\n",
       " 46\n",
       " 47\n",
       " 48\n",
       " 49\n",
       " 50"
      ]
     },
     "metadata": {},
     "output_type": "display_data"
    }
   ],
   "source": [
    "# save your answers in Q4_4_a_ans_b, Q4_4_b_ans_p\n",
    "function four_four_a(a::Int)\n",
    "    result = []\n",
    "    for b in 0:25\n",
    "        if gcd(3 - a*b, 26) == 1\n",
    "            push!(result, b)\n",
    "        end\n",
    "    end\n",
    "    return Array{Int}(result)\n",
    "end\n",
    "\n",
    "function four_four_b(a::Int, b::Int)\n",
    "    result = []\n",
    "    det = abs(3 - a*b)\n",
    "    for n in 3:50\n",
    "        if find_gcd(n, det) == 1\n",
    "            push!(result, n)\n",
    "        end\n",
    "    end\n",
    "    return Array{Int}(result)\n",
    "end\n",
    "\n",
    "A.Q4_4_a_ans_b = four_four_a(A.Q4_4_a_data_a)\n",
    "A.Q4_4_b_ans_p = four_four_b(A.Q4_4_b_data_a, A.Q4_4_b_data_b)\n"
   ]
  },
  {
   "cell_type": "markdown",
   "id": "5ba27dd4",
   "metadata": {},
   "source": [
    "### 4.5"
   ]
  },
  {
   "cell_type": "code",
   "execution_count": 37,
   "id": "dc841e55",
   "metadata": {},
   "outputs": [],
   "source": [
    "# save your answers in Q4_5_a_ans, Q4_5_b_ans, Q4_5_c_ans"
   ]
  },
  {
   "cell_type": "markdown",
   "id": "8716ed07",
   "metadata": {},
   "source": [
    "### 5.1\n"
   ]
  },
  {
   "cell_type": "code",
   "execution_count": 38,
   "id": "2b7f24f9",
   "metadata": {},
   "outputs": [],
   "source": [
    "# save your answers in Q5_1_ans_quote1, Q5_1_ans_quote2"
   ]
  },
  {
   "cell_type": "markdown",
   "id": "59cf540e",
   "metadata": {},
   "source": [
    "### 5.2\n"
   ]
  },
  {
   "cell_type": "code",
   "execution_count": 39,
   "id": "61a20029",
   "metadata": {},
   "outputs": [],
   "source": [
    "# save your answers in Q5_2_ans_para, Q5_2_ans_quote1, Q5_2_ans_quote2"
   ]
  },
  {
   "cell_type": "markdown",
   "id": "7d5f661b",
   "metadata": {},
   "source": [
    "### 5.3\n"
   ]
  },
  {
   "cell_type": "code",
   "execution_count": 40,
   "id": "84c336e2",
   "metadata": {},
   "outputs": [],
   "source": [
    "# save your answers in Q5_3_a_ans_len_key, Q5_3_b_ans_key, Q5_3_b_ans_para"
   ]
  },
  {
   "cell_type": "markdown",
   "id": "aab85cc1",
   "metadata": {},
   "source": [
    "### 5.4\n"
   ]
  },
  {
   "cell_type": "code",
   "execution_count": 41,
   "id": "8cece281",
   "metadata": {},
   "outputs": [],
   "source": [
    "# save your answers in Q5_4_a_ans, Q5_4_b_ans. \n",
    "# save Q5_4_b_ans as Array{Float64, 1}, whose frequency is for from letter a to z. "
   ]
  },
  {
   "cell_type": "markdown",
   "id": "821e60ea",
   "metadata": {},
   "source": [
    "### Write Back to the Struct"
   ]
  },
  {
   "cell_type": "code",
   "execution_count": 42,
   "id": "0d4e2e41",
   "metadata": {},
   "outputs": [],
   "source": [
    "jldopen(\"Arnav 2018546StudentFile.jld2\", \"w\") do file\n",
    "    write(file, \"CourseWork_1\", A)\n",
    " end"
   ]
  }
 ],
 "metadata": {
  "kernelspec": {
   "display_name": "Julia 1.10.5",
   "language": "julia",
   "name": "julia-1.10"
  },
  "language_info": {
   "file_extension": ".jl",
   "mimetype": "application/julia",
   "name": "julia",
   "version": "1.10.5"
  }
 },
 "nbformat": 4,
 "nbformat_minor": 5
}
