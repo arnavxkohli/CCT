{
 "cells": [
  {
   "cell_type": "markdown",
   "id": "9fdea660",
   "metadata": {},
   "source": [
    "# Coursework 2 - Coding Theory\n",
    "\n",
    "### PLAGIARISM/COLLUSION DECLARATION\n",
    "\n",
    "Coursework submitted for assessment must be the original work of you and your group. Assignments are subjected to regular checks for plagiarism and/or collusion. Plagiarism is the presentation of another person’s thoughts or words (those outside your group) as if they were your own. Collusion involves obtaining help from someone outside your group to complete your work. In preparing your coursework, you should not seek help, or copy from any other person or source, including the\n",
    "Internet, without proper and explicit acknowledgement.\n",
    "\n",
    "There is a procedure in place for you to declare individual contributions within your group for courswork. You must declare the contributions fairly and accurately.\n",
    "\n",
    "You must not disclose your solutions or insights related to coursework with anyone else, including future students or the Internet.\n",
    "\n",
    "By acknowledging the the statements above, you are declaring that both this and all subsequent pieces of coursework are, and will remain, the original work of you and your group. \n",
    "\n",
    "* Submissions will not be accepted without the aforementioned declaration.\n",
    "\n",
    "* Members of a group are deemed to have collective responsibility for the integrity for work submitted and are liable for any penalty imposed, proportionate to their contributions. \n",
    "\n"
   ]
  },
  {
   "cell_type": "code",
   "execution_count": 649,
   "id": "0a4e08f9",
   "metadata": {},
   "outputs": [],
   "source": [
    "using FileIO, JLD2"
   ]
  },
  {
   "cell_type": "code",
   "execution_count": null,
   "id": "c07e984b",
   "metadata": {},
   "outputs": [],
   "source": [
    "Base.@kwdef mutable struct CourseWork_2\n",
    "    CID::Int\n",
    "    Plagiarism_declare::Union{Missing,Bool}\n",
    "    Demo_willing::Union{Missing,Bool}\n",
    "    \n",
    "    \"Chapter 6\"\n",
    "    # 6.1 \n",
    "    Q6_1_data_a₁::Int\n",
    "    Q6_1_data_a₂::Int\n",
    "    Q6_1_data_a₃::Int\n",
    "    Q6_1_data_n₁::Int\n",
    "    Q6_1_data_n₂::Int\n",
    "    Q6_1_data_n₃::Int\n",
    "    Q6_1_ans_y::Union{Missing, Int}\n",
    "\n",
    "    # 6.2\n",
    "    Q6_2_data_m::BigInt\n",
    "    Q6_2_ans_reminder::Union{Missing, Int}\n",
    "\n",
    "    # 6.3.a\n",
    "    Q6_3_a_data_p::BigInt\n",
    "    Q6_3_a_data_a::BigInt\n",
    "    Q6_3_a_ans_isprimitive::Union{Missing, Bool}\n",
    "\n",
    "    # 6.3.b\n",
    "    Q6_3_b_data_p::BigInt\n",
    "    Q6_3_b_data_a::BigInt\n",
    "    Q6_3_b_ans_x::Union{Missing, BigInt}\n",
    "\n",
    "    # 6.3.c\n",
    "    Q6_3_c_data_p :: Int\n",
    "    Q6_3_c_ans::Union{Missing, Array{Int}}\n",
    "\n",
    "\n",
    "    \"Chapter 7\"\n",
    "    Q7_1_a_data_p::String\n",
    "    Q7_1_a_data_q::String\n",
    "    Q7_1_a_ans_e::Union{Missing, Int}\n",
    "\n",
    "    Q7_1_b_ans_i::Union{Missing, String}\n",
    "    Q7_1_b_ans_ii::Union{Missing, String}\n",
    "    Q7_1_b_ans_iii::Union{Missing, String}\n",
    "\n",
    "    Q7_2_data_n::String\n",
    "    Q7_2_data_e::String\n",
    "    Q7_2_data_ciphertext::String\n",
    "    Q7_2_ans_plaintext::Union{Missing, Int}\n",
    "\n",
    "    Q7_3_data_p::String\n",
    "    Q7_3_a_ans_g::Union{Missing, Int}\n",
    "    Q7_3_b_ans_Alice_pk::Union{Missing, String}\n",
    "    Q7_3_b_ans_Bob_pk::Union{Missing, String}\n",
    "    Q7_3_b_ans_Charlie_pk::Union{Missing, String}\n",
    "    Q7_3_c_ans_secret_key_AB::Union{Missing, String}\n",
    "    Q7_3_c_ans_secret_key_BC::Union{Missing, String}\n",
    "    Q7_3_c_ans_secret_key_AC::Union{Missing, String}\n",
    "    Q7_3_d_data_k::String\n",
    "    Q7_3_d_ans_enc_msg::Union{Missing, Array{String}}\n",
    "    Q7_3_e_ans_signed_msg::Union{Missing, Array{String}}\n",
    "    Q7_3_f_data_msg::Array{String}\n",
    "    Q7_3_f_ans_T_or_F::Union{Missing, Bool}\n",
    "    Q7_3_g_data_msg::Array{String}\n",
    "    Q7_3_g_ans_T_or_F::Union{Missing, Bool}\n",
    "\n",
    "    Q7_4_data_p::String\n",
    "    Q7_4_a_ans_yklk::Union{Missing,Vector{Vector{String}}}\n",
    "    Q7_4_a_ans_fx::Union{Missing,Vector{String}}\n",
    "    Q7_4_b_data_x_vector::Array{String}\n",
    "    Q7_4_b_data_y_vector::Array{String}\n",
    "    Q7_4_b_ans_error_idx::Union{Missing, Int}\n",
    "    Q7_4_b_ans_secret::Union{Missing, String}\n",
    "\n",
    "end"
   ]
  },
  {
   "cell_type": "code",
   "execution_count": 651,
   "id": "052f7342",
   "metadata": {},
   "outputs": [],
   "source": [
    "A = JLD2.load(\"Arnav 2018546StudentFile.jld2\");\n",
    "A = A[ \"CourseWork_2\" ];\n",
    "A.Demo_willing = true;\n",
    "A.Plagiarism_declare = true;"
   ]
  },
  {
   "cell_type": "code",
   "execution_count": null,
   "id": "35423e99",
   "metadata": {},
   "outputs": [],
   "source": [
    "import Pkg\n",
    "Pkg.add(\"Primes\")\n",
    "Pkg.add(\"Combinatorics\")\n",
    "Pkg.add(\"Polynomials\")\n",
    "using Primes\n",
    "using Polynomials\n",
    "using Combinatorics"
   ]
  },
  {
   "cell_type": "markdown",
   "id": "f4ea51c4",
   "metadata": {},
   "source": [
    "### 6.1"
   ]
  },
  {
   "cell_type": "markdown",
   "id": "e821312b",
   "metadata": {},
   "source": []
  },
  {
   "cell_type": "code",
   "execution_count": null,
   "id": "c48ee354",
   "metadata": {},
   "outputs": [],
   "source": [
    "function chinese_remainder_theorem(a1::Int, a2::Int, a3::Int, n1::Int, n2::Int, n3::Int)\n",
    "    if gcd(n1, n2) != 1 || gcd(n2, n3) != 1 || gcd(n3, n1) != 1\n",
    "        return Array{Int64,1}(undef,0)\n",
    "    end\n",
    "    z1, z2, z3 = n2 * n3, n1 * n3, n1 * n2\n",
    "    y1, y2, y3 = invmod(z1, n1), invmod(z2, n2), invmod(z3, n3)\n",
    "    return (a1 * z1 * y1 + a2 * z2 * y2 + a3 * z3 * y3) % (n1 * n2 * n3)\n",
    "end\n",
    "\n",
    "A.Q6_1_ans_y = chinese_remainder_theorem(A.Q6_1_data_a₁, A.Q6_1_data_a₂, A.Q6_1_data_a₃, A.Q6_1_data_n₁, A.Q6_1_data_n₂, A.Q6_1_data_n₃)"
   ]
  },
  {
   "cell_type": "markdown",
   "id": "ed5ecfa6",
   "metadata": {},
   "source": [
    "### 6.2"
   ]
  },
  {
   "cell_type": "markdown",
   "id": "b3afa7e4",
   "metadata": {},
   "source": [
    "By fermat's little theorem, we know that for any prime number $p$, and any integer $a$, $a^{p-1} = 1\\; mod(p)$.\n",
    "\n",
    "This holds so long as $p$ does not divide $a$ i.e. $gcd(a, p) = 1$.\n",
    "\n",
    "In this case, we have $a = 2$ and $p = 101$. So, we get $2^{100} = 1\\; mod(101)$.\n",
    "\n",
    "This is because $gcd(2, 101)$ is $2$ (confirmed in the code below).\n",
    "\n",
    "For any power which is a multiple of $100$, we can say that the remainder will be $1$ when divided by $101$.\n",
    "\n",
    "More formally, let the power be $100k$ for some integer $k$. Then, $2^{100k} = (2^{100})^k = 1^k = 1\\; mod(101)$.\n",
    "\n",
    "Any general number $m$ can be written as $100k + r$; $r$ in this case is just $m\\; mod(100)$.\n",
    "\n",
    "So we now have, for any number $m$, $2^m = 2^{m\\; mod(100)}\\; mod(101)$.\n",
    "\n",
    "The code and answer for this are given in the code block below."
   ]
  },
  {
   "cell_type": "code",
   "execution_count": null,
   "id": "070b37c3",
   "metadata": {},
   "outputs": [],
   "source": [
    "function six_two(m)\n",
    "    println(gcd(2, 101) == 1)\n",
    "    return mod(2^mod(m, 100), 101)\n",
    "end\n",
    "A.Q6_2_ans_reminder = six_two(A.Q6_2_data_m)"
   ]
  },
  {
   "cell_type": "markdown",
   "id": "549b8c55",
   "metadata": {},
   "source": [
    "### 6.3"
   ]
  },
  {
   "cell_type": "markdown",
   "id": "a1e3c08b",
   "metadata": {},
   "source": []
  },
  {
   "cell_type": "code",
   "execution_count": null,
   "id": "607ce0aa",
   "metadata": {},
   "outputs": [],
   "source": [
    "function is_primitive_root(a::BigInt, p::BigInt)\n",
    "    if gcd(a, p) != 1\n",
    "        return false\n",
    "    end\n",
    "    p_totient = totient(p)\n",
    "    for (f, _) in unique(factor(p_totient))\n",
    "        if powermod(a, p_totient ÷ f, p) == 1\n",
    "            return false\n",
    "        end\n",
    "    end\n",
    "    return true\n",
    "end\n",
    "\n",
    "function next_primitive_root(a::BigInt, p::BigInt)\n",
    "    for x in a:(p-1)\n",
    "        if is_primitive_root(x, p)\n",
    "            return x\n",
    "        end\n",
    "    end\n",
    "    return Array{BigInt,1}(undef,0)\n",
    "end\n",
    "\n",
    "function all_primitive_roots(p::Int)\n",
    "    p = BigInt(p)\n",
    "    res = BigInt[]\n",
    "    for a in 2:(p-1)\n",
    "        if is_primitive_root(a, p)\n",
    "            push!(res, a)\n",
    "        end\n",
    "    end\n",
    "    return Int.(res)\n",
    "end\n",
    "\n",
    "A.Q6_3_a_ans_isprimitive = is_primitive_root(A.Q6_3_a_data_a, A.Q6_3_a_data_p)\n",
    "A.Q6_3_b_ans_x = next_primitive_root(A.Q6_3_b_data_a, A.Q6_3_b_data_p)\n",
    "A.Q6_3_c_ans = all_primitive_roots(A.Q6_3_c_data_p)"
   ]
  },
  {
   "cell_type": "markdown",
   "id": "237a63e0",
   "metadata": {},
   "source": [
    "### 7.1"
   ]
  },
  {
   "cell_type": "markdown",
   "id": "f745e356",
   "metadata": {},
   "source": []
  },
  {
   "cell_type": "code",
   "execution_count": null,
   "id": "db08cb67",
   "metadata": {},
   "outputs": [],
   "source": [
    "english_mapping = Dict(\n",
    "    'a' => \"01\", 'b' => \"02\", 'c' => \"03\", 'd' => \"04\", 'e' => \"05\",\n",
    "    'f' => \"06\", 'g' => \"07\", 'h' => \"08\", 'i' => \"09\", 'j' => \"10\",\n",
    "    'k' => \"11\", 'l' => \"12\", 'm' => \"13\", 'n' => \"14\", 'o' => \"15\",\n",
    "    'p' => \"16\", 'q' => \"17\", 'r' => \"18\", 's' => \"19\", 't' => \"20\",\n",
    "    'u' => \"21\", 'v' => \"22\", 'w' => \"23\", 'x' => \"24\", 'y' => \"25\",\n",
    "    'z' => \"26\"\n",
    ")\n",
    "\n",
    "function find_public_key(p::String, q::String)\n",
    "    p, q = parse(BigInt, p), parse(BigInt, q)\n",
    "    n, t = p * q, (p-1) * (q-1)\n",
    "    for e in 305407503811:(t-1)\n",
    "        if gcd(e, t) == 1\n",
    "            return (n, e)\n",
    "        end\n",
    "    end\n",
    "end\n",
    "\n",
    "function convert_to_bigint(s::String)\n",
    "    result = String[]\n",
    "    for c in s\n",
    "        push!(result, english_mapping[c])\n",
    "    end\n",
    "    return parse(BigInt, join(result))\n",
    "end\n",
    "\n",
    "function rsa_encrypt(plaintext::String, n::BigInt, e::Int)\n",
    "    m = convert_to_bigint(plaintext)\n",
    "    return string(powermod(m, e, n))\n",
    "end\n",
    "\n",
    "encryption_n, A.Q7_1_a_ans_e = find_public_key(A.Q7_1_a_data_p, A.Q7_1_a_data_q)\n",
    "A.Q7_1_b_ans_i = rsa_encrypt(\"bat\", encryption_n, A.Q7_1_a_ans_e)\n",
    "A.Q7_1_b_ans_ii = rsa_encrypt(\"cat\", encryption_n, A.Q7_1_a_ans_e)\n",
    "A.Q7_1_b_ans_iii = rsa_encrypt(\"hat\", encryption_n, A.Q7_1_a_ans_e)"
   ]
  },
  {
   "cell_type": "markdown",
   "id": "9b8ef128",
   "metadata": {},
   "source": [
    "### 7.2"
   ]
  },
  {
   "cell_type": "markdown",
   "id": "ece18773",
   "metadata": {},
   "source": []
  },
  {
   "cell_type": "code",
   "execution_count": null,
   "id": "c72d0565",
   "metadata": {},
   "outputs": [],
   "source": [
    "# TODO: Ask professor or on teams about this question\n",
    "\n",
    "function decrypt_rsa(ciphertext::String, n::BigInt, e::BigInt, t::BigInt)\n",
    "    c, d = parse(BigInt, ciphertext), invmod(e, t)\n",
    "    return powermod(c, d, n)\n",
    "end\n",
    "\n",
    "n = parse(BigInt, A.Q7_2_data_n)\n",
    "e = parse(BigInt, A.Q7_2_data_e)\n",
    "p = BigInt(sqrt(n))\n",
    "println(p^2 == n)\n",
    "t = (p-1)^2\n",
    "\n",
    "A.Q7_2_ans_plaintext = decrypt_rsa(A.Q7_2_data_ciphertext, n, e, t)"
   ]
  },
  {
   "cell_type": "markdown",
   "id": "c7c0a8bd",
   "metadata": {},
   "source": [
    "### 7.3"
   ]
  },
  {
   "cell_type": "markdown",
   "id": "02ae850d",
   "metadata": {},
   "source": []
  },
  {
   "cell_type": "code",
   "execution_count": null,
   "id": "69fbab6a",
   "metadata": {},
   "outputs": [],
   "source": [
    "A.Q7_3_a_ans_g = next_primitive_root(BigInt(305407503811), parse(BigInt, A.Q7_3_data_p))"
   ]
  },
  {
   "cell_type": "markdown",
   "id": "a1ed1e7d",
   "metadata": {},
   "source": [
    "### 7.4"
   ]
  },
  {
   "cell_type": "markdown",
   "id": "e7bdd7fa",
   "metadata": {},
   "source": []
  },
  {
   "cell_type": "code",
   "execution_count": 659,
   "id": "1a047555",
   "metadata": {},
   "outputs": [],
   "source": []
  },
  {
   "cell_type": "markdown",
   "id": "4f2273d1",
   "metadata": {},
   "source": [
    "### Write Back to Struct"
   ]
  },
  {
   "cell_type": "code",
   "execution_count": 660,
   "id": "dd951f17",
   "metadata": {},
   "outputs": [],
   "source": [
    "jldopen(\"Arnav 2018546StudentFile.jld2\", \"w\") do file\n",
    "   write(file, \"CourseWork_2\", A)\n",
    "end"
   ]
  },
  {
   "cell_type": "markdown",
   "id": "6f2b8f8f",
   "metadata": {},
   "source": [
    "### Sanity Check"
   ]
  },
  {
   "cell_type": "code",
   "execution_count": null,
   "id": "334701ec",
   "metadata": {},
   "outputs": [],
   "source": [
    "A"
   ]
  }
 ],
 "metadata": {
  "kernelspec": {
   "display_name": "Julia 1.10.5",
   "language": "julia",
   "name": "julia-1.10"
  },
  "language_info": {
   "file_extension": ".jl",
   "mimetype": "application/julia",
   "name": "julia",
   "version": "1.10.5"
  }
 },
 "nbformat": 4,
 "nbformat_minor": 5
}
