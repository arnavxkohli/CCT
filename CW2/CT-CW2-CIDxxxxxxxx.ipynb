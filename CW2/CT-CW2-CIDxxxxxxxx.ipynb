{
 "cells": [
  {
   "cell_type": "markdown",
   "id": "9fdea660",
   "metadata": {},
   "source": [
    "# Coursework 2 - Coding Theory\n",
    "\n",
    "### PLAGIARISM/COLLUSION DECLARATION\n",
    "\n",
    "Coursework submitted for assessment must be the original work of you and your group. Assignments are subjected to regular checks for plagiarism and/or collusion. Plagiarism is the presentation of another person’s thoughts or words (those outside your group) as if they were your own. Collusion involves obtaining help from someone outside your group to complete your work. In preparing your coursework, you should not seek help, or copy from any other person or source, including the\n",
    "Internet, without proper and explicit acknowledgement.\n",
    "\n",
    "There is a procedure in place for you to declare individual contributions within your group for courswork. You must declare the contributions fairly and accurately.\n",
    "\n",
    "You must not disclose your solutions or insights related to coursework with anyone else, including future students or the Internet.\n",
    "\n",
    "By acknowledging the the statements above, you are declaring that both this and all subsequent pieces of coursework are, and will remain, the original work of you and your group. \n",
    "\n",
    "* Submissions will not be accepted without the aforementioned declaration.\n",
    "\n",
    "* Members of a group are deemed to have collective responsibility for the integrity for work submitted and are liable for any penalty imposed, proportionate to their contributions. \n",
    "\n"
   ]
  },
  {
   "cell_type": "code",
   "execution_count": 215,
   "id": "0a4e08f9",
   "metadata": {},
   "outputs": [],
   "source": [
    "using FileIO, JLD2"
   ]
  },
  {
   "cell_type": "code",
   "execution_count": 216,
   "id": "c07e984b",
   "metadata": {},
   "outputs": [
    {
     "data": {
      "text/plain": [
       "CourseWork_2"
      ]
     },
     "metadata": {},
     "output_type": "display_data"
    }
   ],
   "source": [
    "Base.@kwdef mutable struct CourseWork_2\n",
    "    CID::Int\n",
    "    Plagiarism_declare::Union{Missing,Bool}\n",
    "    Demo_willing::Union{Missing,Bool}\n",
    "    \n",
    "    \"Chapter 6\"\n",
    "    # 6.1 \n",
    "    Q6_1_data_a₁::Int\n",
    "    Q6_1_data_a₂::Int\n",
    "    Q6_1_data_a₃::Int\n",
    "    Q6_1_data_n₁::Int\n",
    "    Q6_1_data_n₂::Int\n",
    "    Q6_1_data_n₃::Int\n",
    "    Q6_1_ans_y::Union{Missing, Int}\n",
    "\n",
    "    # 6.2\n",
    "    Q6_2_data_m::BigInt\n",
    "    Q6_2_ans_reminder::Union{Missing, Int}\n",
    "\n",
    "    # 6.3.a\n",
    "    Q6_3_a_data_p::BigInt\n",
    "    Q6_3_a_data_a::BigInt\n",
    "    Q6_3_a_ans_isprimitive::Union{Missing, Bool}\n",
    "\n",
    "    # 6.3.b\n",
    "    Q6_3_b_data_p::BigInt\n",
    "    Q6_3_b_data_a::BigInt\n",
    "    Q6_3_b_ans_x::Union{Missing, BigInt}\n",
    "\n",
    "    # 6.3.c\n",
    "    Q6_3_c_data_p :: Int\n",
    "    Q6_3_c_ans::Union{Missing, Array{Int}}\n",
    "\n",
    "\n",
    "    \"Chapter 7\"\n",
    "    Q7_1_a_data_p::String\n",
    "    Q7_1_a_data_q::String\n",
    "    Q7_1_a_ans_e::Union{Missing, Int}\n",
    "\n",
    "    Q7_1_b_ans_i::Union{Missing, String}\n",
    "    Q7_1_b_ans_ii::Union{Missing, String}\n",
    "    Q7_1_b_ans_iii::Union{Missing, String}\n",
    "\n",
    "    Q7_2_data_n::String\n",
    "    Q7_2_data_e::String\n",
    "    Q7_2_data_ciphertext::String\n",
    "    Q7_2_ans_plaintext::Union{Missing, BigInt}\n",
    "\n",
    "    Q7_3_data_p::String\n",
    "    Q7_3_a_ans_g::Union{Missing, BigInt}\n",
    "    Q7_3_b_ans_Alice_pk::Union{Missing, String}\n",
    "    Q7_3_b_ans_Bob_pk::Union{Missing, String}\n",
    "    Q7_3_b_ans_Charlie_pk::Union{Missing, String}\n",
    "    Q7_3_c_ans_secret_key_AB::Union{Missing, String}\n",
    "    Q7_3_c_ans_secret_key_BC::Union{Missing, String}\n",
    "    Q7_3_c_ans_secret_key_AC::Union{Missing, String}\n",
    "    Q7_3_d_data_k::String\n",
    "    Q7_3_d_ans_enc_msg::Union{Missing, Array{String}}\n",
    "    Q7_3_e_ans_signed_msg::Union{Missing, Array{String}}\n",
    "    Q7_3_f_data_msg::Array{String}\n",
    "    Q7_3_f_ans_T_or_F::Union{Missing, Bool}\n",
    "    Q7_3_g_data_msg::Array{String}\n",
    "    Q7_3_g_ans_T_or_F::Union{Missing, Bool}\n",
    "\n",
    "    Q7_4_data_p::String\n",
    "    Q7_4_a_data_x_vector::Array{String}\n",
    "    Q7_4_a_data_y_vector::Array{String}\n",
    "    Q7_4_a_ans_yklk::Union{Missing,Vector{Vector{String}}}\n",
    "    Q7_4_a_ans_fx::Union{Missing,Vector{String}}\n",
    "    Q7_4_b_data_x_vector::Array{String}\n",
    "    Q7_4_b_data_y_vector::Array{String}\n",
    "    Q7_4_b_ans_error_idx::Union{Missing, Int}\n",
    "    Q7_4_b_ans_secret::Union{Missing, String}\n",
    "end"
   ]
  },
  {
   "cell_type": "code",
   "execution_count": 217,
   "id": "052f7342",
   "metadata": {},
   "outputs": [],
   "source": [
    "A = JLD2.load(\"Arnav 2018546StudentFile.jld2\");\n",
    "A = A[ \"CourseWork_2\" ];\n",
    "A.Demo_willing = true;\n",
    "A.Plagiarism_declare = true;\n",
    "\n",
    "B = JLD2.load(\"Ratul2015627StudentFile.jld2\");\n",
    "B = B[ \"CourseWork_2\" ];\n",
    "B.Demo_willing = true;\n",
    "B.Plagiarism_declare = true;"
   ]
  },
  {
   "cell_type": "code",
   "execution_count": 218,
   "id": "fd50b5ac",
   "metadata": {},
   "outputs": [
    {
     "name": "stderr",
     "output_type": "stream",
     "text": [
      "\u001b[32m\u001b[1m   Resolving\u001b[22m\u001b[39m package versions...\n",
      "\u001b[32m\u001b[1m  No Changes\u001b[22m\u001b[39m to `~/.julia/environments/v1.10/Project.toml`\n",
      "\u001b[32m\u001b[1m  No Changes\u001b[22m\u001b[39m to `~/.julia/environments/v1.10/Manifest.toml`\n",
      "\u001b[32m\u001b[1m   Resolving\u001b[22m\u001b[39m package versions...\n",
      "\u001b[32m\u001b[1m  No Changes\u001b[22m\u001b[39m to `~/.julia/environments/v1.10/Project.toml`\n",
      "\u001b[32m\u001b[1m  No Changes\u001b[22m\u001b[39m to `~/.julia/environments/v1.10/Manifest.toml`\n",
      "\u001b[32m\u001b[1m   Resolving\u001b[22m\u001b[39m package versions...\n",
      "\u001b[32m\u001b[1m  No Changes\u001b[22m\u001b[39m to `~/.julia/environments/v1.10/Project.toml`\n",
      "\u001b[32m\u001b[1m  No Changes\u001b[22m\u001b[39m to `~/.julia/environments/v1.10/Manifest.toml`\n"
     ]
    }
   ],
   "source": [
    "import Pkg\n",
    "Pkg.add(\"Primes\")\n",
    "Pkg.add(\"Combinatorics\")\n",
    "Pkg.add(\"Polynomials\")\n",
    "using Primes\n",
    "using Polynomials\n",
    "using Combinatorics"
   ]
  },
  {
   "cell_type": "markdown",
   "id": "f4ea51c4",
   "metadata": {},
   "source": [
    "### 6.1"
   ]
  },
  {
   "cell_type": "markdown",
   "id": "e821312b",
   "metadata": {},
   "source": []
  },
  {
   "cell_type": "code",
   "execution_count": 219,
   "id": "c48ee354",
   "metadata": {},
   "outputs": [
    {
     "data": {
      "text/plain": [
       "209686425"
      ]
     },
     "metadata": {},
     "output_type": "display_data"
    }
   ],
   "source": [
    "\n",
    "function chinese_remainder_theorem(a1::Int, a2::Int, a3::Int, n1::Int, n2::Int, n3::Int)\n",
    "    if gcd(n1, n2) != 1 || gcd(n2, n3) != 1 || gcd(n3, n1) != 1\n",
    "        return Array{Int64,1}(undef,0)\n",
    "    end\n",
    "    z1, z2, z3 = n2 * n3, n1 * n3, n1 * n2\n",
    "    y1, y2, y3 = invmod(z1, n1), invmod(z2, n2), invmod(z3, n3)\n",
    "    return (a1 * z1 * y1 + a2 * z2 * y2 + a3 * z3 * y3) % (n1 * n2 * n3)\n",
    "end\n",
    "# Arnav\n",
    "A.Q6_1_ans_y = chinese_remainder_theorem(A.Q6_1_data_a₁, A.Q6_1_data_a₂, A.Q6_1_data_a₃, A.Q6_1_data_n₁, A.Q6_1_data_n₂, A.Q6_1_data_n₃)\n",
    "\n",
    "# Ratul\n",
    "B.Q6_1_ans_y = chinese_remainder_theorem(B.Q6_1_data_a₁, B.Q6_1_data_a₂, B.Q6_1_data_a₃, B.Q6_1_data_n₁, B.Q6_1_data_n₂, B.Q6_1_data_n₃)"
   ]
  },
  {
   "cell_type": "markdown",
   "id": "ed5ecfa6",
   "metadata": {},
   "source": [
    "### 6.2"
   ]
  },
  {
   "cell_type": "markdown",
   "id": "b3afa7e4",
   "metadata": {},
   "source": [
    "By fermat's little theorem, we know that for any prime number $p$, and any integer $a$, $a^{p-1} = 1\\; mod(p)$.\n",
    "\n",
    "This holds so long as $p$ does not divide $a$ i.e. $gcd(a, p) = 1$.\n",
    "\n",
    "In this case, we have $a = 2$ and $p = 101$. So, we get $2^{100} = 1\\; mod(101)$.\n",
    "\n",
    "This is because $gcd(2, 101)$ is $1$ (confirmed in the code below).\n",
    "\n",
    "For any power which is a multiple of $100$, we can say that the remainder will be $1$ when divided by $101$.\n",
    "\n",
    "More formally, let the power be $100k$ for some integer $k$. Then, $2^{100k} = (2^{100})^k = 1^k = 1\\; mod(101)$.\n",
    "\n",
    "Any general number $m$ can be written as $100k + r$; $r$ in this case is just $m\\; mod(100)$.\n",
    "\n",
    "So we now have, for any number $m$, $2^m = 2^{m\\; mod(100)}\\; mod(101)$.\n",
    "\n",
    "The code and answer for this are given in the code block below."
   ]
  },
  {
   "cell_type": "code",
   "execution_count": 220,
   "id": "070b37c3",
   "metadata": {},
   "outputs": [
    {
     "name": "stdout",
     "output_type": "stream",
     "text": [
      "true\n",
      "true\n"
     ]
    },
    {
     "data": {
      "text/plain": [
       "2"
      ]
     },
     "metadata": {},
     "output_type": "display_data"
    }
   ],
   "source": [
    "function six_two(m)\n",
    "    println(gcd(2, 101) == 1)\n",
    "    return mod(2^mod(m, 100), 101)\n",
    "end\n",
    "\n",
    "# Arnav\n",
    "A.Q6_2_ans_reminder = six_two(A.Q6_2_data_m)\n",
    "\n",
    "# Ratul\n",
    "B.Q6_2_ans_reminder = six_two(B.Q6_2_data_m)"
   ]
  },
  {
   "cell_type": "markdown",
   "id": "549b8c55",
   "metadata": {},
   "source": [
    "### 6.3"
   ]
  },
  {
   "cell_type": "markdown",
   "id": "a1e3c08b",
   "metadata": {},
   "source": []
  },
  {
   "cell_type": "code",
   "execution_count": 221,
   "id": "607ce0aa",
   "metadata": {},
   "outputs": [
    {
     "data": {
      "text/plain": [
       "384-element Vector{Int64}:\n",
       "   6\n",
       "  10\n",
       "  11\n",
       "  18\n",
       "  24\n",
       "  29\n",
       "  30\n",
       "  31\n",
       "  33\n",
       "  34\n",
       "   ⋮\n",
       " 950\n",
       " 951\n",
       " 952\n",
       " 954\n",
       " 956\n",
       " 959\n",
       " 962\n",
       " 966\n",
       " 968"
      ]
     },
     "metadata": {},
     "output_type": "display_data"
    }
   ],
   "source": [
    "function is_primitive_root(a::BigInt, p::BigInt)\n",
    "    if gcd(a, p) != 1\n",
    "        return false\n",
    "    end\n",
    "    p_totient = totient(p)\n",
    "    for (f, _) in unique(factor(p_totient))\n",
    "        if powermod(a, p_totient ÷ f, p) == 1\n",
    "            return false\n",
    "        end\n",
    "    end\n",
    "    return true\n",
    "end\n",
    "\n",
    "function next_primitive_root(a::BigInt, p::BigInt)\n",
    "    for x in a:(p-1)\n",
    "        if is_primitive_root(x, p)\n",
    "            return x\n",
    "        end\n",
    "    end\n",
    "    return Array{BigInt,1}(undef,0)\n",
    "end\n",
    "\n",
    "function all_primitive_roots(p::Int)\n",
    "    p = BigInt(p)\n",
    "    res = BigInt[]\n",
    "    for a in 2:(p-1)\n",
    "        if is_primitive_root(a, p)\n",
    "            push!(res, a)\n",
    "        end\n",
    "    end\n",
    "    return Int.(res)\n",
    "end\n",
    "\n",
    "# Arnav\n",
    "A.Q6_3_a_ans_isprimitive = is_primitive_root(A.Q6_3_a_data_a, A.Q6_3_a_data_p)\n",
    "A.Q6_3_b_ans_x = next_primitive_root(A.Q6_3_b_data_a, A.Q6_3_b_data_p)\n",
    "A.Q6_3_c_ans = all_primitive_roots(A.Q6_3_c_data_p)\n",
    "\n",
    "# Ratul\n",
    "B.Q6_3_a_ans_isprimitive = is_primitive_root(B.Q6_3_a_data_a, B.Q6_3_a_data_p)\n",
    "B.Q6_3_b_ans_x = next_primitive_root(B.Q6_3_b_data_a, B.Q6_3_b_data_p)\n",
    "B.Q6_3_c_ans = all_primitive_roots(B.Q6_3_c_data_p)"
   ]
  },
  {
   "cell_type": "markdown",
   "id": "237a63e0",
   "metadata": {},
   "source": [
    "### 7.1"
   ]
  },
  {
   "cell_type": "markdown",
   "id": "f745e356",
   "metadata": {},
   "source": []
  },
  {
   "cell_type": "code",
   "execution_count": 222,
   "id": "db08cb67",
   "metadata": {},
   "outputs": [
    {
     "data": {
      "text/plain": [
       "\"1296519637295185943780984364457854818960\""
      ]
     },
     "metadata": {},
     "output_type": "display_data"
    }
   ],
   "source": [
    "english_mapping = Dict(\n",
    "    'a' => \"01\", 'b' => \"02\", 'c' => \"03\", 'd' => \"04\", 'e' => \"05\",\n",
    "    'f' => \"06\", 'g' => \"07\", 'h' => \"08\", 'i' => \"09\", 'j' => \"10\",\n",
    "    'k' => \"11\", 'l' => \"12\", 'm' => \"13\", 'n' => \"14\", 'o' => \"15\",\n",
    "    'p' => \"16\", 'q' => \"17\", 'r' => \"18\", 's' => \"19\", 't' => \"20\",\n",
    "    'u' => \"21\", 'v' => \"22\", 'w' => \"23\", 'x' => \"24\", 'y' => \"25\",\n",
    "    'z' => \"26\"\n",
    ")\n",
    "\n",
    "function find_public_key(p::String, q::String)\n",
    "    p, q = parse(BigInt, p), parse(BigInt, q)\n",
    "    n, t = p * q, (p-1) * (q-1)\n",
    "    for e in 305407503811:(t-1)\n",
    "        if gcd(e, t) == 1\n",
    "            return (n, e)\n",
    "        end\n",
    "    end\n",
    "end\n",
    "\n",
    "function convert_to_bigint(s::String)\n",
    "    result = String[]\n",
    "    for c in s\n",
    "        push!(result, english_mapping[c])\n",
    "    end\n",
    "    return parse(BigInt, join(result))\n",
    "end\n",
    "\n",
    "function rsa_encrypt(plaintext::String, n::BigInt, e::Int)\n",
    "    m = convert_to_bigint(plaintext)\n",
    "    return string(powermod(m, e, n))\n",
    "end\n",
    "\n",
    "# Arnav\n",
    "A_encryption_n, A.Q7_1_a_ans_e = find_public_key(A.Q7_1_a_data_p, A.Q7_1_a_data_q)\n",
    "A.Q7_1_b_ans_i = rsa_encrypt(\"bat\", A_encryption_n, A.Q7_1_a_ans_e)\n",
    "A.Q7_1_b_ans_ii = rsa_encrypt(\"cat\", A_encryption_n, A.Q7_1_a_ans_e)\n",
    "A.Q7_1_b_ans_iii = rsa_encrypt(\"hat\", A_encryption_n, A.Q7_1_a_ans_e)\n",
    "\n",
    "# Ratul\n",
    "B_encryption_n, B.Q7_1_a_ans_e = find_public_key(B.Q7_1_a_data_p, B.Q7_1_a_data_q)\n",
    "B.Q7_1_b_ans_i = rsa_encrypt(\"bat\", B_encryption_n, B.Q7_1_a_ans_e)\n",
    "B.Q7_1_b_ans_ii = rsa_encrypt(\"cat\", B_encryption_n, B.Q7_1_a_ans_e)\n",
    "B.Q7_1_b_ans_iii = rsa_encrypt(\"hat\", B_encryption_n, B.Q7_1_a_ans_e)"
   ]
  },
  {
   "cell_type": "markdown",
   "id": "9b8ef128",
   "metadata": {},
   "source": [
    "### 7.2"
   ]
  },
  {
   "cell_type": "markdown",
   "id": "ece18773",
   "metadata": {},
   "source": []
  },
  {
   "cell_type": "code",
   "execution_count": null,
   "id": "c72d0565",
   "metadata": {},
   "outputs": [
    {
     "data": {
      "text/plain": [
       "250118140504"
      ]
     },
     "metadata": {},
     "output_type": "display_data"
    }
   ],
   "source": [
    "function find_factors(n::BigInt)\n",
    "    n_root = round(BigInt, sqrt(n))\n",
    "    for p in (n_root - 100):(n_root + 100)\n",
    "        if mod(n, p) == 0\n",
    "            q = n ÷ p\n",
    "            return (p, q)\n",
    "        end\n",
    "    end\n",
    "end\n",
    "\n",
    "function decrypt_rsa(ciphertext::String, n::String, e::String)\n",
    "    n, e = parse(BigInt, n), parse(BigInt, e)\n",
    "    p, q = find_factors(n)\n",
    "    t = (p-1) * (q-1)\n",
    "    c, d = parse(BigInt, ciphertext), invmod(e, t)\n",
    "    return powermod(c, d, n)\n",
    "end\n",
    "\n",
    "# Arnav\n",
    "A.Q7_2_ans_plaintext = decrypt_rsa(A.Q7_2_data_ciphertext, A.Q7_2_data_n, A.Q7_2_data_e)\n",
    "\n",
    "# Ratul\n",
    "B.Q7_2_ans_plaintext = decrypt_rsa(B.Q7_2_data_ciphertext, B.Q7_2_data_n, B.Q7_2_data_e)"
   ]
  },
  {
   "cell_type": "markdown",
   "id": "c7c0a8bd",
   "metadata": {},
   "source": [
    "### 7.3"
   ]
  },
  {
   "cell_type": "markdown",
   "id": "02ae850d",
   "metadata": {},
   "source": []
  },
  {
   "cell_type": "code",
   "execution_count": null,
   "id": "69fbab6a",
   "metadata": {},
   "outputs": [
    {
     "data": {
      "text/plain": [
       "true"
      ]
     },
     "metadata": {},
     "output_type": "display_data"
    }
   ],
   "source": [
    "alice_secret = \"apple\"\n",
    "bob_secret = \"banana\"\n",
    "charlie_secret = \"cherry\"\n",
    "arnav_prime_number = parse(BigInt, A.Q7_3_data_p)\n",
    "ratul_prime_number = parse(BigInt, B.Q7_3_data_p)\n",
    "\n",
    "function find_pk(secret::String, p::BigInt, g::BigInt)\n",
    "    public_key = powermod(g, convert_to_bigint(secret), p)\n",
    "    return string(public_key)\n",
    "end\n",
    "\n",
    "function find_sk(private_key1::String, public_key1::String, private_key2::String, public_key2::String, p::BigInt)\n",
    "    public_key1, public_key2 = parse(BigInt, public_key1), parse(BigInt, public_key2)\n",
    "    secret_key12 = powermod(public_key2, convert_to_bigint(private_key1), p)\n",
    "    secret_key21 = powermod(public_key1, convert_to_bigint(private_key2), p)\n",
    "    if secret_key12 == secret_key21\n",
    "        return string(secret_key12)\n",
    "    else\n",
    "        error(\"Shared secrets do not match\")\n",
    "    end\n",
    "end\n",
    "\n",
    "function encrypt_message(message::String, k::String, p::BigInt, g::BigInt, a::String)\n",
    "    result = String[]\n",
    "    message = convert_to_bigint(message)\n",
    "    a, k = parse(BigInt, a), parse(BigInt, k)\n",
    "    push!(result, string(powermod(g, k, p)))\n",
    "    push!(result, string((message * powermod(a, k, p)) % p))\n",
    "    return result\n",
    "end\n",
    "\n",
    "function signed_message(message::String, a_prime::String, p::BigInt, g::BigInt)\n",
    "    k = BigInt(5000)\n",
    "    while gcd(k, p-1) != 1\n",
    "        k += 1\n",
    "    end\n",
    "    message, a_prime = convert_to_bigint(message), convert_to_bigint(a_prime)\n",
    "    r = powermod(g, k, p)\n",
    "    k_inverse = invmod(k, p-1)\n",
    "    s = mod(k_inverse * (message - (a_prime * r)), p-1)\n",
    "    # Are we meant to also return the message?\n",
    "    return Array{String}(string.([message, r, s]))\n",
    "end\n",
    "\n",
    "function verify_message(signed_message::Array{String}, p::BigInt, g::BigInt, a::String)\n",
    "    a = parse(BigInt, a)\n",
    "    m, r, s = parse(BigInt, signed_message[1]), parse(BigInt, signed_message[2]), parse(BigInt, signed_message[3])\n",
    "    v1 = mod(powermod(a, r, p) * powermod(r, s, p), p)\n",
    "    v2 = powermod(g, m, p)\n",
    "    return v1 == v2\n",
    "end\n",
    "\n",
    "# Arnav\n",
    "A.Q7_3_a_ans_g = next_primitive_root(BigInt(305407503811), arnav_prime_number)\n",
    "A.Q7_3_b_ans_Alice_pk = find_pk(alice_secret, arnav_prime_number, A.Q7_3_a_ans_g )\n",
    "A.Q7_3_b_ans_Bob_pk = find_pk(bob_secret, arnav_prime_number, A.Q7_3_a_ans_g )\n",
    "A.Q7_3_b_ans_Charlie_pk = find_pk(charlie_secret, arnav_prime_number, A.Q7_3_a_ans_g )\n",
    "A.Q7_3_c_ans_secret_key_AB = find_sk(alice_secret, A.Q7_3_b_ans_Alice_pk, bob_secret, A.Q7_3_b_ans_Bob_pk, arnav_prime_number)\n",
    "A.Q7_3_c_ans_secret_key_BC = find_sk(bob_secret, A.Q7_3_b_ans_Bob_pk, charlie_secret, A.Q7_3_b_ans_Charlie_pk, arnav_prime_number)\n",
    "A.Q7_3_c_ans_secret_key_AC = find_sk(alice_secret, A.Q7_3_b_ans_Alice_pk, charlie_secret, A.Q7_3_b_ans_Charlie_pk, arnav_prime_number)\n",
    "A.Q7_3_d_ans_enc_msg = encrypt_message(\"nice\", A.Q7_3_d_data_k, arnav_prime_number, A.Q7_3_a_ans_g, A.Q7_3_b_ans_Alice_pk)\n",
    "A.Q7_3_e_ans_signed_msg = signed_message(\"seven\", alice_secret, arnav_prime_number, A.Q7_3_a_ans_g)\n",
    "A.Q7_3_f_ans_T_or_F = verify_message(A.Q7_3_f_data_msg, arnav_prime_number, A.Q7_3_a_ans_g, A.Q7_3_b_ans_Alice_pk)\n",
    "A.Q7_3_g_ans_T_or_F = verify_message(A.Q7_3_g_data_msg, arnav_prime_number, A.Q7_3_a_ans_g, A.Q7_3_b_ans_Charlie_pk)\n",
    "\n",
    "# Ratul\n",
    "B.Q7_3_a_ans_g = next_primitive_root(BigInt(305407503811), ratul_prime_number)\n",
    "B.Q7_3_b_ans_Alice_pk = find_pk(alice_secret, ratul_prime_number, B.Q7_3_a_ans_g )\n",
    "B.Q7_3_b_ans_Bob_pk = find_pk(bob_secret, ratul_prime_number, B.Q7_3_a_ans_g )\n",
    "B.Q7_3_b_ans_Charlie_pk = find_pk(charlie_secret, ratul_prime_number, B.Q7_3_a_ans_g )\n",
    "B.Q7_3_c_ans_secret_key_AB = find_sk(alice_secret, B.Q7_3_b_ans_Alice_pk, bob_secret, B.Q7_3_b_ans_Bob_pk, ratul_prime_number)\n",
    "B.Q7_3_c_ans_secret_key_BC = find_sk(bob_secret, B.Q7_3_b_ans_Bob_pk, charlie_secret, B.Q7_3_b_ans_Charlie_pk, ratul_prime_number)\n",
    "B.Q7_3_c_ans_secret_key_AC = find_sk(alice_secret, B.Q7_3_b_ans_Alice_pk, charlie_secret, B.Q7_3_b_ans_Charlie_pk, ratul_prime_number)\n",
    "B.Q7_3_d_ans_enc_msg = encrypt_message(\"nice\", B.Q7_3_d_data_k, ratul_prime_number, B.Q7_3_a_ans_g, B.Q7_3_b_ans_Alice_pk)\n",
    "B.Q7_3_e_ans_signed_msg = signed_message(\"seven\", alice_secret, ratul_prime_number, B.Q7_3_a_ans_g)\n",
    "B.Q7_3_f_ans_T_or_F = verify_message(B.Q7_3_f_data_msg, ratul_prime_number, B.Q7_3_a_ans_g, B.Q7_3_b_ans_Alice_pk)\n",
    "B.Q7_3_g_ans_T_or_F = verify_message(B.Q7_3_g_data_msg, ratul_prime_number, B.Q7_3_a_ans_g, B.Q7_3_b_ans_Charlie_pk)"
   ]
  },
  {
   "cell_type": "markdown",
   "id": "a1ed1e7d",
   "metadata": {},
   "source": [
    "### 7.4"
   ]
  },
  {
   "cell_type": "markdown",
   "id": "e7bdd7fa",
   "metadata": {},
   "source": []
  },
  {
   "cell_type": "code",
   "execution_count": 225,
   "id": "1a047555",
   "metadata": {},
   "outputs": [
    {
     "data": {
      "text/plain": [
       "(3, \"14146647558954899436\")"
      ]
     },
     "metadata": {},
     "output_type": "display_data"
    }
   ],
   "source": [
    "function lagrangian_interpolation(x::Array{String}, y::Array{String}, p::String)\n",
    "    t = length(x)\n",
    "    x, y = [parse(BigInt, i) for i in x], [parse(BigInt, j) for j in y]\n",
    "    p = parse(BigInt, p)\n",
    "    yklk = []\n",
    "    fx = Polynomial([0])\n",
    "    for k in 1:t\n",
    "        lk = Polynomial([1])\n",
    "        for i in 1:t\n",
    "            if i != k\n",
    "                numerator = Polynomial([-x[i], 1])\n",
    "                denominator = mod(x[k] - x[i], p)\n",
    "                lk *= numerator * invmod(denominator, p)\n",
    "                lk = Polynomial([mod(c, p) for c in lk.coeffs])\n",
    "            end\n",
    "        end\n",
    "        lk *= y[k]\n",
    "        lk = Polynomial([mod(c, p) for c in lk.coeffs])\n",
    "        push!(yklk, [string(c) for c in lk])\n",
    "        fx += lk\n",
    "        fx = Polynomial([mod(c, p) for c in fx.coeffs])\n",
    "    end\n",
    "    return Vector{Vector{String}}(yklk), Vector{String}([string(n) for n in fx.coeffs])\n",
    "end\n",
    "\n",
    "function incorrect_share_and_secret(x::Array{String}, y::Array{String}, p::String)\n",
    "    secret_counts = Dict{BigInt, Vector{Vector{Int}}}()\n",
    "    x, y = [parse(BigInt, i) for i in x], [parse(BigInt, j) for j in y]\n",
    "    p = parse(BigInt, p)\n",
    "    for combination in combinations(1:7, 4)\n",
    "        comb_x, comb_y = [x[i] for i in combination], [y[i] for i in combination]\n",
    "        _, fx = lagrangian_interpolation(string.(comb_x), string.(comb_y), string(p))\n",
    "        secret = parse(BigInt, fx[1])\n",
    "        if haskey(secret_counts, secret)\n",
    "            push!(secret_counts[secret], combination)\n",
    "        else\n",
    "            secret_counts[secret] = [combination]\n",
    "        end\n",
    "    end\n",
    "    secret, correct_combinations = sort(collect(secret_counts), by = x -> -length(x[2]))[1]\n",
    "    all_indices = Set{Int}([i for i in 1:7])\n",
    "    setdiff!(all_indices, Set{Int}(Iterators.flatten(correct_combinations)))\n",
    "    return first(all_indices), string(secret)\n",
    "end\n",
    "\n",
    "# Arnav\n",
    "A.Q7_4_a_ans_yklk, A.Q7_4_a_ans_fx = lagrangian_interpolation(A.Q7_4_a_data_x_vector, A.Q7_4_a_data_y_vector, A.Q7_4_data_p)\n",
    "A.Q7_4_b_ans_error_idx, A.Q7_4_b_ans_secret = incorrect_share_and_secret(A.Q7_4_b_data_x_vector, A.Q7_4_b_data_y_vector, A.Q7_4_data_p)\n",
    "\n",
    "# Ratul\n",
    "B.Q7_4_a_ans_yklk, B.Q7_4_a_ans_fx = lagrangian_interpolation(B.Q7_4_a_data_x_vector, B.Q7_4_a_data_y_vector, B.Q7_4_data_p)\n",
    "B.Q7_4_b_ans_error_idx, B.Q7_4_b_ans_secret = incorrect_share_and_secret(B.Q7_4_b_data_x_vector, B.Q7_4_b_data_y_vector, B.Q7_4_data_p)"
   ]
  },
  {
   "cell_type": "markdown",
   "id": "2d1a95fe",
   "metadata": {},
   "source": [
    "### Write Back to File"
   ]
  },
  {
   "cell_type": "code",
   "execution_count": 226,
   "id": "d395c833",
   "metadata": {},
   "outputs": [],
   "source": [
    "jldopen(\"Arnav 2018546StudentFile.jld2\", \"w\") do file\n",
    "    write(file, \"CourseWork_2\", A)\n",
    "end\n",
    "\n",
    "jldopen(\"Ratul2015627StudentFile.jld2\", \"w\") do file\n",
    "    write(file, \"CourseWork_2\", B)\n",
    "end"
   ]
  },
  {
   "cell_type": "markdown",
   "id": "1db3c2f4",
   "metadata": {},
   "source": [
    "### Sanity Check"
   ]
  },
  {
   "cell_type": "code",
   "execution_count": 227,
   "id": "62ee2968",
   "metadata": {},
   "outputs": [
    {
     "data": {
      "text/plain": [
       "CourseWork_2(2018546, true, true, 189, 69, 326, 211, 283, 397, 7484570, 12345721301, 2, 72546381903481637629, 8517416848, false, 72546381903481626793, 8517416537, 8517416538, 569, [3, 6, 11, 12, 15, 19, 21, 22, 23, 24  …  545, 546, 547, 548, 550, 554, 557, 558, 563, 566], \"72546381903481640227\", \"34512678907890128849\", 305407503811, \"1358107657048822241952981174513017933114\", \"990173733696315796580548534273413457047\", \"1775542513356786193791034342018967765690\", \"5262977527285808395403494016820744410881\", \"48364254602321093405\", \"3794075953358415816471827081366171765693\", 7180914140504, \"72546381903481634893\", 305407503812, \"52390805359179257421\", \"28185003840720335952\", \"52900240062070031555\", \"27936616828862260020\", \"8802229964077003310\", \"17255438272111901394\", \"3657051488070426079\", [\"9835489648905852788\", \"29284407100240450021\"], [\"1905220514\", \"12901638018608823433\", \"59034426259135706715\"], [\"23011820091305\", \"12901638018608823433\", \"68851316239480895940\"], true, [\"20051404091407\", \"12901638018608823433\", \"12868324080640307266\"], true, \"34512678907890139477\", [\"8284652553211447780\", \"24594342225115662163\", \"28585286235860177045\"], [\"32874299817158098474\", \"8079047620856959020\", \"26588518993480700946\"], [[\"23098924569334238921\", \"28675582135848485802\", \"14251295170609925077\"], [\"19444525596699898578\", \"32150287761777231187\", \"9537364594187598366\"], [\"12179731849554137801\", \"22925064279465005464\", \"3773691554348498092\"]], [\"20210503107698135823\", \"14725576361310443499\", \"27562351319146021535\"], [\"232003460685494753\", \"9437413169614849865\", \"10658299073095858867\", \"17782023523164434462\", \"21314129325450439986\", \"30138736912171678793\", \"32433724471401151368\"], [\"20474869079536358924\", \"13562263242272783652\", \"3850238325529118483\", \"33695245841613573037\", \"6909366979343858093\", \"25512914902413119857\", \"20039970157581034233\"], 7, \"358678846373871311\")"
      ]
     },
     "metadata": {},
     "output_type": "display_data"
    }
   ],
   "source": [
    "A"
   ]
  },
  {
   "cell_type": "markdown",
   "id": "82316c98",
   "metadata": {},
   "source": [
    "### Sanity Check"
   ]
  },
  {
   "cell_type": "code",
   "execution_count": 228,
   "id": "6aadd4f1",
   "metadata": {},
   "outputs": [
    {
     "data": {
      "text/plain": [
       "CourseWork_2(2015627, true, true, 569, 384, 917, 677, 709, 971, 209686425, 12345781801, 2, 72546381903481627961, 8517417122, true, 72546381903481634567, 8517416411, 8517416411, 971, [6, 10, 11, 18, 24, 29, 30, 31, 33, 34  …  949, 950, 951, 952, 954, 956, 959, 962, 966, 968], \"72546381903481626911\", \"34512678907890126197\", 305407503813, \"962871516897528352021608579546781088910\", \"454073902432933306948179831603550124946\", \"1296519637295185943780984364457854818960\", \"5262977527285808792522388556479249836003\", \"48364254602321095229\", \"1776122459898188372234127634097686757246\", 250118140504, \"72546381903481637201\", 305407503811, \"28093603688389752057\", \"71151207711780729778\", \"18386037946706558539\", \"71700721704552415141\", \"62620823187544042456\", \"72537175296398088677\", \"17363096536673069463\", [\"15944138992187696751\", \"677912643993955197\"], [\"1905220514\", \"47238508702779748988\", \"48147290240780878774\"], [\"191721011908\", \"47238508702779748988\", \"52296113521041939368\"], true, [\"10092020051819\", \"47238508702779748988\", \"42890600845295366919\"], true, \"34512678907890134687\", [\"548534845934906114\", \"4985721623769475354\", \"18834731830867900317\"], [\"15060132656756932692\", \"5380677433633249930\", \"16187532257702783398\"], [[\"8459598554907563592\", \"33448664122571279802\", \"12350693373495852847\"], [\"7771278239906564296\", \"3340603490783423380\", \"29743370993748466065\"], [\"16350968279156311123\", \"22761772100379258377\", \"2228047829149817322\"]], [\"32581845073970439011\", \"25038360805843826872\", \"9809433288504001547\"], [\"1432033101454290480\", \"3599567382709543598\", \"6274615491910778191\", \"7239927611302657530\", \"23462352425922947388\", \"25903701191385223674\", \"32562258435052985169\"], [\"6964302031401096578\", \"21274962727663994256\", \"10051631747226646756\", \"11350151358559246850\", \"1288413405813886073\", \"23862516380996133930\", \"27528862770835261765\"], 3, \"14146647558954899436\")"
      ]
     },
     "metadata": {},
     "output_type": "display_data"
    }
   ],
   "source": [
    "B"
   ]
  }
 ],
 "metadata": {
  "kernelspec": {
   "display_name": "Julia 1.10.5",
   "language": "julia",
   "name": "julia-1.10"
  },
  "language_info": {
   "file_extension": ".jl",
   "mimetype": "application/julia",
   "name": "julia",
   "version": "1.10.5"
  }
 },
 "nbformat": 4,
 "nbformat_minor": 5
}
