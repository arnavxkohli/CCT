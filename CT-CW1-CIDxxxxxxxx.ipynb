{
 "cells": [
  {
   "cell_type": "markdown",
   "id": "9fdea660",
   "metadata": {},
   "source": [
    "# Coursework 1 - Coding Theory\n",
    "\n",
    "### PLAGIARISM/COLLUSION DECLARATION\n",
    "\n",
    "Coursework submitted for assessment must be the original work of you and your group. Assignments are subjected to regular checks for plagiarism and/or collusion. Plagiarism is the presentation of another person’s thoughts or words (those outside your group) as if they were your own. Collusion involves obtaining help from someone outside your group to complete your work. In preparing your coursework, you should not seek help, or copy from any other person or source, including the\n",
    "Internet, without proper and explicit acknowledgement.\n",
    "\n",
    "There is a procedure in place for you to declare individual contributions within your group for courswork. You must declare the contributions fairly and accurately.\n",
    "\n",
    "You must not disclose your solutions or insights related to coursework with anyone else, including future students or the Internet.\n",
    "\n",
    "By acknowledging the the statements above, you are declaring that both this and all subsequent pieces of coursework are, and will remain, the original work of you and your group. \n",
    "\n",
    "* Submissions will not be accepted without the aforementioned declaration.\n",
    "\n",
    "* Members of a group are deemed to have collective responsibility for the integrity for work submitted and are liable for any penalty imposed, proportionate to their contributions. \n",
    "\n"
   ]
  },
  {
   "cell_type": "markdown",
   "id": "7db0c9d5",
   "metadata": {},
   "source": [
    "### Due Date\n",
    "Week 4, 25th Oct. (Time: 11:59)"
   ]
  },
  {
   "cell_type": "code",
   "execution_count": 2,
   "id": "d8d22128",
   "metadata": {},
   "outputs": [
    {
     "name": "stderr",
     "output_type": "stream",
     "text": [
      "\u001b[32m\u001b[1m  Installing\u001b[22m\u001b[39m known registries into `~/.julia`\n",
      "\u001b[32m\u001b[1m       Added\u001b[22m\u001b[39m `General` registry to ~/.julia/registries\n",
      "\u001b[32m\u001b[1m    Updating\u001b[22m\u001b[39m registry at `~/.julia/registries/General.toml`\n",
      "\u001b[32m\u001b[1m   Resolving\u001b[22m\u001b[39m package versions...\n",
      "\u001b[32m\u001b[1m   Installed\u001b[22m\u001b[39m Requires ─ v1.3.0\n",
      "\u001b[32m\u001b[1m   Installed\u001b[22m\u001b[39m FileIO ─── v1.16.4\n",
      "\u001b[32m\u001b[1m    Updating\u001b[22m\u001b[39m `~/.julia/environments/v1.10/Project.toml`\n",
      "  \u001b[90m[5789e2e9] \u001b[39m\u001b[92m+ FileIO v1.16.4\u001b[39m\n",
      "\u001b[32m\u001b[1m    Updating\u001b[22m\u001b[39m `~/.julia/environments/v1.10/Manifest.toml`\n",
      "  \u001b[90m[5789e2e9] \u001b[39m\u001b[92m+ FileIO v1.16.4\u001b[39m\n",
      "  \u001b[90m[ae029012] \u001b[39m\u001b[92m+ Requires v1.3.0\u001b[39m\n",
      "  \u001b[90m[0dad84c5] \u001b[39m\u001b[92m+ ArgTools v1.1.1\u001b[39m\n",
      "  \u001b[90m[56f22d72] \u001b[39m\u001b[92m+ Artifacts\u001b[39m\n",
      "  \u001b[90m[2a0f44e3] \u001b[39m\u001b[92m+ Base64\u001b[39m\n",
      "  \u001b[90m[ade2ca70] \u001b[39m\u001b[92m+ Dates\u001b[39m\n",
      "  \u001b[90m[f43a241f] \u001b[39m\u001b[92m+ Downloads v1.6.0\u001b[39m\n",
      "  \u001b[90m[7b1f6079] \u001b[39m\u001b[92m+ FileWatching\u001b[39m\n",
      "  \u001b[90m[b77e0a4c] \u001b[39m\u001b[92m+ InteractiveUtils\u001b[39m\n",
      "  \u001b[90m[b27032c2] \u001b[39m\u001b[92m+ LibCURL v0.6.4\u001b[39m\n",
      "  \u001b[90m[76f85450] \u001b[39m\u001b[92m+ LibGit2\u001b[39m\n",
      "  \u001b[90m[8f399da3] \u001b[39m\u001b[92m+ Libdl\u001b[39m\n",
      "  \u001b[90m[56ddb016] \u001b[39m\u001b[92m+ Logging\u001b[39m\n",
      "  \u001b[90m[d6f4376e] \u001b[39m\u001b[92m+ Markdown\u001b[39m\n",
      "  \u001b[90m[ca575930] \u001b[39m\u001b[92m+ NetworkOptions v1.2.0\u001b[39m\n",
      "  \u001b[90m[44cfe95a] \u001b[39m\u001b[92m+ Pkg v1.10.0\u001b[39m\n",
      "  \u001b[90m[de0858da] \u001b[39m\u001b[92m+ Printf\u001b[39m\n",
      "  \u001b[90m[3fa0cd96] \u001b[39m\u001b[92m+ REPL\u001b[39m\n",
      "  \u001b[90m[9a3f8284] \u001b[39m\u001b[92m+ Random\u001b[39m\n",
      "  \u001b[90m[ea8e919c] \u001b[39m\u001b[92m+ SHA v0.7.0\u001b[39m\n",
      "  \u001b[90m[9e88b42a] \u001b[39m\u001b[92m+ Serialization\u001b[39m\n",
      "  \u001b[90m[6462fe0b] \u001b[39m\u001b[92m+ Sockets\u001b[39m\n",
      "  \u001b[90m[fa267f1f] \u001b[39m\u001b[92m+ TOML v1.0.3\u001b[39m\n",
      "  \u001b[90m[a4e569a6] \u001b[39m\u001b[92m+ Tar v1.10.0\u001b[39m\n",
      "  \u001b[90m[cf7118a7] \u001b[39m\u001b[92m+ UUIDs\u001b[39m\n",
      "  \u001b[90m[4ec0a83e] \u001b[39m\u001b[92m+ Unicode\u001b[39m\n",
      "  \u001b[90m[deac9b47] \u001b[39m\u001b[92m+ LibCURL_jll v8.4.0+0\u001b[39m\n",
      "  \u001b[90m[e37daf67] \u001b[39m\u001b[92m+ LibGit2_jll v1.6.4+0\u001b[39m\n",
      "  \u001b[90m[29816b5a] \u001b[39m\u001b[92m+ LibSSH2_jll v1.11.0+1\u001b[39m\n",
      "  \u001b[90m[c8ffd9c3] \u001b[39m\u001b[92m+ MbedTLS_jll v2.28.2+1\u001b[39m\n",
      "  \u001b[90m[14a3606d] \u001b[39m\u001b[92m+ MozillaCACerts_jll v2023.1.10\u001b[39m\n",
      "  \u001b[90m[83775a58] \u001b[39m\u001b[92m+ Zlib_jll v1.2.13+1\u001b[39m\n",
      "  \u001b[90m[8e850ede] \u001b[39m\u001b[92m+ nghttp2_jll v1.52.0+1\u001b[39m\n",
      "  \u001b[90m[3f19e933] \u001b[39m\u001b[92m+ p7zip_jll v17.4.0+2\u001b[39m\n",
      "\u001b[32m\u001b[1mPrecompiling\u001b[22m\u001b[39m project...\n",
      "\u001b[32m  ✓ \u001b[39m\u001b[90mRequires\u001b[39m\n",
      "\u001b[32m  ✓ \u001b[39mFileIO\n",
      "  2 dependencies successfully precompiled in 3 seconds. 1 already precompiled.\n",
      "\u001b[32m\u001b[1m   Resolving\u001b[22m\u001b[39m package versions...\n",
      "\u001b[32m\u001b[1m   Installed\u001b[22m\u001b[39m OrderedCollections ─ v1.6.3\n",
      "\u001b[32m\u001b[1m   Installed\u001b[22m\u001b[39m MacroTools ───────── v0.5.13\n",
      "\u001b[32m\u001b[1m   Installed\u001b[22m\u001b[39m JLD2 ─────────────── v0.5.5\n",
      "\u001b[32m\u001b[1m   Installed\u001b[22m\u001b[39m TranscodingStreams ─ v0.11.3\n",
      "\u001b[32m\u001b[1m   Installed\u001b[22m\u001b[39m Preferences ──────── v1.4.3\n",
      "\u001b[32m\u001b[1m   Installed\u001b[22m\u001b[39m PrecompileTools ──── v1.2.1\n",
      "\u001b[32m\u001b[1m    Updating\u001b[22m\u001b[39m `~/.julia/environments/v1.10/Project.toml`\n",
      "  \u001b[90m[033835bb] \u001b[39m\u001b[92m+ JLD2 v0.5.5\u001b[39m\n",
      "\u001b[32m\u001b[1m    Updating\u001b[22m\u001b[39m `~/.julia/environments/v1.10/Manifest.toml`\n",
      "  \u001b[90m[033835bb] \u001b[39m\u001b[92m+ JLD2 v0.5.5\u001b[39m\n",
      "  \u001b[90m[1914dd2f] \u001b[39m\u001b[92m+ MacroTools v0.5.13\u001b[39m\n",
      "  \u001b[90m[bac558e1] \u001b[39m\u001b[92m+ OrderedCollections v1.6.3\u001b[39m\n",
      "  \u001b[90m[aea7be01] \u001b[39m\u001b[92m+ PrecompileTools v1.2.1\u001b[39m\n",
      "  \u001b[90m[21216c6a] \u001b[39m\u001b[92m+ Preferences v1.4.3\u001b[39m\n",
      "  \u001b[90m[3bb67fe8] \u001b[39m\u001b[92m+ TranscodingStreams v0.11.3\u001b[39m\n",
      "  \u001b[90m[a63ad114] \u001b[39m\u001b[92m+ Mmap\u001b[39m\n",
      "\u001b[32m\u001b[1mPrecompiling\u001b[22m\u001b[39m project...\n",
      "\u001b[32m  ✓ \u001b[39m\u001b[90mOrderedCollections\u001b[39m\n",
      "\u001b[32m  ✓ \u001b[39m\u001b[90mTranscodingStreams\u001b[39m\n",
      "\u001b[32m  ✓ \u001b[39m\u001b[90mPreferences\u001b[39m\n",
      "\u001b[32m  ✓ \u001b[39m\u001b[90mPrecompileTools\u001b[39m\n",
      "\u001b[32m  ✓ \u001b[39m\u001b[90mMacroTools\u001b[39m\n",
      "\u001b[32m  ✓ \u001b[39mJLD2\n",
      "  6 dependencies successfully precompiled in 15 seconds. 3 already precompiled.\n"
     ]
    }
   ],
   "source": [
    "using Pkg\n",
    "Pkg.add(\"FileIO\")\n",
    "Pkg.add(\"JLD2\")\n",
    "using FileIO, JLD2"
   ]
  },
  {
   "cell_type": "code",
   "execution_count": 3,
   "id": "53773a16",
   "metadata": {},
   "outputs": [
    {
     "data": {
      "text/plain": [
       "CourseWork_1"
      ]
     },
     "metadata": {},
     "output_type": "display_data"
    }
   ],
   "source": [
    "Base.@kwdef mutable struct CourseWork_1\n",
    "    CID::Int\n",
    "    Plagiarism_declare::Union{Missing,Bool}\n",
    "    Demo_willing::Union{Missing,Bool}\n",
    "    \n",
    "    \"Chapter 4\"\n",
    "    # 4.1 Congurence equations\n",
    "    Q4_1_a_data_a::Int\n",
    "    Q4_1_a_data_b::Int\n",
    "    Q4_1_a_data_n::Int\n",
    "    Q4_1_a_ans_x::Union{Missing, Int, Array{Int}}\n",
    "\n",
    "    Q4_1_b_data_a::Int\n",
    "    Q4_1_b_data_b::Int\n",
    "    Q4_1_b_data_n::Int\n",
    "    Q4_1_b_ans_x::Union{Missing, Int, Array{Int}}\n",
    "\n",
    "    Q4_1_c_data_a::Int\n",
    "    Q4_1_c_data_b::Int\n",
    "    Q4_1_c_data_n::Int\n",
    "    Q4_1_c_ans_x::Union{Missing, Int, Array{Int}}\n",
    "\n",
    "    Q4_1_d_data_a::Int\n",
    "    Q4_1_d_data_b::Int\n",
    "    Q4_1_d_data_n::Int\n",
    "    Q4_1_d_ans_x::Union{Missing, Int, Array{Int}}\n",
    "\n",
    "    Q4_1_e_data_a::Int\n",
    "    Q4_1_e_data_b::Int\n",
    "    Q4_1_e_data_n::Int\n",
    "    Q4_1_e_ans_x::Union{Missing, Int, Array{Int}}\n",
    "\n",
    "    Q4_1_f_data_a::Int\n",
    "    Q4_1_f_data_b::Int\n",
    "    Q4_1_f_data_n::Int\n",
    "    Q4_1_f_ans_x::Union{Missing, Int, Array{Int}}\n",
    "\n",
    "    # Q4.3\n",
    "    Q4_3_a_data_b::Int\n",
    "    Q4_3_a_data_p::Int\n",
    "    Q4_3_a_data_n::Int\n",
    "    Q4_3_a_ans::Union{Missing, Int, Array{Int}}\n",
    "\n",
    "    Q4_3_b_data_b::Int\n",
    "    Q4_3_b_data_p::Int\n",
    "    Q4_3_b_data_n::Int\n",
    "    Q4_3_b_ans::Union{Missing, Int, Array{Int}}\n",
    "\n",
    "    Q4_3_c_data_b::Int\n",
    "    Q4_3_c_data_p::Int\n",
    "    Q4_3_c_data_n::Int\n",
    "    Q4_3_c_ans::Union{Missing, Int, Array{Int}}\n",
    "\n",
    "    Q4_3_d_data_b::Int\n",
    "    Q4_3_d_data_p::Int\n",
    "    Q4_3_d_data_n::Int\n",
    "    Q4_3_d_ans::Union{Missing, Int, Array{Int}}\n",
    "\n",
    "    Q4_3_e_data_b::Int\n",
    "    Q4_3_e_data_p::Int\n",
    "    Q4_3_e_data_n::Int\n",
    "    Q4_3_e_ans::Union{Missing, Int, Array{Int}}\n",
    "\n",
    "    # Q4.4.a\n",
    "    Q4_4_a_data_a::Int\n",
    "    Q4_4_a_ans_b::Union{Missing, Int, Array{Int}}\n",
    "\n",
    "    # Q4.4.b\n",
    "    Q4_4_b_data_a::Int\n",
    "    Q4_4_b_data_b::Int\n",
    "    Q4_4_b_ans_p::Union{Missing, Int, Array{Int}}\n",
    "\n",
    "    # Q4.5.a\n",
    "    Q4_5_a_data_M ::Array{Int}\n",
    "    Q4_5_a_data_m ::Int\n",
    "    Q4_5_a_ans::Union{Missing, Int, Array{Int}}\n",
    "\n",
    "    # Q4.5.b\n",
    "    Q4_5_b_data_M ::Array{Int}\n",
    "    Q4_5_b_data_m ::Int\n",
    "    Q4_5_b_ans::Union{Missing, Int, Array{Int} }\n",
    "\n",
    "    # Q4.5.c\n",
    "    Q4_5_c_data_M ::Array{Int}\n",
    "    Q4_5_c_data_m ::Int\n",
    "    Q4_5_c_ans::Union{Missing, Int, Array{Int}}\n",
    "    \n",
    "\n",
    "    \"Chapter 5\"\n",
    "    # Q5.1 Shift Cipher\n",
    "    Q5_1_data_encrypted_quote1::String\n",
    "    Q5_1_data_encrypted_quote2::String\n",
    "    Q5_1_ans_quote1::Union{Missing, String}\n",
    "    Q5_1_ans_quote2::Union{Missing, String}\n",
    "\n",
    "    # Q5.2 Affine Cipher\n",
    "    Q5_2_data_encrypted_para::String\n",
    "    Q5_2_data_encrypted_quote1::String\n",
    "    Q5_2_data_encrypted_quote2::String\n",
    "    Q5_2_ans_para::Union{Missing, String}\n",
    "    Q5_2_ans_quote1::Union{Missing, String}\n",
    "    Q5_2_ans_quote2::Union{Missing, String}\n",
    "\n",
    "    # Q5.3 Vigenere cipher\n",
    "    Q5_3_data_encrypted_para::String\n",
    "    Q5_3_a_ans_len_key::Union{Missing, Int}\n",
    "    Q5_3_b_ans_key::Union{Missing, String}\n",
    "    Q5_3_b_ans_para::Union{Missing, String}\n",
    "\n",
    "    # Q5.4 Block cipher\n",
    "    Q5_4_data_A :: Array{Int64,2}\n",
    "    Q5_4_data_b :: Array{Int64,1}\n",
    "    Q5_4_plain_text :: String\n",
    "\n",
    "    Q5_4_a_ans :: Union{Missing, String }\n",
    "    Q5_4_b_ans :: Union{Missing, Array{Float64, 1} }\n",
    "\n",
    "end"
   ]
  },
  {
   "cell_type": "code",
   "execution_count": 4,
   "id": "052f7342",
   "metadata": {},
   "outputs": [],
   "source": [
    "# Download and upload data from JLD file, refer to https://juliaio.github.io/JLD2.jl/dev/ \n",
    "\n",
    "# Example \n",
    "A = JLD2.load(\"Arnav 2018546StudentFile.jld2\");\n",
    "A = A[ \"CourseWork_1\" ];\n",
    "A.Demo_willing = true;\n",
    "\n",
    "jldopen(\"Arnav 2018546StudentFile.jld2\", \"w\") do file\n",
    "   write(file, \"CourseWork_1\", A)\n",
    "end"
   ]
  },
  {
   "cell_type": "markdown",
   "id": "237a63e0",
   "metadata": {},
   "source": [
    "### 4.1\n",
    "* If the subproblem has more than one solution, arrange all the solutions into a vector in ascending order;\n",
    "* If only one solution, save it as type Int;\n",
    "* If no solution, save it as []."
   ]
  },
  {
   "cell_type": "code",
   "execution_count": 5,
   "id": "db08cb67",
   "metadata": {},
   "outputs": [
    {
     "name": "stdout",
     "output_type": "stream",
     "text": [
      "17\n"
     ]
    }
   ],
   "source": [
    "# save your answers in Q4_1_a_ans_x, Q4_1_b_ans_x, Q4_1_c_ans_x, Q4_1_d_ans_x, Q4_1_e_ans_x, Q4_1_f_ans_x\n",
    "function extended_gcd(n1::Int, n2::Int)\n",
    "    if n2 == 0\n",
    "        return n1, 1, 0\n",
    "    end\n",
    "    g, x_prev, y_prev = extended_gcd(n2, n1 % n2)\n",
    "    x_curr = y_prev\n",
    "    y_curr = x_prev - (n1 ÷ n2) * y_prev\n",
    "    return g, x_curr, y_curr\n",
    "end\n",
    "\n",
    "function find_congruence(a::Int, b::Int, n::Int)\n",
    "    g, x, y = extended_gcd(a, n)\n",
    "    if b % g != 0\n",
    "        return []\n",
    "    end\n",
    "    inc = (n ÷ g)\n",
    "    x = ((x * (b ÷ g)) % inc + inc) % inc\n",
    "    return [x + inc * index for index in 0:(g-1)]\n",
    "end\n",
    "\n",
    "println(A.Q4_1_a_ans_x)"
   ]
  },
  {
   "cell_type": "markdown",
   "id": "9b8ef128",
   "metadata": {},
   "source": [
    "### 4.2\n"
   ]
  },
  {
   "cell_type": "code",
   "execution_count": null,
   "id": "c72d0565",
   "metadata": {},
   "outputs": [],
   "source": []
  },
  {
   "cell_type": "markdown",
   "id": "c7c0a8bd",
   "metadata": {},
   "source": [
    "### 4.3\n",
    "* If the subproblem has more than one solution, arrange all the solutions into a vector in ascending order;\n",
    "* If only one solution, save it as type Int;\n",
    "* If no solution, save it as []."
   ]
  },
  {
   "cell_type": "code",
   "execution_count": null,
   "id": "383c26a7",
   "metadata": {},
   "outputs": [],
   "source": [
    "# save your answers in Q4_3_a_ans, Q4_3_b_ans, Q4_3_c_ans, Q4_3_d_ans, Q4_3_e_ans"
   ]
  },
  {
   "cell_type": "markdown",
   "id": "32c442b3",
   "metadata": {},
   "source": [
    "### 4.4\n"
   ]
  },
  {
   "cell_type": "code",
   "execution_count": null,
   "id": "55680c79",
   "metadata": {},
   "outputs": [],
   "source": [
    "# save your answers in Q4_4_a_ans_b, Q4_4_b_ans_p"
   ]
  },
  {
   "cell_type": "markdown",
   "id": "5ba27dd4",
   "metadata": {},
   "source": [
    "### 4.5"
   ]
  },
  {
   "cell_type": "code",
   "execution_count": null,
   "id": "dc841e55",
   "metadata": {},
   "outputs": [],
   "source": [
    "# save your answers in Q4_5_a_ans, Q4_5_b_ans, Q4_5_c_ans"
   ]
  },
  {
   "cell_type": "markdown",
   "id": "8716ed07",
   "metadata": {},
   "source": [
    "### 5.1\n"
   ]
  },
  {
   "cell_type": "code",
   "execution_count": null,
   "id": "2b7f24f9",
   "metadata": {},
   "outputs": [],
   "source": [
    "# save your answers in Q5_1_ans_quote1, Q5_1_ans_quote2"
   ]
  },
  {
   "cell_type": "markdown",
   "id": "59cf540e",
   "metadata": {},
   "source": [
    "### 5.2\n"
   ]
  },
  {
   "cell_type": "code",
   "execution_count": null,
   "id": "61a20029",
   "metadata": {},
   "outputs": [],
   "source": [
    "# save your answers in Q5_2_ans_para, Q5_2_ans_quote1, Q5_2_ans_quote2"
   ]
  },
  {
   "cell_type": "markdown",
   "id": "7d5f661b",
   "metadata": {},
   "source": [
    "### 5.3\n"
   ]
  },
  {
   "cell_type": "code",
   "execution_count": null,
   "id": "84c336e2",
   "metadata": {},
   "outputs": [],
   "source": [
    "# save your answers in Q5_3_a_ans_len_key, Q5_3_b_ans_key, Q5_3_b_ans_para"
   ]
  },
  {
   "cell_type": "markdown",
   "id": "aab85cc1",
   "metadata": {},
   "source": [
    "### 5.4\n"
   ]
  },
  {
   "cell_type": "code",
   "execution_count": null,
   "id": "8cece281",
   "metadata": {},
   "outputs": [],
   "source": [
    "# save your answers in Q5_4_a_ans, Q5_4_b_ans. \n",
    "# save Q5_4_b_ans as Array{Float64, 1}, whose frequency is for from letter a to z. "
   ]
  }
 ],
 "metadata": {
  "kernelspec": {
   "display_name": "Julia 1.10.5",
   "language": "julia",
   "name": "julia-1.10"
  },
  "language_info": {
   "file_extension": ".jl",
   "mimetype": "application/julia",
   "name": "julia",
   "version": "1.10.5"
  }
 },
 "nbformat": 4,
 "nbformat_minor": 5
}
