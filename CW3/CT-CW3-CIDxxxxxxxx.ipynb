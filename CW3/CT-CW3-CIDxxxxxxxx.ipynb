{
 "cells": [
  {
   "cell_type": "markdown",
   "id": "9fdea660",
   "metadata": {},
   "source": [
    "# Coursework 3 - Coding Theory\n",
    "\n",
    "### PLAGIARISM/COLLUSION DECLARATION\n",
    "\n",
    "Coursework submitted for assessment must be the original work of you and your group. Assignments are subjected to regular checks for plagiarism and/or collusion. Plagiarism is the presentation of another person’s thoughts or words (those outside your group) as if they were your own. Collusion involves obtaining help from someone outside your group to complete your work. In preparing your coursework, you should not seek help, or copy from any other person or source, including the\n",
    "Internet, without proper and explicit acknowledgement.\n",
    "\n",
    "There is a procedure in place for you to declare individual contributions within your group for courswork. You must declare the contributions fairly and accurately.\n",
    "\n",
    "You must not disclose your solutions or insights related to coursework with anyone else, including future students or the Internet.\n",
    "\n",
    "By acknowledging the the statements above, you are declaring that both this and all subsequent pieces of coursework are, and will remain, the original work of you and your group. \n",
    "\n",
    "* Submissions will not be accepted without the aforementioned declaration.\n",
    "\n",
    "* Members of a group are deemed to have collective responsibility for the integrity for work submitted and are liable for any penalty imposed, proportionate to their contributions. \n",
    "\n"
   ]
  },
  {
   "cell_type": "code",
   "execution_count": 1,
   "id": "d8d22128",
   "metadata": {},
   "outputs": [],
   "source": [
    "using FileIO, JLD2"
   ]
  },
  {
   "cell_type": "code",
   "execution_count": 2,
   "id": "79e56457",
   "metadata": {},
   "outputs": [
    {
     "data": {
      "text/plain": [
       "CourseWork_3"
      ]
     },
     "metadata": {},
     "output_type": "display_data"
    }
   ],
   "source": [
    "Base.@kwdef mutable struct CourseWork_3\n",
    "    CID::Int\n",
    "    Plagiarism_declare::Union{Missing,Bool}\n",
    "    Demo_willing::Union{Missing,Bool}\n",
    "    \n",
    "\n",
    "    \"Chapter 8\"\n",
    "    # Q8.1\n",
    "    Q8_1_a_data_p::Int\n",
    "    Q8_1_a_data_d::Int\n",
    "    Q8_1_a_ans_polys::Union{Missing, Vector{Vector{Int}}}\n",
    "\n",
    "    Q8_1_b_data_p::Int\n",
    "    Q8_1_b_data_d::Int\n",
    "    Q8_1_b_ans_polys::Union{Missing, Vector{Vector{Int}}}\n",
    "\n",
    "    # Q8.2\n",
    "    Q8_2_data_coeffs::Vector{Int}\n",
    "    Q8_2_a_ans_is_irreducible::Union{Missing,Bool}\n",
    "    Q8_2_b_ans_is_irreducible::Union{Missing,Bool}\n",
    "    Q8_2_c_ans_is_irreducible::Union{Missing,Bool}\n",
    " \n",
    "    # Q8.3\n",
    "    Q8_3_a_data_m::Vector{Int}\n",
    "    Q8_3_a_data_a::Vector{Int}\n",
    "    Q8_3_a_data_b::Vector{Int}\n",
    "    Q8_3_a_ans_p::Union{Missing, Vector{Vector{Int}}} # remind template form[[]]\n",
    " \n",
    "    Q8_3_b_data_m::Vector{Int}\n",
    "    Q8_3_b_data_a::Vector{Int}\n",
    "    Q8_3_b_data_b::Vector{Int}\n",
    "    Q8_3_b_ans_p::Union{Missing, Vector{Vector{Int}}}\n",
    " \n",
    "    Q8_3_c_data_m::Vector{Int}\n",
    "    Q8_3_c_data_a::Vector{Int}\n",
    "    Q8_3_c_data_b::Vector{Int}\n",
    "    Q8_3_c_ans_p::Union{Missing, Vector{Vector{Int}}}\n",
    "\n",
    "    # Q8.4\n",
    "    Q8_4_a_data_f1::Vector{Int}\n",
    "    Q8_4_a_ans::Union{Missing, Vector{Vector{Int}}}\n",
    "\n",
    "    Q8_4_b_data_f2::Vector{Int}\n",
    "    Q8_4_b_ans::Union{Missing, Vector{Vector{Int}}}\n",
    "\n",
    "    # Q8.5\n",
    "    Q8_5_data_f1::Vector{Int}\n",
    "    Q8_5_data_f2::Vector{Int}\n",
    "    Q8_5_data_p1::Vector{Int}\n",
    "    Q8_5_data_p2::Vector{Int}\n",
    "    Q8_5_data_p3::Vector{Int}\n",
    "    Q8_5_a_data_g1::Vector{Int}\n",
    "    Q8_5_b_data_g2::Vector{Int}\n",
    "\n",
    "    Q8_5_a_ans_q1::Union{Missing, Vector{Int}}\n",
    "    Q8_5_a_ans_q2::Union{Missing, Vector{Int}}\n",
    "    Q8_5_a_ans_q3::Union{Missing, Vector{Int}}\n",
    "    Q8_5_a_ans_q4::Union{Missing, Vector{Int}}\n",
    "    Q8_5_a_ans_q5::Union{Missing, Vector{Int}}\n",
    "\n",
    "    Q8_5_b_ans_q1::Union{Missing, Vector{Int}}\n",
    "    Q8_5_b_ans_q2::Union{Missing, Vector{Int}}\n",
    "    Q8_5_b_ans_q3::Union{Missing, Vector{Int}}\n",
    "    Q8_5_b_ans_q4::Union{Missing, Vector{Int}}\n",
    "    Q8_5_b_ans_q5::Union{Missing, Vector{Int}}\n",
    "\n",
    "    # Q9.1\n",
    "    Q9_1_data_r :: Int64\n",
    "    Q9_1_a_ans_H :: Union{Missing, Matrix{Int64}}\n",
    "\n",
    "    Q9_1_b_ans_G :: Union{Missing, Matrix{Int64}}\n",
    "\n",
    "    Q9_1_c_data_p :: Float64\n",
    "    Q9_1_c_ans_p_err :: Union{Missing, Float64}\n",
    "\n",
    "    Q9_1_d_data_y_1 :: Vector{String}\n",
    "    Q9_1_d_ans_i :: Union{Missing, Vector{Int64}}\n",
    "    Q9_1_d_ans_ii :: Union{Missing, Vector{Int64}}\n",
    "    Q9_1_d_ans_iii :: Union{Missing, Vector{Int64}}\n",
    "\n",
    "    Q9_1_e_data_p :: Float64\n",
    "    Q9_1_e_ans_p_err :: Union{Missing, Float64}\n",
    "\n",
    "    Q9_1_f_data_y_2 :: Vector{String}\n",
    "    Q9_1_f_ans_i :: Union{Missing, Vector{Int64}}\n",
    "    Q9_1_f_ans_ii :: Union{Missing, Vector{Int64}}\n",
    "    Q9_1_f_ans_iii :: Union{Missing, Vector{Int64}}\n",
    "\n",
    "    # \"Q9.2\"\n",
    "    Q9_2_data_r :: Int64\n",
    "    Q9_2_data_q :: Int64\n",
    "\n",
    "    Q9_2_a_ans_H :: Union{Missing, Matrix{Int64}}\n",
    "\n",
    "    Q9_2_b_ans_G :: Union{Missing, Matrix{Int64}}\n",
    "\n",
    "    Q9_2_c_data_p :: Float64\n",
    "    Q9_2_c_ans_p_err :: Union{Missing, Float64}\n",
    "\n",
    "    Q9_2_d_data_y_1 :: Vector{String}\n",
    "    Q9_2_d_ans_i :: Union{Missing, Vector{Int64}}\n",
    "    Q9_2_d_ans_ii :: Union{Missing, Vector{Int64}}\n",
    "    Q9_2_d_ans_iii :: Union{Missing, Vector{Int64}}\n",
    "\n",
    "    Q9_2_e_data_p :: Float64\n",
    "    Q9_2_e_ans_p_err :: Union{Missing, Float64}\n",
    "\n",
    "    Q9_2_f_data_y_2 :: Vector{String}\n",
    "    Q9_2_f_ans_i :: Union{Missing, Vector{Int64}}\n",
    "    Q9_2_f_ans_ii :: Union{Missing, Vector{Int64}}\n",
    "    Q9_2_f_ans_iii :: Union{Missing, Vector{Int64}}\n",
    "\n",
    "end"
   ]
  },
  {
   "cell_type": "code",
   "execution_count": null,
   "id": "052f7342",
   "metadata": {},
   "outputs": [],
   "source": [
    "# Download and upload data from JLD file, refer to https://juliaio.github.io/JLD2.jl/dev/ \n",
    "\n",
    "A = JLD2.load(\"Arnav 2018546StudentFile.jld2\");\n",
    "A = A[ \"CourseWork_3\" ];\n",
    "A.Demo_willing = true;\n",
    "A.Plagiarism_declare = true;\n",
    "\n",
    "B = JLD2.load(\"Ratul2015627StudentFile.jld2\");\n",
    "B = B[ \"CourseWork_3\" ];\n",
    "B.Demo_willing = true;\n",
    "B.Plagiarism_declare = true;"
   ]
  },
  {
   "cell_type": "code",
   "execution_count": 1,
   "id": "82c38a78",
   "metadata": {},
   "outputs": [
    {
     "name": "stderr",
     "output_type": "stream",
     "text": [
      "\u001b[32m\u001b[1m    Updating\u001b[22m\u001b[39m registry at `C:\\Users\\ratul\\.julia\\registries\\General.toml`\n",
      "\u001b[32m\u001b[1m   Resolving\u001b[22m\u001b[39m package versions...\n",
      "\u001b[32m\u001b[1m   Installed\u001b[22m\u001b[39m JLLWrappers ────── v1.6.1\n",
      "\u001b[32m\u001b[1m   Installed\u001b[22m\u001b[39m FLINT_jll ──────── v300.100.300+0\n",
      "\u001b[32m\u001b[1m   Installed\u001b[22m\u001b[39m OpenBLAS32_jll ─── v0.3.28+3\n",
      "\u001b[32m\u001b[1m   Installed\u001b[22m\u001b[39m RandomExtensions ─ v0.4.4\n",
      "\u001b[32m\u001b[1m   Installed\u001b[22m\u001b[39m AbstractAlgebra ── v0.43.10\n",
      "\u001b[32m\u001b[1m   Installed\u001b[22m\u001b[39m Nemo ───────────── v0.47.3\n",
      "\u001b[32m\u001b[1m    Updating\u001b[22m\u001b[39m `C:\\Users\\ratul\\.julia\\environments\\v1.11\\Project.toml`\n",
      "  \u001b[90m[2edaba10] \u001b[39m\u001b[92m+ Nemo v0.47.3\u001b[39m\n",
      "\u001b[32m\u001b[1m    Updating\u001b[22m\u001b[39m `C:\\Users\\ratul\\.julia\\environments\\v1.11\\Manifest.toml`\n",
      "  \u001b[90m[c3fe647b] \u001b[39m\u001b[92m+ AbstractAlgebra v0.43.10\u001b[39m\n",
      "  \u001b[90m[692b3bcd] \u001b[39m\u001b[92m+ JLLWrappers v1.6.1\u001b[39m\n",
      "  \u001b[90m[2edaba10] \u001b[39m\u001b[92m+ Nemo v0.47.3\u001b[39m\n",
      "  \u001b[90m[fb686558] \u001b[39m\u001b[92m+ RandomExtensions v0.4.4\u001b[39m\n",
      "  \u001b[90m[e134572f] \u001b[39m\u001b[92m+ FLINT_jll v300.100.300+0\u001b[39m\n",
      "  \u001b[90m[656ef2d0] \u001b[39m\u001b[92m+ OpenBLAS32_jll v0.3.28+3\u001b[39m\n",
      "  \u001b[90m[b77e0a4c] \u001b[39m\u001b[92m+ InteractiveUtils v1.11.0\u001b[39m\n",
      "  \u001b[90m[8dfed614] \u001b[39m\u001b[92m+ Test v1.11.0\u001b[39m\n",
      "  \u001b[90m[781609d7] \u001b[39m\u001b[92m+ GMP_jll v6.3.0+0\u001b[39m\n",
      "  \u001b[90m[3a97d323] \u001b[39m\u001b[92m+ MPFR_jll v4.2.1+0\u001b[39m\n",
      "\u001b[92m\u001b[1mPrecompiling\u001b[22m\u001b[39m project...\n",
      "    456.9 ms\u001b[32m  ✓ \u001b[39m\u001b[90mJLLWrappers\u001b[39m\n",
      "    458.6 ms\u001b[32m  ✓ \u001b[39m\u001b[90mOpenBLAS32_jll\u001b[39m\n",
      "   1476.0 ms\u001b[32m  ✓ \u001b[39m\u001b[90mRandomExtensions\u001b[39m\n",
      "    551.1 ms\u001b[32m  ✓ \u001b[39m\u001b[90mFLINT_jll\u001b[39m\n",
      "   5398.8 ms\u001b[32m  ✓ \u001b[39m\u001b[90mAbstractAlgebra\u001b[39m\n",
      "   8819.8 ms\u001b[32m  ✓ \u001b[39mNemo\n",
      "  6 dependencies successfully precompiled in 17 seconds. 50 already precompiled.\n",
      "\u001b[32m\u001b[1m   Resolving\u001b[22m\u001b[39m package versions...\n",
      "\u001b[32m\u001b[1m    Updating\u001b[22m\u001b[39m `C:\\Users\\ratul\\.julia\\environments\\v1.11\\Project.toml`\n",
      "  \u001b[90m[c3fe647b] \u001b[39m\u001b[92m+ AbstractAlgebra v0.43.10\u001b[39m\n",
      "\u001b[32m\u001b[1m  No Changes\u001b[22m\u001b[39m to `C:\\Users\\ratul\\.julia\\environments\\v1.11\\Manifest.toml`\n"
     ]
    }
   ],
   "source": [
    "import Pkg\n",
    "Pkg.add(\"Nemo\")\n",
    "Pkg.add(\"AbstractAlgebra\")\n",
    "using Nemo\n",
    "using AbstractAlgebra"
   ]
  },
  {
   "cell_type": "markdown",
   "id": "237a63e0",
   "metadata": {},
   "source": [
    "### 8.1"
   ]
  },
  {
   "cell_type": "code",
   "execution_count": null,
   "id": "db08cb67",
   "metadata": {},
   "outputs": [],
   "source": []
  },
  {
   "cell_type": "markdown",
   "id": "9b8ef128",
   "metadata": {},
   "source": [
    "### 8.2"
   ]
  },
  {
   "cell_type": "code",
   "execution_count": null,
   "id": "c72d0565",
   "metadata": {},
   "outputs": [],
   "source": []
  },
  {
   "cell_type": "markdown",
   "id": "c7c0a8bd",
   "metadata": {},
   "source": [
    "### 8.3\n",
    "##### Please make sure your answer is exactly the type as defined. For example, if your answer is empty, save it as [[ ]]."
   ]
  },
  {
   "cell_type": "code",
   "execution_count": null,
   "id": "af4b5f12",
   "metadata": {},
   "outputs": [],
   "source": []
  },
  {
   "cell_type": "markdown",
   "id": "32c442b3",
   "metadata": {},
   "source": [
    "### 8.4\n"
   ]
  },
  {
   "cell_type": "code",
   "execution_count": null,
   "id": "55680c79",
   "metadata": {},
   "outputs": [],
   "source": []
  },
  {
   "cell_type": "markdown",
   "id": "8716ed07",
   "metadata": {},
   "source": [
    "### 8.5\n"
   ]
  },
  {
   "cell_type": "code",
   "execution_count": null,
   "id": "2b7f24f9",
   "metadata": {},
   "outputs": [],
   "source": []
  },
  {
   "cell_type": "markdown",
   "id": "59cf540e",
   "metadata": {},
   "source": [
    "### 9.1\n"
   ]
  },
  {
   "cell_type": "code",
   "execution_count": null,
   "id": "61a20029",
   "metadata": {},
   "outputs": [],
   "source": []
  },
  {
   "cell_type": "markdown",
   "id": "7d5f661b",
   "metadata": {},
   "source": [
    "### 9.2\n"
   ]
  },
  {
   "cell_type": "code",
   "execution_count": null,
   "id": "84c336e2",
   "metadata": {},
   "outputs": [],
   "source": []
  }
 ],
 "metadata": {
  "kernelspec": {
   "display_name": "Julia 1.11.1",
   "language": "julia",
   "name": "julia-1.11"
  },
  "language_info": {
   "file_extension": ".jl",
   "mimetype": "application/julia",
   "name": "julia",
   "version": "1.11.1"
  }
 },
 "nbformat": 4,
 "nbformat_minor": 5
}
