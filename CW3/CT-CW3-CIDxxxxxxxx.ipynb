{
 "cells": [
  {
   "cell_type": "markdown",
   "id": "9fdea660",
   "metadata": {},
   "source": [
    "# Coursework 3 - Coding Theory\n",
    "\n",
    "### PLAGIARISM/COLLUSION DECLARATION\n",
    "\n",
    "Coursework submitted for assessment must be the original work of you and your group. Assignments are subjected to regular checks for plagiarism and/or collusion. Plagiarism is the presentation of another person’s thoughts or words (those outside your group) as if they were your own. Collusion involves obtaining help from someone outside your group to complete your work. In preparing your coursework, you should not seek help, or copy from any other person or source, including the\n",
    "Internet, without proper and explicit acknowledgement.\n",
    "\n",
    "There is a procedure in place for you to declare individual contributions within your group for courswork. You must declare the contributions fairly and accurately.\n",
    "\n",
    "You must not disclose your solutions or insights related to coursework with anyone else, including future students or the Internet.\n",
    "\n",
    "By acknowledging the the statements above, you are declaring that both this and all subsequent pieces of coursework are, and will remain, the original work of you and your group. \n",
    "\n",
    "* Submissions will not be accepted without the aforementioned declaration.\n",
    "\n",
    "* Members of a group are deemed to have collective responsibility for the integrity for work submitted and are liable for any penalty imposed, proportionate to their contributions. \n",
    "\n"
   ]
  },
  {
   "cell_type": "code",
   "execution_count": 2,
   "id": "d8d22128",
   "metadata": {},
   "outputs": [
    {
     "name": "stderr",
     "output_type": "stream",
     "text": [
      "\u001b[32m\u001b[1m   Resolving\u001b[22m\u001b[39m package versions...\n",
      "\u001b[32m\u001b[1m  No Changes\u001b[22m\u001b[39m to `C:\\Users\\ratul\\.julia\\environments\\v1.11\\Project.toml`\n",
      "\u001b[32m\u001b[1m  No Changes\u001b[22m\u001b[39m to `C:\\Users\\ratul\\.julia\\environments\\v1.11\\Manifest.toml`\n",
      "\u001b[32m\u001b[1m   Resolving\u001b[22m\u001b[39m package versions...\n",
      "\u001b[32m\u001b[1m  No Changes\u001b[22m\u001b[39m to `C:\\Users\\ratul\\.julia\\environments\\v1.11\\Project.toml`\n",
      "\u001b[32m\u001b[1m  No Changes\u001b[22m\u001b[39m to `C:\\Users\\ratul\\.julia\\environments\\v1.11\\Manifest.toml`\n"
     ]
    }
   ],
   "source": [
    "import Pkg\n",
    "Pkg.add(\"Nemo\")\n",
    "Pkg.add(\"AbstractAlgebra\")\n",
    "\n",
    "using FileIO, JLD2, Nemo, AbstractAlgebra, LinearAlgebra"
   ]
  },
  {
   "cell_type": "code",
   "execution_count": 3,
   "id": "79e56457",
   "metadata": {},
   "outputs": [
    {
     "data": {
      "text/plain": [
       "CourseWork_3"
      ]
     },
     "metadata": {},
     "output_type": "display_data"
    }
   ],
   "source": [
    "Base.@kwdef mutable struct CourseWork_3\n",
    "    CID::Int\n",
    "    Plagiarism_declare::Union{Missing,Bool}\n",
    "    Demo_willing::Union{Missing,Bool}\n",
    "    \n",
    "\n",
    "    \"Chapter 8\"\n",
    "    # Q8.1\n",
    "    Q8_1_a_data_p::Int\n",
    "    Q8_1_a_data_d::Int\n",
    "    Q8_1_a_ans_polys::Union{Missing, Vector{Vector{Int}}}\n",
    "\n",
    "    Q8_1_b_data_p::Int\n",
    "    Q8_1_b_data_d::Int\n",
    "    Q8_1_b_ans_polys::Union{Missing, Vector{Vector{Int}}}\n",
    "\n",
    "    # Q8.2\n",
    "    Q8_2_data_coeffs::Vector{Int}\n",
    "    Q8_2_a_ans_is_irreducible::Union{Missing,Bool}\n",
    "    Q8_2_b_ans_is_irreducible::Union{Missing,Bool}\n",
    "    Q8_2_c_ans_is_irreducible::Union{Missing,Bool}\n",
    " \n",
    "    # Q8.3\n",
    "    Q8_3_a_data_m::Vector{Int}\n",
    "    Q8_3_a_data_a::Vector{Int}\n",
    "    Q8_3_a_data_b::Vector{Int}\n",
    "    Q8_3_a_ans_p::Union{Missing, Vector{Vector{Int}}} # remind template form[[]]\n",
    " \n",
    "    Q8_3_b_data_m::Vector{Int}\n",
    "    Q8_3_b_data_a::Vector{Int}\n",
    "    Q8_3_b_data_b::Vector{Int}\n",
    "    Q8_3_b_ans_p::Union{Missing, Vector{Vector{Int}}}\n",
    " \n",
    "    Q8_3_c_data_m::Vector{Int}\n",
    "    Q8_3_c_data_a::Vector{Int}\n",
    "    Q8_3_c_data_b::Vector{Int}\n",
    "    Q8_3_c_ans_p::Union{Missing, Vector{Vector{Int}}}\n",
    "\n",
    "    # Q8.4\n",
    "    Q8_4_a_data_f1::Vector{Int}\n",
    "    Q8_4_a_ans::Union{Missing, Vector{Vector{Int}}}\n",
    "\n",
    "    Q8_4_b_data_f2::Vector{Int}\n",
    "    Q8_4_b_ans::Union{Missing, Vector{Vector{Int}}}\n",
    "\n",
    "    # Q8.5\n",
    "    Q8_5_data_f1::Vector{Int}\n",
    "    Q8_5_data_f2::Vector{Int}\n",
    "    Q8_5_data_p1::Vector{Int}\n",
    "    Q8_5_data_p2::Vector{Int}\n",
    "    Q8_5_data_p3::Vector{Int}\n",
    "    Q8_5_a_data_g1::Vector{Int}\n",
    "    Q8_5_b_data_g2::Vector{Int}\n",
    "\n",
    "    Q8_5_a_ans_q1::Union{Missing, Vector{Int}}\n",
    "    Q8_5_a_ans_q2::Union{Missing, Vector{Int}}\n",
    "    Q8_5_a_ans_q3::Union{Missing, Vector{Int}}\n",
    "    Q8_5_a_ans_q4::Union{Missing, Vector{Int}}\n",
    "    Q8_5_a_ans_q5::Union{Missing, Vector{Int}}\n",
    "\n",
    "    Q8_5_b_ans_q1::Union{Missing, Vector{Int}}\n",
    "    Q8_5_b_ans_q2::Union{Missing, Vector{Int}}\n",
    "    Q8_5_b_ans_q3::Union{Missing, Vector{Int}}\n",
    "    Q8_5_b_ans_q4::Union{Missing, Vector{Int}}\n",
    "    Q8_5_b_ans_q5::Union{Missing, Vector{Int}}\n",
    "\n",
    "    # Q9.1\n",
    "    Q9_1_data_r :: Int64\n",
    "    Q9_1_a_ans_H :: Union{Missing, Matrix{Int64}}\n",
    "\n",
    "    Q9_1_b_ans_G :: Union{Missing, Matrix{Int64}}\n",
    "\n",
    "    Q9_1_c_data_p :: Float64\n",
    "    Q9_1_c_ans_p_err :: Union{Missing, Float64}\n",
    "\n",
    "    Q9_1_d_data_y_1 :: Vector{String}\n",
    "    Q9_1_d_ans_i :: Union{Missing, Vector{Int64}}\n",
    "    Q9_1_d_ans_ii :: Union{Missing, Vector{Int64}}\n",
    "    Q9_1_d_ans_iii :: Union{Missing, Vector{Int64}}\n",
    "\n",
    "    Q9_1_e_data_p :: Float64\n",
    "    Q9_1_e_ans_p_err :: Union{Missing, Float64}\n",
    "\n",
    "    Q9_1_f_data_y_2 :: Vector{String}\n",
    "    Q9_1_f_ans_i :: Union{Missing, Vector{Int64}}\n",
    "    Q9_1_f_ans_ii :: Union{Missing, Vector{Int64}}\n",
    "    Q9_1_f_ans_iii :: Union{Missing, Vector{Int64}}\n",
    "\n",
    "    # \"Q9.2\"\n",
    "    Q9_2_data_r :: Int64\n",
    "    Q9_2_data_q :: Int64\n",
    "\n",
    "    Q9_2_a_ans_H :: Union{Missing, Matrix{Int64}}\n",
    "\n",
    "    Q9_2_b_ans_G :: Union{Missing, Matrix{Int64}}\n",
    "\n",
    "    Q9_2_c_data_p :: Float64\n",
    "    Q9_2_c_ans_p_err :: Union{Missing, Float64}\n",
    "\n",
    "    Q9_2_d_data_y_1 :: Vector{String}\n",
    "    Q9_2_d_ans_i :: Union{Missing, Vector{Int64}}\n",
    "    Q9_2_d_ans_ii :: Union{Missing, Vector{Int64}}\n",
    "    Q9_2_d_ans_iii :: Union{Missing, Vector{Int64}}\n",
    "\n",
    "    Q9_2_e_data_p :: Float64\n",
    "    Q9_2_e_ans_p_err :: Union{Missing, Float64}\n",
    "\n",
    "    Q9_2_f_data_y_2 :: Vector{String}\n",
    "    Q9_2_f_ans_i :: Union{Missing, Vector{Int64}}\n",
    "    Q9_2_f_ans_ii :: Union{Missing, Vector{Int64}}\n",
    "    Q9_2_f_ans_iii :: Union{Missing, Vector{Int64}}\n",
    "\n",
    "end"
   ]
  },
  {
   "cell_type": "code",
   "execution_count": 4,
   "id": "052f7342",
   "metadata": {},
   "outputs": [],
   "source": [
    "# Download and upload data from JLD file, refer to https://juliaio.github.io/JLD2.jl/dev/ \n",
    "\n",
    "A = JLD2.load(\"Arnav 2018546StudentFile.jld2\");\n",
    "A = A[ \"CourseWork_3\" ];\n",
    "A.Demo_willing = true;\n",
    "A.Plagiarism_declare = true;\n",
    "\n",
    "B = JLD2.load(\"Ratul2015627StudentFile.jld2\");\n",
    "B = B[ \"CourseWork_3\" ];\n",
    "B.Demo_willing = true;\n",
    "B.Plagiarism_declare = true;"
   ]
  },
  {
   "cell_type": "markdown",
   "id": "237a63e0",
   "metadata": {},
   "source": [
    "### 8.1"
   ]
  },
  {
   "cell_type": "code",
   "execution_count": 5,
   "id": "db08cb67",
   "metadata": {},
   "outputs": [
    {
     "name": "stdout",
     "output_type": "stream",
     "text": [
      "2\n",
      "5\n"
     ]
    },
    {
     "data": {
      "text/plain": [
       "54-element Vector{Any}:\n",
       " [0, 0, 0, 1]\n",
       " [1, 0, 0, 1]\n",
       " [2, 0, 0, 1]\n",
       " [0, 1, 0, 1]\n",
       " [1, 1, 0, 1]\n",
       " [2, 1, 0, 1]\n",
       " [0, 2, 0, 1]\n",
       " [1, 2, 0, 1]\n",
       " [2, 2, 0, 1]\n",
       " [0, 0, 1, 1]\n",
       " ⋮\n",
       " [0, 0, 2, 2]\n",
       " [1, 0, 2, 2]\n",
       " [2, 0, 2, 2]\n",
       " [0, 1, 2, 2]\n",
       " [1, 1, 2, 2]\n",
       " [2, 1, 2, 2]\n",
       " [0, 2, 2, 2]\n",
       " [1, 2, 2, 2]\n",
       " [2, 2, 2, 2]"
      ]
     },
     "metadata": {},
     "output_type": "display_data"
    }
   ],
   "source": [
    "println(A.Q8_1_a_data_p)\n",
    "println(A.Q8_1_a_data_d)\n",
    "using .Iterators\n",
    "\n",
    "\n",
    "function polynomials_at_most_d(p::Int, d::Int)\n",
    "    # Initialize an empty list to store the coefficient vectors\n",
    "    coeff_vectors = []\n",
    "\n",
    "    # Recursive helper function to generate the coefficient vectors\n",
    "    function recurse(current_vector, level)\n",
    "        # If we've reached the end (level > d), add the current vector to the list\n",
    "        if level > d\n",
    "            push!(coeff_vectors, current_vector)\n",
    "            return\n",
    "        end\n",
    "        \n",
    "        # For each possible coefficient (0 to p-1), append to the current vector and recurse\n",
    "        for coef in 0:p-1\n",
    "            recurse(push!(copy(current_vector), coef), level + 1)\n",
    "        end\n",
    "    end\n",
    "\n",
    "    # Start the recursion with an empty vector and at level 0\n",
    "    recurse(Int[], 0)\n",
    "    \n",
    "    return sort(coeff_vectors)\n",
    "end\n",
    "\n",
    "function polynomials_exactly_d(p::Int, d::Int)\n",
    "   result = []\n",
    "   coeffs = Iterators.product(0:p-1, 0:p-1, 0:p-1)\n",
    "    \n",
    "    # Generate the highest degree coefficient (must be non-zero, in the range [1, p-1])\n",
    "    for highest in 1:p-1\n",
    "        # Generate all combinations of coefficients for the remaining terms (degree 0 to d-1)\n",
    "        for coeff in coeffs\n",
    "            # Concatenate the highest degree coefficient with the others\n",
    "            push!(result, [collect(coeff); highest ])\n",
    "        end\n",
    "    end\n",
    "    \n",
    "    return result\n",
    "    \n",
    "end\n",
    "\n",
    "# Arnav\n",
    "A.Q8_1_a_ans_polys = polynomials_at_most_d(A.Q8_1_a_data_p, A.Q8_1_a_data_d)\n",
    "A.Q8_1_b_ans_polys = polynomials_exactly_d(A.Q8_1_b_data_p, A.Q8_1_b_data_d)\n",
    "\n",
    "# Ratul\n",
    "B.Q8_1_a_ans_polys = polynomials_at_most_d(B.Q8_1_a_data_p, B.Q8_1_a_data_d)\n",
    "B.Q8_1_b_ans_polys = polynomials_exactly_d(B.Q8_1_b_data_p, B.Q8_1_b_data_d)"
   ]
  },
  {
   "cell_type": "markdown",
   "id": "9b8ef128",
   "metadata": {},
   "source": [
    "### 8.2"
   ]
  },
  {
   "cell_type": "code",
   "execution_count": null,
   "id": "c72d0565",
   "metadata": {},
   "outputs": [
    {
     "name": "stdout",
     "output_type": "stream",
     "text": [
      "[1, 0, 1, 1, 0, 1, 1]\n",
      "[1, 1, 0, 0, 0, 0, 1]\n",
      "Check: 1 * (x^3 + x^2 + o*x + o + 1) * (x^3 + x^2 + (o + 1)*x + o)\n",
      "Finite field of degree 2 and characteristic 2 x^6 + x + 1\n",
      "roots checked\n",
      "Field: Finite field of degree 2 and characteristic 2\n",
      "Field elements: FqFieldElem[0, 1, o, o + 1]\n",
      "divisors generated\n",
      "f is divisible by g: o\n"
     ]
    },
    {
     "data": {
      "text/plain": [
       "false"
      ]
     },
     "metadata": {},
     "output_type": "display_data"
    }
   ],
   "source": [
    "println(A.Q8_2_data_coeffs) # 1 + x^2 + x^3 + x^5 + x^6\n",
    "println(B.Q8_2_data_coeffs) # 1 + x + x^6\n",
    "\n",
    "# Generate all polynomials of degree < n in the given field\n",
    "function generate_polynomials(n::Int, R)\n",
    "    polys = []\n",
    "    field = base_ring(R)  # Get the finite field over which the ring is defined\n",
    "    println(\"Field: \", field)\n",
    "    \n",
    "    field_elements = collect(field)  # Get all elements of the finite field\n",
    "    println(\"Field elements: \", field_elements)\n",
    "\n",
    "    # Generate all combinations of coefficients up to degree n-1\n",
    "    for coeffs in Iterators.product(fill(field_elements, n)...)\n",
    "        # println(\"Generated coefficients: \", coeffs)  # Debugging statement\n",
    "        poly = R([c for c in coeffs])  # Create polynomial with these coefficients\n",
    "        # println(\"Generated polynomial: \", poly)  # Debugging statement\n",
    "        if !all(x -> x == field(0), coeffs)  # Exclude the zero polynomial\n",
    "            push!(polys, poly)\n",
    "        end   \n",
    "    end\n",
    "\n",
    "    return polys\n",
    "end\n",
    "\n",
    "\n",
    "function is_irreducible(coeffs::Vector{Int}, degree::Int)\n",
    "    F = Nemo.GF(degree)\n",
    "    \n",
    "    # Create a polynomial ring over GF(q)\n",
    "    R, x = polynomial_ring( F,\"x\" )\n",
    "    \n",
    "    # Convert coefficients into elements of GF(q)\n",
    "    field_coeffs = [F(c) for c in coeffs]\n",
    "    \n",
    "    # Construct the polynomial in R\n",
    "    f = R(field_coeffs)\n",
    "    println(\"Check: \", factor(f))\n",
    "\n",
    "    println(F,\" \", f)\n",
    "    # Check roots\n",
    "    for i in 0:(degree-1)\n",
    "        if Nemo.evaluate(f, F(i)) == 0\n",
    "            return false\n",
    "        end\n",
    "    end\n",
    "    println(\"roots checked\")\n",
    "    # Check divisors\n",
    "    # println(\"Degree of polynomial: \",Nemo.degree(f))\n",
    "    # println(\"Polynomial ring: \", R)\n",
    "    divisors = generate_polynomials(Nemo.degree(f)-1, R)  # Generate all polynomials of deg < n\n",
    "    println(\"divisors generated\")\n",
    "    # println(divisors)\n",
    "    for g in divisors\n",
    "        if g == R(1)\n",
    "            continue\n",
    "        end\n",
    "        if rem(f, g) == R(0)  # Check remainder\n",
    "            println(\"f is divisible by g: \", g)\n",
    "            return false\n",
    "        end\n",
    "    end\n",
    "    println(\"divisors checked\")\n",
    "\n",
    "    # check gcd\n",
    "    for g in divisors\n",
    "        gcd_poly = gcd(f, g)\n",
    "        # If GCD is not 1, f is reducible\n",
    "        if gcd_poly != R(1)  # If the GCD is not 1, f is reducible\n",
    "            println(\"gcd is 1 with g:\", g)\n",
    "            return false\n",
    "        end\n",
    "    end\n",
    "    println(\"gcd checked\")\n",
    "    return true\n",
    "    \n",
    "end\n",
    "\n",
    "# Arnav\n",
    "A.Q8_2_a_ans_is_irreducible = is_irreducible(A.Q8_2_data_coeffs, 2) # true\n",
    "A.Q8_2_b_ans_is_irreducible = is_irreducible(A.Q8_2_data_coeffs, 3) # false\n",
    "A.Q8_2_c_ans_is_irreducible = is_irreducible(A.Q8_2_data_coeffs, 4) # false\n",
    "\n",
    "# Ratul\n",
    "B.Q8_2_a_ans_is_irreducible = is_irreducible(B.Q8_2_data_coeffs, 2) # true\n",
    "B.Q8_2_b_ans_is_irreducible = is_irreducible(B.Q8_2_data_coeffs, 3) # false\n",
    "B.Q8_2_c_ans_is_irreducible = is_irreducible(B.Q8_2_data_coeffs, 4) # false"
   ]
  },
  {
   "cell_type": "markdown",
   "id": "c7c0a8bd",
   "metadata": {},
   "source": [
    "### 8.3\n",
    "##### Please make sure your answer is exactly the type as defined. For example, if your answer is empty, save it as [[ ]]."
   ]
  },
  {
   "cell_type": "code",
   "execution_count": null,
   "id": "af4b5f12",
   "metadata": {},
   "outputs": [],
   "source": []
  },
  {
   "cell_type": "markdown",
   "id": "32c442b3",
   "metadata": {},
   "source": [
    "### 8.4\n"
   ]
  },
  {
   "cell_type": "code",
   "execution_count": null,
   "id": "55680c79",
   "metadata": {},
   "outputs": [],
   "source": []
  },
  {
   "cell_type": "markdown",
   "id": "8716ed07",
   "metadata": {},
   "source": [
    "### 8.5\n"
   ]
  },
  {
   "cell_type": "code",
   "execution_count": null,
   "id": "2b7f24f9",
   "metadata": {},
   "outputs": [],
   "source": []
  },
  {
   "cell_type": "markdown",
   "id": "59cf540e",
   "metadata": {},
   "source": [
    "### 9.1\n"
   ]
  },
  {
   "cell_type": "code",
   "execution_count": null,
   "id": "61a20029",
   "metadata": {},
   "outputs": [],
   "source": [
    "using LinearAlgebra\n",
    "\n",
    "function find_parity_check(r::Int)\n",
    "    rows, cols = r, 2^r - 1\n",
    "    H = zeros(Int, rows, cols)\n",
    "    for c in 1:cols\n",
    "        for (r, digit) in enumerate(reverse(string(c, base=2)))\n",
    "            H[r, c] = parse(Int, digit)\n",
    "        end\n",
    "    end\n",
    "    return Matrix{Int64}(H)\n",
    "end\n",
    "\n",
    "function find_generator(parity::Matrix{Int})\n",
    "    parity_systematic = copy(parity)\n",
    "    rows, cols = size(parity_systematic)\n",
    "    for i in 3:rows\n",
    "        swap_i = 2^(i-1)\n",
    "        if swap_i <= cols\n",
    "            parity_systematic[:, [i, swap_i]] = parity_systematic[:, [swap_i, i]]\n",
    "        end\n",
    "    end\n",
    "    k = cols - rows\n",
    "    parity_part = parity_systematic[:, rows+1:end]\n",
    "    G = zeros(Int, k, cols)\n",
    "    G[:, end-k+1:end] .= I(k)\n",
    "    G[:, 1:end-k] .= mod.(-parity_part', 2)\n",
    "    if sum(mod.(G * parity_systematic', 2)) != 0\n",
    "        println(\"Error: G * H^T is not zero\")\n",
    "    end\n",
    "    return G\n",
    "end\n",
    "\n",
    "A.Q9_1_a_ans_H = find_parity_check(A.Q9_1_data_r)\n",
    "A.Q9_1_b_ans_G = find_generator(A.Q9_1_a_ans_H)"
   ]
  },
  {
   "cell_type": "markdown",
   "id": "7d5f661b",
   "metadata": {},
   "source": [
    "### 9.2\n"
   ]
  },
  {
   "cell_type": "code",
   "execution_count": null,
   "id": "84c336e2",
   "metadata": {},
   "outputs": [],
   "source": []
  },
  {
   "cell_type": "markdown",
   "id": "b7a9ee9a",
   "metadata": {},
   "source": [
    "### Write Back to Struct"
   ]
  },
  {
   "cell_type": "code",
   "execution_count": null,
   "id": "23765689",
   "metadata": {},
   "outputs": [],
   "source": [
    "jldopen(\"Arnav 2018546StudentFile.jld2\", \"w\") do file\n",
    "    write(file, \"CourseWork_3\", A)\n",
    "end\n",
    "\n",
    "jldopen(\"Ratul2015627StudentFile.jld2\", \"w\") do file\n",
    "    write(file, \"CourseWork_3\", B)\n",
    "end"
   ]
  }
 ],
 "metadata": {
  "kernelspec": {
   "display_name": "Julia 1.11.1",
   "language": "julia",
   "name": "julia-1.11"
  },
  "language_info": {
   "file_extension": ".jl",
   "mimetype": "application/julia",
   "name": "julia",
   "version": "1.11.1"
  }
 },
 "nbformat": 4,
 "nbformat_minor": 5
}
