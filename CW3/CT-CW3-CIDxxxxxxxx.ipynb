{
 "cells": [
  {
   "cell_type": "markdown",
   "id": "9fdea660",
   "metadata": {},
   "source": [
    "# Coursework 3 - Coding Theory\n",
    "\n",
    "### PLAGIARISM/COLLUSION DECLARATION\n",
    "\n",
    "Coursework submitted for assessment must be the original work of you and your group. Assignments are subjected to regular checks for plagiarism and/or collusion. Plagiarism is the presentation of another person’s thoughts or words (those outside your group) as if they were your own. Collusion involves obtaining help from someone outside your group to complete your work. In preparing your coursework, you should not seek help, or copy from any other person or source, including the\n",
    "Internet, without proper and explicit acknowledgement.\n",
    "\n",
    "There is a procedure in place for you to declare individual contributions within your group for courswork. You must declare the contributions fairly and accurately.\n",
    "\n",
    "You must not disclose your solutions or insights related to coursework with anyone else, including future students or the Internet.\n",
    "\n",
    "By acknowledging the the statements above, you are declaring that both this and all subsequent pieces of coursework are, and will remain, the original work of you and your group. \n",
    "\n",
    "* Submissions will not be accepted without the aforementioned declaration.\n",
    "\n",
    "* Members of a group are deemed to have collective responsibility for the integrity for work submitted and are liable for any penalty imposed, proportionate to their contributions. \n",
    "\n"
   ]
  },
  {
   "cell_type": "code",
   "execution_count": null,
   "id": "d8d22128",
   "metadata": {},
   "outputs": [],
   "source": [
    "using FileIO, JLD2"
   ]
  },
  {
   "cell_type": "code",
   "execution_count": null,
   "id": "79e56457",
   "metadata": {},
   "outputs": [],
   "source": [
    "Base.@kwdef mutable struct CourseWork_3\n",
    "    CID::Int\n",
    "    Plagiarism_declare::Union{Missing,Bool}\n",
    "    Demo_willing::Union{Missing,Bool}\n",
    "    \n",
    "\n",
    "    \"Chapter 8\"\n",
    "    # Q8.1\n",
    "    Q8_1_a_data_p::Int\n",
    "    Q8_1_a_data_d::Int\n",
    "    Q8_1_a_ans_polys::Union{Missing, Vector{Vector{Int}}}\n",
    "\n",
    "    Q8_1_b_data_p::Int\n",
    "    Q8_1_b_data_d::Int\n",
    "    Q8_1_b_ans_polys::Union{Missing, Vector{Vector{Int}}}\n",
    "\n",
    "    # Q8.2\n",
    "    Q8_2_data_coeffs::Vector{Int}\n",
    "    Q8_2_a_ans_is_irreducible::Union{Missing,Bool}\n",
    "    Q8_2_b_ans_is_irreducible::Union{Missing,Bool}\n",
    "    Q8_2_c_ans_is_irreducible::Union{Missing,Bool}\n",
    " \n",
    "    # Q8.3\n",
    "    Q8_3_a_data_m::Vector{Int}\n",
    "    Q8_3_a_data_a::Vector{Int}\n",
    "    Q8_3_a_data_b::Vector{Int}\n",
    "    Q8_3_a_ans_p::Union{Missing, Vector{Vector{Int}}} # remind template form[[]]\n",
    " \n",
    "    Q8_3_b_data_m::Vector{Int}\n",
    "    Q8_3_b_data_a::Vector{Int}\n",
    "    Q8_3_b_data_b::Vector{Int}\n",
    "    Q8_3_b_ans_p::Union{Missing, Vector{Vector{Int}}}\n",
    " \n",
    "    Q8_3_c_data_m::Vector{Int}\n",
    "    Q8_3_c_data_a::Vector{Int}\n",
    "    Q8_3_c_data_b::Vector{Int}\n",
    "    Q8_3_c_ans_p::Union{Missing, Vector{Vector{Int}}}\n",
    "\n",
    "    # Q8.4\n",
    "    Q8_4_a_data_f1::Vector{Int}\n",
    "    Q8_4_a_ans::Union{Missing, Vector{Vector{Int}}}\n",
    "\n",
    "    Q8_4_b_data_f2::Vector{Int}\n",
    "    Q8_4_b_ans::Union{Missing, Vector{Vector{Int}}}\n",
    "\n",
    "    # Q8.5\n",
    "    Q8_5_data_f1::Vector{Int}\n",
    "    Q8_5_data_f2::Vector{Int}\n",
    "    Q8_5_data_p1::Vector{Int}\n",
    "    Q8_5_data_p2::Vector{Int}\n",
    "    Q8_5_data_p3::Vector{Int}\n",
    "    Q8_5_a_data_g1::Vector{Int}\n",
    "    Q8_5_b_data_g2::Vector{Int}\n",
    "\n",
    "    Q8_5_a_ans_q1::Union{Missing, Vector{Int}}\n",
    "    Q8_5_a_ans_q2::Union{Missing, Vector{Int}}\n",
    "    Q8_5_a_ans_q3::Union{Missing, Vector{Int}}\n",
    "    Q8_5_a_ans_q4::Union{Missing, Vector{Int}}\n",
    "    Q8_5_a_ans_q5::Union{Missing, Vector{Int}}\n",
    "\n",
    "    Q8_5_b_ans_q1::Union{Missing, Vector{Int}}\n",
    "    Q8_5_b_ans_q2::Union{Missing, Vector{Int}}\n",
    "    Q8_5_b_ans_q3::Union{Missing, Vector{Int}}\n",
    "    Q8_5_b_ans_q4::Union{Missing, Vector{Int}}\n",
    "    Q8_5_b_ans_q5::Union{Missing, Vector{Int}}\n",
    "\n",
    "    # Q9.1\n",
    "    Q9_1_data_r :: Int64\n",
    "    Q9_1_a_ans_H :: Union{Missing, Matrix{Int64}}\n",
    "\n",
    "    Q9_1_b_ans_G :: Union{Missing, Matrix{Int64}}\n",
    "\n",
    "    Q9_1_c_data_p :: Float64\n",
    "    Q9_1_c_ans_p_err :: Union{Missing, Float64}\n",
    "\n",
    "    Q9_1_d_data_y_1 :: Vector{String}\n",
    "    Q9_1_d_ans_i :: Union{Missing, Vector{Int64}}\n",
    "    Q9_1_d_ans_ii :: Union{Missing, Vector{Int64}}\n",
    "    Q9_1_d_ans_iii :: Union{Missing, Vector{Int64}}\n",
    "\n",
    "    Q9_1_e_data_p :: Float64\n",
    "    Q9_1_e_ans_p_err :: Union{Missing, Float64}\n",
    "\n",
    "    Q9_1_f_data_y_2 :: Vector{String}\n",
    "    Q9_1_f_ans_i :: Union{Missing, Vector{Int64}}\n",
    "    Q9_1_f_ans_ii :: Union{Missing, Vector{Int64}}\n",
    "    Q9_1_f_ans_iii :: Union{Missing, Vector{Int64}}\n",
    "\n",
    "    # \"Q9.2\"\n",
    "    Q9_2_data_r :: Int64\n",
    "    Q9_2_data_q :: Int64\n",
    "\n",
    "    Q9_2_a_ans_H :: Union{Missing, Matrix{Int64}}\n",
    "\n",
    "    Q9_2_b_ans_G :: Union{Missing, Matrix{Int64}}\n",
    "\n",
    "    Q9_2_c_data_p :: Float64\n",
    "    Q9_2_c_ans_p_err :: Union{Missing, Float64}\n",
    "\n",
    "    Q9_2_d_data_y_1 :: Vector{String}\n",
    "    Q9_2_d_ans_i :: Union{Missing, Vector{Int64}}\n",
    "    Q9_2_d_ans_ii :: Union{Missing, Vector{Int64}}\n",
    "    Q9_2_d_ans_iii :: Union{Missing, Vector{Int64}}\n",
    "\n",
    "    Q9_2_e_data_p :: Float64\n",
    "    Q9_2_e_ans_p_err :: Union{Missing, Float64}\n",
    "\n",
    "    Q9_2_f_data_y_2 :: Vector{String}\n",
    "    Q9_2_f_ans_i :: Union{Missing, Vector{Int64}}\n",
    "    Q9_2_f_ans_ii :: Union{Missing, Vector{Int64}}\n",
    "    Q9_2_f_ans_iii :: Union{Missing, Vector{Int64}}\n",
    "\n",
    "end"
   ]
  },
  {
   "cell_type": "code",
   "execution_count": null,
   "id": "052f7342",
   "metadata": {},
   "outputs": [],
   "source": [
    "# Download and upload data from JLD file, refer to https://juliaio.github.io/JLD2.jl/dev/ \n",
    "\n",
    "# Example \n",
    "# A = JLD2.load(\"xxx.jld2\");\n",
    "# A = A[ \"CourseWork_3\" ];\n",
    "# A.Demo_willing = true;\n",
    "\n",
    "# jldopen(\"xxx.jld2\", \"w\") do file\n",
    "#    write(file, \"CourseWork_3\", A)\n",
    "# end"
   ]
  },
  {
   "cell_type": "markdown",
   "id": "237a63e0",
   "metadata": {},
   "source": [
    "### 8.1"
   ]
  },
  {
   "cell_type": "code",
   "execution_count": null,
   "id": "db08cb67",
   "metadata": {},
   "outputs": [],
   "source": []
  },
  {
   "cell_type": "markdown",
   "id": "9b8ef128",
   "metadata": {},
   "source": [
    "### 8.2"
   ]
  },
  {
   "cell_type": "code",
   "execution_count": null,
   "id": "c72d0565",
   "metadata": {},
   "outputs": [],
   "source": []
  },
  {
   "cell_type": "markdown",
   "id": "c7c0a8bd",
   "metadata": {},
   "source": [
    "### 8.3\n",
    "##### Please make sure your answer is exactly the type as defined. For example, if your answer is empty, save it as [[ ]]."
   ]
  },
  {
   "cell_type": "code",
   "execution_count": null,
   "id": "af4b5f12",
   "metadata": {},
   "outputs": [],
   "source": []
  },
  {
   "cell_type": "markdown",
   "id": "32c442b3",
   "metadata": {},
   "source": [
    "### 8.4\n"
   ]
  },
  {
   "cell_type": "code",
   "execution_count": null,
   "id": "55680c79",
   "metadata": {},
   "outputs": [],
   "source": []
  },
  {
   "cell_type": "markdown",
   "id": "8716ed07",
   "metadata": {},
   "source": [
    "### 8.5\n"
   ]
  },
  {
   "cell_type": "code",
   "execution_count": null,
   "id": "2b7f24f9",
   "metadata": {},
   "outputs": [],
   "source": []
  },
  {
   "cell_type": "markdown",
   "id": "59cf540e",
   "metadata": {},
   "source": [
    "### 9.1\n"
   ]
  },
  {
   "cell_type": "code",
   "execution_count": null,
   "id": "61a20029",
   "metadata": {},
   "outputs": [],
   "source": []
  },
  {
   "cell_type": "markdown",
   "id": "7d5f661b",
   "metadata": {},
   "source": [
    "### 9.2\n"
   ]
  },
  {
   "cell_type": "code",
   "execution_count": null,
   "id": "84c336e2",
   "metadata": {},
   "outputs": [],
   "source": []
  }
 ],
 "metadata": {
  "kernelspec": {
   "display_name": "Julia 1.8.5",
   "language": "julia",
   "name": "julia-1.8"
  },
  "language_info": {
   "file_extension": ".jl",
   "mimetype": "application/julia",
   "name": "julia",
   "version": "1.8.5"
  }
 },
 "nbformat": 4,
 "nbformat_minor": 5
}
