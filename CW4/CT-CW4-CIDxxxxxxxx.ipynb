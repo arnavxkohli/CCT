{
 "cells": [
  {
   "cell_type": "markdown",
   "id": "9fdea660",
   "metadata": {},
   "source": [
    "# Coursework 4 - Coding Theory\n",
    "\n",
    "### PLAGIARISM/COLLUSION DECLARATION\n",
    "\n",
    "Coursework submitted for assessment must be the original work of you and your group. Assignments are subjected to regular checks for plagiarism and/or collusion. Plagiarism is the presentation of another person’s thoughts or words (those outside your group) as if they were your own. Collusion involves obtaining help from someone outside your group to complete your work. In preparing your coursework, you should not seek help, or copy from any other person or source, including the\n",
    "Internet, without proper and explicit acknowledgement.\n",
    "\n",
    "There is a procedure in place for you to declare individual contributions within your group for courswork. You must declare the contributions fairly and accurately.\n",
    "\n",
    "You must not disclose your solutions or insights related to coursework with anyone else, including future students or the Internet.\n",
    "\n",
    "By acknowledging the the statements above, you are declaring that both this and all subsequent pieces of coursework are, and will remain, the original work of you and your group. \n",
    "\n",
    "* Submissions will not be accepted without the aforementioned declaration.\n",
    "\n",
    "* Members of a group are deemed to have collective responsibility for the integrity for work submitted and are liable for any penalty imposed, proportionate to their contributions. \n",
    "\n"
   ]
  },
  {
   "cell_type": "code",
   "execution_count": null,
   "id": "0a4e08f9",
   "metadata": {},
   "outputs": [],
   "source": [
    "using FileIO, JLD2"
   ]
  },
  {
   "cell_type": "code",
   "execution_count": null,
   "id": "c07e984b",
   "metadata": {},
   "outputs": [],
   "source": [
    "Base.@kwdef mutable struct CourseWork_4\n",
    "    CID::Int\n",
    "    Plagiarism_declare::Union{Missing,Bool}\n",
    "    Demo_willing::Union{Missing,Bool}\n",
    "\n",
    "    Q10_1_data_p :: Int64\n",
    "    Q10_1_data_a :: Int64\n",
    "    Q10_1_data_d_1 :: Int64\n",
    "    Q10_1_data_d_2 :: Int64\n",
    "\n",
    "    Q10_1_1_ans_G :: Union{Missing, Matrix{Int64}}\n",
    "    Q10_1_1_ans_H :: Union{Missing, Matrix{Int64}}\n",
    "\n",
    "    Q10_1_2_ans_G :: Union{Missing, Matrix{Int64}}\n",
    "    Q10_1_2_ans_H :: Union{Missing, Matrix{Int64}}\n",
    "\n",
    "    Q10_1_3_ans_G :: Union{Missing, Matrix{Int64}}\n",
    "    Q10_1_3_ans_H :: Union{Missing, Matrix{Int64}}\n",
    "\n",
    "    Q10_1_4_ans_G :: Union{Missing, Matrix{Int64}}\n",
    "    Q10_1_4_ans_H :: Union{Missing, Matrix{Int64}}\n",
    "\n",
    "    Q10_1_5_ans_G :: Union{Missing, Matrix{Int64}}\n",
    "    Q10_1_5_ans_H :: Union{Missing, Matrix{Int64}}\n",
    "\n",
    "    Q10_1_6_ans_G :: Union{Missing, Matrix{Int64}}\n",
    "    Q10_1_6_ans_H :: Union{Missing, Matrix{Int64}}\n",
    "\n",
    "    Q10_1_7_ans_G :: Union{Missing, Matrix{Int64}}\n",
    "    Q10_1_7_ans_H :: Union{Missing, Matrix{Int64}}\n",
    "\n",
    "    Q10_1_8_ans_G :: Union{Missing, Matrix{Int64}}\n",
    "    Q10_1_8_ans_H :: Union{Missing, Matrix{Int64}}\n",
    "\n",
    "    Q10_1_9_data_y :: Vector{String}\n",
    "    Q10_1_9_ans_m :: Union{Missing, Vector{Int64}}\n",
    "\n",
    "\n",
    "    Q10_2_data_polynomial::Vector{Int}\n",
    "    Q10_2_data_primitive_el::Vector{Int}\n",
    "    Q10_2_1_ans_G::Union{Missing, Vector{ Vector{Int} }}\n",
    "    Q10_2_1_ans_H::Union{Missing, Vector{ Vector{Int} }}\n",
    "    Q10_2_2_data_y::Vector{ Vector{Int} }\n",
    "    Q10_2_2_ans_syndrome_vector::Union{Missing, Vector{ Vector{Int} }}\n",
    "    Q10_2_2_ans_syndrome_poly::Union{Missing,  Vector{ Vector{Int} }}\n",
    "    Q10_2_3_ans_error_locator_poly::Union{Missing, Vector{ Vector{Int} }}\n",
    "    Q10_2_3_ans_error_evaluator_poly::Union{Missing, Vector{ Vector{Int} }}\n",
    "    Q10_2_4_ans_error_locations::Union{Missing, Vector{Int}}\n",
    "    Q10_2_4_ans_error_vector::Union{Missing, Vector{ Vector{Int} }}\n",
    "    Q10_2_4_ans_transmt_cdword::Union{Missing, Vector{ Vector{Int} }}\n",
    "    Q10_2_5_ans_message::Union{Missing, Vector{ Vector{Int} }}\n",
    "\n",
    "end"
   ]
  },
  {
   "cell_type": "code",
   "execution_count": null,
   "id": "052f7342",
   "metadata": {},
   "outputs": [],
   "source": [
    "# data_file = \"Arnav 2018546StudentFile.jld2\"\n",
    "# data_file = \"Ratul2015627StudentFile.jld2\"\n",
    "data_file = \"Talha2032193StudentFile.jld2\"\n",
    "\n",
    "answer = JLD2.load(data_file);\n",
    "answer = answer[ \"CourseWork_4\" ];\n",
    "answer.Demo_willing = true;\n",
    "answer.Plagiarism_declare = true;"
   ]
  },
  {
   "cell_type": "markdown",
   "id": "f4ea51c4",
   "metadata": {},
   "source": [
    "### 10.1.1"
   ]
  },
  {
   "cell_type": "markdown",
   "id": "e821312b",
   "metadata": {},
   "source": []
  },
  {
   "cell_type": "code",
   "execution_count": null,
   "id": "c48ee354",
   "metadata": {},
   "outputs": [],
   "source": [
    "# Q10_1_data_p :: Int64\n",
    "# Q10_1_data_a :: Int64\n",
    "# Q10_1_data_d_1 :: Int64\n",
    "# Q10_1_data_d_2 :: Int64\n",
    "\n",
    "answer.Q10_1_data_p, answer.Q10_1_data_a, answer.Q10_1_data_d_1, answer.Q10_1_data_d_2\n",
    "\n",
    "\n",
    "using Nemo\n",
    "\n",
    "function generate_rs_matrices(p::Int, d::Int, alpha_value::Int)\n",
    "    n = p - 1                      # Code length (for RS codes over GF(p))\n",
    "    k = n - d + 1                  # Dimension from minimum distance d\n",
    "    \n",
    "    # Construct the Generator Matrix G (k × n)\n",
    "    G = zeros(Int64, k, n)            # Initialize k × n matrix over integers\n",
    "    for row in 1:k\n",
    "        for col in 1:n\n",
    "            G[row, col] = powermod(alpha_value, (row-1)*(col-1), p)  # powermod to calculate α^(row-1)(col-1) mod p\n",
    "        end\n",
    "    end\n",
    "    \n",
    "    # Construct the Parity-Check Matrix H ((n-k) × n)\n",
    "    H = zeros(Int64, n-k, n)          # Initialize (n-k) × n matrix over integers\n",
    "    for row in 1:(n-k)\n",
    "        for col in 1:n\n",
    "            H[row, col] = powermod(alpha_value, row*(col-1), p)  # powermod to calculate α^(row)(col-1) mod p\n",
    "        end\n",
    "    end\n",
    "\n",
    "    # Check if mod(G * H^T, p) gives the zero matrix\n",
    "    result = mod.(G * H', p)  # Calculate the product and take mod p\n",
    "    if all(result .== 0)  # Check if all elements are zero\n",
    "        return G, H\n",
    "    else\n",
    "        return \"Error: mod(G * H^T, p) does not give the zero matrix\"\n",
    "    end\n",
    "end\n",
    "\n",
    "# Example call:\n",
    "p = 37        # Field characteristic\n",
    "d1 = 7        # Minimum distance\n",
    "alpha_value = 32  # Primitive element α = 32 in GF(37)\n",
    "G1, H1 = generate_rs_matrices(p, d1, alpha_value)\n",
    "\n",
    "# Display results\n",
    "println(\"Generator Matrix (G): $G1\")\n",
    "\n",
    "println(\"\\nParity-Check Matrix (H): $H1\")\n",
    "\n",
    "G1\n"
   ]
  },
  {
   "cell_type": "markdown",
   "id": "36979a01",
   "metadata": {},
   "source": [
    "### 10.1.2"
   ]
  },
  {
   "cell_type": "markdown",
   "id": "72fdcabc",
   "metadata": {},
   "source": []
  },
  {
   "cell_type": "code",
   "execution_count": null,
   "id": "62e33492",
   "metadata": {},
   "outputs": [],
   "source": [
    "d2 = 11\n",
    "\n",
    "G2, H2 = generate_rs_matrices(p, d2, alpha_value)\n",
    "\n",
    "# Display results\n",
    "println(\"Generator Matrix (G): $G2\")\n",
    "\n",
    "println(\"\\nParity-Check Matrix (H): $H2\")\n",
    "\n"
   ]
  },
  {
   "cell_type": "markdown",
   "id": "02098d20",
   "metadata": {},
   "source": [
    "### 10.1.3"
   ]
  },
  {
   "cell_type": "markdown",
   "id": "a6744b20",
   "metadata": {},
   "source": [
    "- C1 = [36, 30, 7]\n",
    "- C2 = [36, 26, 11]\n",
    "\n",
    "- C1 contains all the codewords of C2, as they share the same n.\n",
    "- Thus, C1 U C2 is the same as C1.\n",
    "- C3 = C1 = [36, 30, 7]"
   ]
  },
  {
   "cell_type": "code",
   "execution_count": null,
   "id": "2be23b34",
   "metadata": {},
   "outputs": [],
   "source": [
    "G3, H3 = generate_rs_matrices(p, d1, alpha_value)"
   ]
  },
  {
   "cell_type": "markdown",
   "id": "e35d87f9",
   "metadata": {},
   "source": [
    "### 10.1.4"
   ]
  },
  {
   "cell_type": "markdown",
   "id": "07ef20a4",
   "metadata": {},
   "source": [
    "- C4 = C1 n C2\n",
    "- All codewords of C2 present in C1\n",
    "- Intersect of both is the codewords of C2\n",
    "- Therefore, C4 = C2 = [36, 26, 11]"
   ]
  },
  {
   "cell_type": "code",
   "execution_count": null,
   "id": "49dc6a0a",
   "metadata": {},
   "outputs": [],
   "source": [
    "G4, H4 = generate_rs_matrices(p, d2, alpha_value)"
   ]
  },
  {
   "cell_type": "markdown",
   "id": "d5552dce",
   "metadata": {},
   "source": [
    "### 10.1.5"
   ]
  },
  {
   "cell_type": "markdown",
   "id": "a0ff02dd",
   "metadata": {},
   "source": [
    "- Every codeword of C2 also in C1.\n",
    "- Adding any codeword from C2 to anothe codeword in C1 will result in codeword in C1, due to the linearity of RS codes.\n",
    "- C5 = C1 = [36, 30, 7]"
   ]
  },
  {
   "cell_type": "code",
   "execution_count": null,
   "id": "be00fdcc",
   "metadata": {},
   "outputs": [],
   "source": [
    "G5, H5 = generate_rs_matrices(p, d1, alpha_value)"
   ]
  },
  {
   "cell_type": "markdown",
   "id": "54eb6d43",
   "metadata": {},
   "source": [
    "### 10.1.6"
   ]
  },
  {
   "cell_type": "markdown",
   "id": "265ec9be",
   "metadata": {},
   "source": []
  },
  {
   "cell_type": "code",
   "execution_count": null,
   "id": "e69c210b",
   "metadata": {},
   "outputs": [],
   "source": [
    "using LinearAlgebra\n",
    "\n",
    "# Assume G1, G2, H1, and H2 are defined\n",
    "G6 = vcat(hcat(G1, zeros(size(G1, 1), size(G2, 2))),\n",
    "          hcat(zeros(size(G2, 1), size(G1, 2)), G2))\n",
    "\n",
    "H6 = vcat(hcat(H1, zeros(Int, size(H1, 1), size(H2, 2))),\n",
    "          hcat(zeros(Int, size(H2, 1), size(H1, 2)), H2))\n",
    "\n",
    "# Output the resulting matrices\n",
    "println(\"Generator Matrix G6:\")\n",
    "println(G6)\n",
    "\n",
    "println(\"\\nParity-Check Matrix H6:\")\n",
    "println(H6)\n",
    "\n",
    "function check_orthogonality(G, H)\n",
    "    # Compute G * H^T\n",
    "    result = mod.(G * H', p)\n",
    "        \n",
    "    # Check if the result is the zero matrix\n",
    "    return all(result .== 0)  # Return true if all elements are zero\n",
    "end\n",
    "\n",
    "println(check_orthogonality(G6, H6))"
   ]
  },
  {
   "cell_type": "markdown",
   "id": "e77e53d1",
   "metadata": {},
   "source": [
    "### 10.1.7"
   ]
  },
  {
   "cell_type": "markdown",
   "id": "82016d34",
   "metadata": {},
   "source": []
  },
  {
   "cell_type": "code",
   "execution_count": null,
   "id": "693d4931",
   "metadata": {},
   "outputs": [],
   "source": [
    "function generate_C7_matrices(G1, H1, p)\n",
    "    # Get dimensions of G1 and H1\n",
    "    k, n = size(G1)    # Generator matrix dimensions (k × n)\n",
    "    k2, n2 = size(H1)  # Parity check matrix dimensions (n-k × n)\n",
    "\n",
    "\n",
    "    # Step 1: Construct the Generator Matrix for C7 (G7)\n",
    "    G7 = zeros(Int64, k, n+1)  # Initialize (k × (n+1)) matrix for G7\n",
    "    \n",
    "    # Copy the original generator matrix G1 into G7\n",
    "    G7[:, 1:n] .= G1  # Copy first n columns of G1 into G7\n",
    "\n",
    "    # Step 2: Add the new column for the summation (sum of first p-1 elements of each codeword)\n",
    "    for i in 1:k\n",
    "        sum_symbols = sum(G1[i, 1:(p-1)])  # Sum the first p-1 elements of the i-th codeword\n",
    "        G7[i, n+1] = mod(sum_symbols, p)  # Append the sum to the last column (mod p)\n",
    "    end\n",
    "\n",
    "    # Initialize H7 with one more column than H1\n",
    "    H7 = zeros(Int64, n-k, n+1)  # Initialize (n-k) × (n+1) matrix for H7\n",
    "    \n",
    "    # Copy the original parity check matrix H1 into H7 (first n columns)\n",
    "    H7[:, 1:n] .= H1  # Copy first n columns of H1 into H7\n",
    "    \n",
    "    # Step 2: Add a new column to H7 to make it orthogonal to G7\n",
    "    for i in 1:(n-k)\n",
    "        sum_symbols = sum(H1[i, 1:(p-1)])\n",
    "        H7[i, n+1] = mod(sum_symbols, p)  # Placeholder for the new column, adjust as needed to ensure orthogonality\n",
    "    end\n",
    "\n",
    "    return G7, H7\n",
    "end\n",
    "\n",
    "G7, H7 = generate_C7_matrices(G1, H1, p)\n",
    "\n",
    "check_orthogonality(G7, H7)"
   ]
  },
  {
   "cell_type": "markdown",
   "id": "241a3beb",
   "metadata": {},
   "source": [
    "### 10.1.8"
   ]
  },
  {
   "cell_type": "markdown",
   "id": "6ece2791",
   "metadata": {},
   "source": []
  },
  {
   "cell_type": "code",
   "execution_count": null,
   "id": "85679d06",
   "metadata": {},
   "outputs": [],
   "source": [
    "using LinearAlgebra\n",
    "\n",
    "# Function to compute the generator matrix G8 and parity check matrix H8 for C8\n",
    "function generate_C8_matrices(G1, H1, G2, H2)\n",
    "    # Compute the Kronecker product of G1 and G2 to get the generator matrix for C8\n",
    "    G8 = kron(G1, G2)  # Kronecker product of G1 and G2\n",
    "    \n",
    "    # Compute the Kronecker product of H1 and H2 to get the parity check matrix for C8\n",
    "    H8 = kron(H1, H2)  # Kronecker product of H1 and H2\n",
    "    \n",
    "    return G8, H8\n",
    "end\n",
    "\n",
    "G8, H8 = generate_C8_matrices(G1, H1, G2, H2)\n",
    "\n",
    "# Output results\n",
    "println(\"Generator Matrix G8: \", size(G8))\n",
    "println(\"Parity Check Matrix H8: \", size(H8))\n",
    "\n",
    "check_orthogonality(G8, H8)"
   ]
  },
  {
   "cell_type": "markdown",
   "id": "479279a0",
   "metadata": {},
   "source": [
    "### 10.1.9"
   ]
  },
  {
   "cell_type": "markdown",
   "id": "9d63c388",
   "metadata": {},
   "source": []
  },
  {
   "cell_type": "code",
   "execution_count": null,
   "id": "8e5ba0d4",
   "metadata": {},
   "outputs": [],
   "source": [
    "# Q10_1_9_data_y :: Vector{String}\n",
    "# Q10_1_9_ans_m :: Union{Missing, Vector{Int64}}\n",
    "using Polynomials\n",
    "\n",
    "function compute_syndrome(H::Matrix{Int64}, y::Vector{Int}, p::Int)\n",
    "    return mod.(H * y, p)\n",
    "end\n",
    "\n",
    "function locator_polynomial(alpha::Int, y::Vector{String})\n",
    "    error_locations = []\n",
    "    for (i, x) in enumerate(y)\n",
    "        if x == \"?\"\n",
    "            push!(error_locations, i)\n",
    "        end\n",
    "    end\n",
    "    coefficients = [alpha^i for i in error_locations]\n",
    "    return coefficients\n",
    "end\n",
    "\n",
    "y_int =  [x == \"?\" ? 0 : parse(Int, x) for x in answer.Q10_1_9_data_y]\n",
    "s = compute_syndrome(H1, y_int, answer.Q10_1_data_p)\n",
    "\n",
    "locator_polynomial(answer.Q10_1_data_a, answer.Q10_1_9_data_y)"
   ]
  },
  {
   "cell_type": "markdown",
   "id": "ed5ecfa6",
   "metadata": {},
   "source": [
    "### 10.2.1"
   ]
  },
  {
   "cell_type": "markdown",
   "id": "b3afa7e4",
   "metadata": {},
   "source": []
  },
  {
   "cell_type": "code",
   "execution_count": null,
   "id": "070b37c3",
   "metadata": {},
   "outputs": [],
   "source": []
  },
  {
   "cell_type": "markdown",
   "id": "237a63e0",
   "metadata": {},
   "source": [
    "### 10.2.2"
   ]
  },
  {
   "cell_type": "markdown",
   "id": "f745e356",
   "metadata": {},
   "source": []
  },
  {
   "cell_type": "code",
   "execution_count": null,
   "id": "db08cb67",
   "metadata": {},
   "outputs": [],
   "source": []
  },
  {
   "cell_type": "markdown",
   "id": "9b8ef128",
   "metadata": {},
   "source": [
    "### 10.2.3"
   ]
  },
  {
   "cell_type": "markdown",
   "id": "ece18773",
   "metadata": {},
   "source": []
  },
  {
   "cell_type": "code",
   "execution_count": null,
   "id": "c72d0565",
   "metadata": {},
   "outputs": [],
   "source": []
  },
  {
   "cell_type": "markdown",
   "id": "c7c0a8bd",
   "metadata": {},
   "source": [
    "### 10.2.4"
   ]
  },
  {
   "cell_type": "markdown",
   "id": "02ae850d",
   "metadata": {},
   "source": []
  },
  {
   "cell_type": "code",
   "execution_count": null,
   "id": "69fbab6a",
   "metadata": {},
   "outputs": [],
   "source": []
  },
  {
   "cell_type": "markdown",
   "id": "a1ed1e7d",
   "metadata": {},
   "source": [
    "### 10.2.5"
   ]
  },
  {
   "cell_type": "markdown",
   "id": "e7bdd7fa",
   "metadata": {},
   "source": []
  },
  {
   "cell_type": "code",
   "execution_count": null,
   "id": "1a047555",
   "metadata": {},
   "outputs": [],
   "source": []
  },
  {
   "cell_type": "markdown",
   "id": "380b37b2",
   "metadata": {},
   "source": [
    "### Write Back to Struct"
   ]
  },
  {
   "cell_type": "code",
   "execution_count": null,
   "id": "b387d981",
   "metadata": {},
   "outputs": [],
   "source": [
    "jldopen(data_file, \"w\") do file\n",
    "    write(file, \"CourseWork_4\", answer)\n",
    "end"
   ]
  },
  {
   "cell_type": "markdown",
   "id": "8824e739",
   "metadata": {},
   "source": [
    "### Sanity Check"
   ]
  },
  {
   "cell_type": "code",
   "execution_count": null,
   "id": "8214346d",
   "metadata": {},
   "outputs": [],
   "source": [
    "answer"
   ]
  }
 ],
 "metadata": {
  "kernelspec": {
   "display_name": "Julia 1.10.5",
   "language": "julia",
   "name": "julia-1.10"
  },
  "language_info": {
   "file_extension": ".jl",
   "mimetype": "application/julia",
   "name": "julia",
   "version": "1.10.5"
  }
 },
 "nbformat": 4,
 "nbformat_minor": 5
}
