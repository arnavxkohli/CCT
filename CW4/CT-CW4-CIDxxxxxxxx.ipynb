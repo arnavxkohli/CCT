{
 "cells": [
  {
   "cell_type": "markdown",
   "id": "9fdea660",
   "metadata": {},
   "source": [
    "# Coursework 4 - Coding Theory\n",
    "\n",
    "### PLAGIARISM/COLLUSION DECLARATION\n",
    "\n",
    "Coursework submitted for assessment must be the original work of you and your group. Assignments are subjected to regular checks for plagiarism and/or collusion. Plagiarism is the presentation of another person’s thoughts or words (those outside your group) as if they were your own. Collusion involves obtaining help from someone outside your group to complete your work. In preparing your coursework, you should not seek help, or copy from any other person or source, including the\n",
    "Internet, without proper and explicit acknowledgement.\n",
    "\n",
    "There is a procedure in place for you to declare individual contributions within your group for courswork. You must declare the contributions fairly and accurately.\n",
    "\n",
    "You must not disclose your solutions or insights related to coursework with anyone else, including future students or the Internet.\n",
    "\n",
    "By acknowledging the the statements above, you are declaring that both this and all subsequent pieces of coursework are, and will remain, the original work of you and your group. \n",
    "\n",
    "* Submissions will not be accepted without the aforementioned declaration.\n",
    "\n",
    "* Members of a group are deemed to have collective responsibility for the integrity for work submitted and are liable for any penalty imposed, proportionate to their contributions. \n",
    "\n"
   ]
  },
  {
   "cell_type": "code",
   "execution_count": 58,
   "id": "0a4e08f9",
   "metadata": {},
   "outputs": [],
   "source": [
    "using FileIO, JLD2"
   ]
  },
  {
   "cell_type": "code",
   "execution_count": 59,
   "id": "c07e984b",
   "metadata": {},
   "outputs": [
    {
     "data": {
      "text/plain": [
       "CourseWork_4"
      ]
     },
     "metadata": {},
     "output_type": "display_data"
    }
   ],
   "source": [
    "Base.@kwdef mutable struct CourseWork_4\n",
    "    CID::Int\n",
    "    Plagiarism_declare::Union{Missing,Bool}\n",
    "    Demo_willing::Union{Missing,Bool}\n",
    "\n",
    "    Q10_1_1_ans_G :: Union{Missing, Matrix{Int64}}\n",
    "    Q10_1_1_ans_H :: Union{Missing, Matrix{Int64}}\n",
    "\n",
    "    Q10_1_2_ans_G :: Union{Missing, Matrix{Int64}}\n",
    "    Q10_1_2_ans_H :: Union{Missing, Matrix{Int64}}\n",
    "\n",
    "    Q10_1_3_ans_G :: Union{Missing, Matrix{Int64}}\n",
    "    Q10_1_3_ans_H :: Union{Missing, Matrix{Int64}}\n",
    "\n",
    "    Q10_1_4_ans_G :: Union{Missing, Matrix{Int64}}\n",
    "    Q10_1_4_ans_H :: Union{Missing, Matrix{Int64}}\n",
    "\n",
    "    Q10_1_5_ans_G :: Union{Missing, Matrix{Int64}}\n",
    "    Q10_1_5_ans_H :: Union{Missing, Matrix{Int64}}\n",
    "\n",
    "    Q10_1_6_ans_G :: Union{Missing, Matrix{Int64}}\n",
    "    Q10_1_6_ans_H :: Union{Missing, Matrix{Int64}}\n",
    "\n",
    "    Q10_1_7_ans_G :: Union{Missing, Matrix{Int64}}\n",
    "    Q10_1_7_ans_H :: Union{Missing, Matrix{Int64}}\n",
    "\n",
    "    Q10_1_8_ans_G :: Union{Missing, Matrix{Int64}}\n",
    "    Q10_1_8_ans_H :: Union{Missing, Matrix{Int64}}\n",
    "\n",
    "    Q10_1_9_data_y :: Vector{String}\n",
    "    Q10_1_9_ans_m :: Union{Missing, Vector{Int64}}\n",
    "\n",
    "\n",
    "    Q10_2_data_polynomial::Vector{Int}\n",
    "    Q10_2_data_primitive_el::Vector{Int}\n",
    "    Q10_2_1_ans_G::Union{Missing, Vector{ Vector{Int} }}\n",
    "    Q10_2_1_ans_H::Union{Missing, Vector{ Vector{Int} }}\n",
    "    Q10_2_2_data_y::Vector{ Vector{Int} }\n",
    "    Q10_2_2_ans_syndrome_vector::Union{Missing, Vector{ Vector{Int} }}\n",
    "    Q10_2_2_ans_syndrome_poly::Union{Missing,  Vector{ Vector{Int} }}\n",
    "    Q10_2_3_ans_error_locator_poly::Union{Missing, Vector{ Vector{Int} }}\n",
    "    Q10_2_3_ans_error_evaluator_poly::Union{Missing, Vector{ Vector{Int} }}\n",
    "    Q10_2_4_ans_error_locations::Union{Missing, Vector{Int}}\n",
    "    Q10_2_4_ans_error_vector::Union{Missing, Vector{ Vector{Int} }}\n",
    "    Q10_2_4_ans_transmt_cdword::Union{Missing, Vector{ Vector{Int} }}\n",
    "    Q10_2_5_ans_message::Union{Missing, Vector{ Vector{Int} }}\n",
    "\n",
    "end"
   ]
  },
  {
   "cell_type": "code",
   "execution_count": null,
   "id": "052f7342",
   "metadata": {},
   "outputs": [],
   "source": [
    "data_file = \"Arnav 2018546StudentFile.jld2\"\n",
    "\n",
    "answer = JLD2.load(data_file);\n",
    "answer = answer[ \"CourseWork_4\" ];\n",
    "answer.Demo_willing = true;\n",
    "answer.Plagiarism_declare = true;"
   ]
  },
  {
   "cell_type": "markdown",
   "id": "f4ea51c4",
   "metadata": {},
   "source": [
    "### 10.1.1"
   ]
  },
  {
   "cell_type": "markdown",
   "id": "e821312b",
   "metadata": {},
   "source": []
  },
  {
   "cell_type": "code",
   "execution_count": null,
   "id": "c48ee354",
   "metadata": {},
   "outputs": [],
   "source": [
    "# Q10_1_data_p :: Int64\n",
    "# Q10_1_data_a :: Int64\n",
    "# Q10_1_data_d_1 :: Int64\n",
    "# Q10_1_data_d_2 :: Int64\n",
    "\n",
    "A.Q10_1_data_p, A.Q10_1_data_a, A.Q10_1_data_d_1, A.Q10_1_data_d_2\n",
    "\n",
    "\n",
    "using Nemo\n",
    "\n",
    "# Function to generate Reed-Solomon Generator and Parity-Check matrices\n",
    "function generate_rs_matrices(p::Int, d::Int, alpha_value::Int)\n",
    "    n = p - 1                      # Code length (for RS codes over GF(p))\n",
    "    k = n - d + 1                  # Dimension from minimum distance d\n",
    "    \n",
    "    # Create the finite field GF(p)\n",
    "    F = GF(p) # Create the finite field GF(p)\n",
    "    \n",
    "    # Set α to the given value (32 in this case)\n",
    "    a = F(alpha_value)             # Set α = 32\n",
    "    \n",
    "    # Generate powers of α (α^0, α^1, ..., α^(n-1))\n",
    "    a_powers = [a^i for i in 0:(n-1)]\n",
    "    \n",
    "    # Construct the Generator Matrix G (k × n)\n",
    "    G = zeros(F, k, n)            # Initialize k × n matrix over F\n",
    "    for row in 0:(k-1)\n",
    "        for col in 1:n\n",
    "            G[row+1, col] = a_powers[col]^row\n",
    "        end\n",
    "    end\n",
    "    \n",
    "    # Construct the Parity-Check Matrix H ((n-k) × n)\n",
    "    H = zeros(F, n-k, n)          # Initialize (n-k) × n matrix over F\n",
    "    for row in 1:(n-k)\n",
    "        for col in 1:n\n",
    "            H[row, col] = a_powers[col]^row\n",
    "        end\n",
    "    end\n",
    "    \n",
    "    return G, H\n",
    "end\n",
    "\n",
    "# Example call:\n",
    "p = 37        # Field characteristic\n",
    "d1 = 7        # Minimum distance\n",
    "alpha_value = 32  # Primitive element α = 32 in GF(37)\n",
    "G1, H1 = generate_rs_matrices(p, d1, alpha_value)\n",
    "\n",
    "# Display results\n",
    "println(\"Generator Matrix (G): $G1\")\n",
    "\n",
    "println(\"\\nParity-Check Matrix (H): $H1\")\n",
    "\n",
    "function check_orthogonality(G, H)\n",
    "    \n",
    "    # Compute G * H^T\n",
    "    result = G * transpose(H)\n",
    "    \n",
    "    # Check if the result is the zero matrix\n",
    "    return all(result .== 0)  # Return true if all elements are zero\n",
    "end\n",
    "\n",
    "is_zero_matrix = check_orthogonality(G1, H1)\n",
    "println(\"\\nIs G * H^T the zero matrix? \", is_zero_matrix)\n",
    "\n",
    "result = G1 * transpose(H1)\n",
    "\n",
    "typeof(G1)"
   ]
  },
  {
   "cell_type": "markdown",
   "id": "36979a01",
   "metadata": {},
   "source": [
    "### 10.1.2"
   ]
  },
  {
   "cell_type": "markdown",
   "id": "72fdcabc",
   "metadata": {},
   "source": []
  },
  {
   "cell_type": "code",
   "execution_count": null,
   "id": "62e33492",
   "metadata": {},
   "outputs": [],
   "source": [
    "d2 = 11\n",
    "\n",
    "G2, H2 = generate_rs_matrices(p, d2, alpha_value)\n",
    "\n",
    "# Display results\n",
    "println(\"Generator Matrix (G): $G2\")\n",
    "\n",
    "println(\"\\nParity-Check Matrix (H): $H2\")\n",
    "\n",
    "is_zero_matrix = check_orthogonality(G2, H2)\n",
    "println(\"\\nIs G * H^T the zero matrix? \", is_zero_matrix)\n",
    "\n",
    "result = G2 * transpose(H2)\n",
    "\n",
    "G1"
   ]
  },
  {
   "cell_type": "markdown",
   "id": "02098d20",
   "metadata": {},
   "source": [
    "### 10.1.3"
   ]
  },
  {
   "cell_type": "markdown",
   "id": "a6744b20",
   "metadata": {},
   "source": [
    "- C1 = [36, 30, 7]\n",
    "- C2 = [36, 26, 11]\n",
    "\n",
    "- C1 contains all the codewords of C2, as they share the same n.\n",
    "- Thus, C1 U C2 is the same as C1.\n",
    "- C3 = C1 = [36, 30, 7]"
   ]
  },
  {
   "cell_type": "code",
   "execution_count": null,
   "id": "2be23b34",
   "metadata": {},
   "outputs": [],
   "source": [
    "G3, H3 = generate_rs_matrices(p, d1, alpha_value)"
   ]
  },
  {
   "cell_type": "markdown",
   "id": "e35d87f9",
   "metadata": {},
   "source": [
    "### 10.1.4"
   ]
  },
  {
   "cell_type": "markdown",
   "id": "07ef20a4",
   "metadata": {},
   "source": [
    "- C4 = C1 n C2\n",
    "- All codewords of C2 present in C1\n",
    "- Intersect of both is the codewords of C2\n",
    "- Therefore, C4 = C2 = [36, 26, 11]"
   ]
  },
  {
   "cell_type": "code",
   "execution_count": null,
   "id": "49dc6a0a",
   "metadata": {},
   "outputs": [],
   "source": [
    "G4, H4 = generate_rs_matrices(p, d2, alpha_value)"
   ]
  },
  {
   "cell_type": "markdown",
   "id": "d5552dce",
   "metadata": {},
   "source": [
    "### 10.1.5"
   ]
  },
  {
   "cell_type": "markdown",
   "id": "a0ff02dd",
   "metadata": {},
   "source": [
    "- Every codeword of C2 also in C1.\n",
    "- Adding any codeword from C2 to anothe codeword in C1 will result in codeword in C1, due to the linearity of RS codes.\n",
    "- C5 = C1 = [36, 30, 7]"
   ]
  },
  {
   "cell_type": "code",
   "execution_count": null,
   "id": "be00fdcc",
   "metadata": {},
   "outputs": [],
   "source": [
    "G5, H5 = generate_rs_matrices(p, d1, alpha_value)"
   ]
  },
  {
   "cell_type": "markdown",
   "id": "54eb6d43",
   "metadata": {},
   "source": [
    "### 10.1.6"
   ]
  },
  {
   "cell_type": "markdown",
   "id": "265ec9be",
   "metadata": {},
   "source": []
  },
  {
   "cell_type": "code",
   "execution_count": 66,
   "id": "e69c210b",
   "metadata": {},
   "outputs": [],
   "source": []
  },
  {
   "cell_type": "markdown",
   "id": "e77e53d1",
   "metadata": {},
   "source": [
    "### 10.1.7"
   ]
  },
  {
   "cell_type": "markdown",
   "id": "82016d34",
   "metadata": {},
   "source": []
  },
  {
   "cell_type": "code",
   "execution_count": 67,
   "id": "693d4931",
   "metadata": {},
   "outputs": [],
   "source": []
  },
  {
   "cell_type": "markdown",
   "id": "241a3beb",
   "metadata": {},
   "source": [
    "### 10.1.8"
   ]
  },
  {
   "cell_type": "markdown",
   "id": "6ece2791",
   "metadata": {},
   "source": []
  },
  {
   "cell_type": "code",
   "execution_count": 68,
   "id": "85679d06",
   "metadata": {},
   "outputs": [],
   "source": []
  },
  {
   "cell_type": "markdown",
   "id": "479279a0",
   "metadata": {},
   "source": [
    "### 10.1.9"
   ]
  },
  {
   "cell_type": "markdown",
   "id": "9d63c388",
   "metadata": {},
   "source": []
  },
  {
   "cell_type": "code",
   "execution_count": 69,
   "id": "8e5ba0d4",
   "metadata": {},
   "outputs": [],
   "source": []
  },
  {
   "cell_type": "markdown",
   "id": "ed5ecfa6",
   "metadata": {},
   "source": [
    "### 10.2.1"
   ]
  },
  {
   "cell_type": "markdown",
   "id": "b3afa7e4",
   "metadata": {},
   "source": []
  },
  {
   "cell_type": "code",
   "execution_count": 70,
   "id": "070b37c3",
   "metadata": {},
   "outputs": [],
   "source": []
  },
  {
   "cell_type": "markdown",
   "id": "237a63e0",
   "metadata": {},
   "source": [
    "### 10.2.2"
   ]
  },
  {
   "cell_type": "markdown",
   "id": "f745e356",
   "metadata": {},
   "source": []
  },
  {
   "cell_type": "code",
   "execution_count": 71,
   "id": "db08cb67",
   "metadata": {},
   "outputs": [],
   "source": []
  },
  {
   "cell_type": "markdown",
   "id": "9b8ef128",
   "metadata": {},
   "source": [
    "### 10.2.3"
   ]
  },
  {
   "cell_type": "markdown",
   "id": "ece18773",
   "metadata": {},
   "source": []
  },
  {
   "cell_type": "code",
   "execution_count": 72,
   "id": "c72d0565",
   "metadata": {},
   "outputs": [],
   "source": []
  },
  {
   "cell_type": "markdown",
   "id": "c7c0a8bd",
   "metadata": {},
   "source": [
    "### 10.2.4"
   ]
  },
  {
   "cell_type": "markdown",
   "id": "02ae850d",
   "metadata": {},
   "source": []
  },
  {
   "cell_type": "code",
   "execution_count": 73,
   "id": "69fbab6a",
   "metadata": {},
   "outputs": [],
   "source": []
  },
  {
   "cell_type": "markdown",
   "id": "a1ed1e7d",
   "metadata": {},
   "source": [
    "### 10.2.5"
   ]
  },
  {
   "cell_type": "markdown",
   "id": "e7bdd7fa",
   "metadata": {},
   "source": []
  },
  {
   "cell_type": "code",
   "execution_count": 74,
   "id": "1a047555",
   "metadata": {},
   "outputs": [],
   "source": []
  },
  {
   "cell_type": "markdown",
   "id": "380b37b2",
   "metadata": {},
   "source": [
    "### Write Back to Struct"
   ]
  },
  {
   "cell_type": "code",
   "execution_count": null,
   "id": "b387d981",
   "metadata": {},
   "outputs": [],
   "source": [
    "jldopen(data_file, \"w\") do file\n",
    "    write(file, \"CourseWork_4\", answer)\n",
    "end"
   ]
  },
  {
   "cell_type": "markdown",
   "id": "8824e739",
   "metadata": {},
   "source": [
    "### Sanity Check"
   ]
  },
  {
   "cell_type": "code",
   "execution_count": null,
   "id": "8214346d",
   "metadata": {},
   "outputs": [
    {
     "data": {
      "text/plain": [
       "CourseWork_4(2032193, true, true, missing, missing, missing, missing, missing, missing, missing, missing, missing, missing, missing, missing, missing, missing, missing, missing, [\"9\", \"?\", \"18\", \"?\", \"4\", \"7\", \"15\", \"?\", \"?\", \"34\"  …  \"0\", \"22\", \"0\", \"5\", \"9\", \"9\", \"21\", \"32\", \"1\", \"20\"], missing, [1, 1, 1, 1, 0, 1], [1, 1, 1, 1, 1], missing, missing, [[0], [1, 1, 0, 1], [0, 1, 1, 1, 1], [1, 1, 1, 1, 1], [1, 0, 1, 0, 1], [1, 1], [1, 0, 1, 1, 1], [0], [0, 0, 0, 1], [0, 1, 1, 1]  …  [0, 1, 1, 1, 1], [1, 0, 0, 1, 1], [1, 0, 1, 1], [0, 0, 0, 1, 1], [1, 1], [0, 0, 0, 0, 1], [0, 0, 1, 0, 1], [1, 0, 1, 0, 1], [1, 1, 1], [1, 1, 0, 1]], missing, missing, missing, missing, missing, missing, missing, missing)"
      ]
     },
     "metadata": {},
     "output_type": "display_data"
    }
   ],
   "source": [
    "answer"
   ]
  }
 ],
 "metadata": {
  "kernelspec": {
   "display_name": "Julia 1.10.5",
   "language": "julia",
   "name": "julia-1.10"
  },
  "language_info": {
   "file_extension": ".jl",
   "mimetype": "application/julia",
   "name": "julia",
   "version": "1.10.5"
  }
 },
 "nbformat": 4,
 "nbformat_minor": 5
}
