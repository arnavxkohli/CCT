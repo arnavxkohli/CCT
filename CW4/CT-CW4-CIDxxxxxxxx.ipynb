{
 "cells": [
  {
   "cell_type": "markdown",
   "id": "9fdea660",
   "metadata": {},
   "source": [
    "# Coursework 4 - Coding Theory\n",
    "\n",
    "### PLAGIARISM/COLLUSION DECLARATION\n",
    "\n",
    "Coursework submitted for assessment must be the original work of you and your group. Assignments are subjected to regular checks for plagiarism and/or collusion. Plagiarism is the presentation of another person’s thoughts or words (those outside your group) as if they were your own. Collusion involves obtaining help from someone outside your group to complete your work. In preparing your coursework, you should not seek help, or copy from any other person or source, including the\n",
    "Internet, without proper and explicit acknowledgement.\n",
    "\n",
    "There is a procedure in place for you to declare individual contributions within your group for courswork. You must declare the contributions fairly and accurately.\n",
    "\n",
    "You must not disclose your solutions or insights related to coursework with anyone else, including future students or the Internet.\n",
    "\n",
    "By acknowledging the the statements above, you are declaring that both this and all subsequent pieces of coursework are, and will remain, the original work of you and your group. \n",
    "\n",
    "* Submissions will not be accepted without the aforementioned declaration.\n",
    "\n",
    "* Members of a group are deemed to have collective responsibility for the integrity for work submitted and are liable for any penalty imposed, proportionate to their contributions. \n",
    "\n"
   ]
  },
  {
   "cell_type": "code",
   "execution_count": 1,
   "id": "0a4e08f9",
   "metadata": {},
   "outputs": [],
   "source": [
    "using FileIO, JLD2, Nemo"
   ]
  },
  {
   "cell_type": "code",
   "execution_count": 2,
   "id": "c07e984b",
   "metadata": {},
   "outputs": [
    {
     "data": {
      "text/plain": [
       "CourseWork_4"
      ]
     },
     "metadata": {},
     "output_type": "display_data"
    }
   ],
   "source": [
    "Base.@kwdef mutable struct CourseWork_4\n",
    "    CID::Int\n",
    "    Plagiarism_declare::Union{Missing,Bool}\n",
    "    Demo_willing::Union{Missing,Bool}\n",
    "\n",
    "    Q10_1_data_p :: Int64\n",
    "    Q10_1_data_a :: Int64\n",
    "    Q10_1_data_d_1 :: Int64\n",
    "    Q10_1_data_d_2 :: Int64\n",
    "\n",
    "    Q10_1_1_ans_G :: Union{Missing, Matrix{Int64}}\n",
    "    Q10_1_1_ans_H :: Union{Missing, Matrix{Int64}}\n",
    "\n",
    "    Q10_1_2_ans_G :: Union{Missing, Matrix{Int64}}\n",
    "    Q10_1_2_ans_H :: Union{Missing, Matrix{Int64}}\n",
    "\n",
    "    Q10_1_3_ans_G :: Union{Missing, Matrix{Int64}}\n",
    "    Q10_1_3_ans_H :: Union{Missing, Matrix{Int64}}\n",
    "\n",
    "    Q10_1_4_ans_G :: Union{Missing, Matrix{Int64}}\n",
    "    Q10_1_4_ans_H :: Union{Missing, Matrix{Int64}}\n",
    "\n",
    "    Q10_1_5_ans_G :: Union{Missing, Matrix{Int64}}\n",
    "    Q10_1_5_ans_H :: Union{Missing, Matrix{Int64}}\n",
    "\n",
    "    Q10_1_6_ans_G :: Union{Missing, Matrix{Int64}}\n",
    "    Q10_1_6_ans_H :: Union{Missing, Matrix{Int64}}\n",
    "\n",
    "    Q10_1_7_ans_G :: Union{Missing, Matrix{Int64}}\n",
    "    Q10_1_7_ans_H :: Union{Missing, Matrix{Int64}}\n",
    "\n",
    "    Q10_1_8_ans_G :: Union{Missing, Matrix{Int64}}\n",
    "    Q10_1_8_ans_H :: Union{Missing, Matrix{Int64}}\n",
    "\n",
    "    Q10_1_9_data_y :: Vector{String}\n",
    "    Q10_1_9_ans_m :: Union{Missing, Vector{Int64}}\n",
    "\n",
    "\n",
    "    Q10_2_data_polynomial::Vector{Int}\n",
    "    Q10_2_data_primitive_el::Vector{Int}\n",
    "    Q10_2_1_ans_G::Union{Missing, Matrix{ Vector{Int} }}\n",
    "    Q10_2_1_ans_H::Union{Missing, Matrix{ Vector{Int} }}\n",
    "    Q10_2_2_data_y::Vector{ Vector{Int} }\n",
    "    Q10_2_2_ans_syndrome_vector::Union{Missing, Vector{ Vector{Int} }}\n",
    "    Q10_2_3_ans_error_locator_poly::Union{Missing, Vector{ Vector{Int} }}\n",
    "    Q10_2_3_ans_error_evaluator_poly::Union{Missing, Vector{ Vector{Int} }}\n",
    "    Q10_2_4_ans_error_locations::Union{Missing, Vector{Int}}\n",
    "    Q10_2_4_ans_error_vector::Union{Missing, Vector{ Vector{Int} }}\n",
    "    Q10_2_4_ans_transmt_cdword::Union{Missing, Vector{ Vector{Int} }}\n",
    "    Q10_2_5_ans_message::Union{Missing, Vector{ Vector{Int} }}\n",
    "\n",
    "end"
   ]
  },
  {
   "cell_type": "code",
   "execution_count": 3,
   "id": "052f7342",
   "metadata": {},
   "outputs": [],
   "source": [
    "data_file = \"Arnav 2018546StudentFile.jld2\"\n",
    "# data_file = \"Ratul2015627StudentFile.jld2\"\n",
    "# data_file = \"Talha2032193StudentFile.jld2\"\n",
    "\n",
    "answer = JLD2.load(data_file);\n",
    "answer = answer[ \"CourseWork_4\" ];\n",
    "answer.Demo_willing = true;\n",
    "answer.Plagiarism_declare = true;"
   ]
  },
  {
   "cell_type": "markdown",
   "id": "f4ea51c4",
   "metadata": {},
   "source": [
    "### 10.1.1"
   ]
  },
  {
   "cell_type": "markdown",
   "id": "e821312b",
   "metadata": {},
   "source": []
  },
  {
   "cell_type": "code",
   "execution_count": 4,
   "id": "c48ee354",
   "metadata": {},
   "outputs": [
    {
     "name": "stdout",
     "output_type": "stream",
     "text": [
      "Generator Matrix (G): [1 1 1 1 1 1 1 1 1 1 1 1 1 1 1 1 1 1 1 1 1 1 1 1 1 1 1 1 1 1; 1 11 28 29 9 6 4 13 19 23 5 24 16 21 14 30 20 3 2 22 25 27 18 12 8 26 7 15 10 17; 1 28 9 4 19 5 16 14 20 2 25 18 8 7 10 1 28 9 4 19 5 16 14 20 2 25 18 8 7 10; 1 29 4 23 16 30 2 27 8 15 1 29 4 23 16 30 2 27 8 15 1 29 4 23 16 30 2 27 8 15; 1 9 19 16 20 25 8 10 28 4 5 14 2 18 7 1 9 19 16 20 25 8 10 28 4 5 14 2 18 7; 1 6 5 30 25 26 1 6 5 30 25 26 1 6 5 30 25 26 1 6 5 30 25 26 1 6 5 30 25 26; 1 4 16 2 8 1 4 16 2 8 1 4 16 2 8 1 4 16 2 8 1 4 16 2 8 1 4 16 2 8; 1 13 14 27 10 6 16 22 7 29 5 3 8 11 19 30 18 17 4 21 25 15 9 24 2 26 28 23 20 12; 1 19 20 8 28 5 2 7 9 16 25 10 4 14 18 1 19 20 8 28 5 2 7 9 16 25 10 4 14 18; 1 23 2 15 4 30 8 29 16 27 1 23 2 15 4 30 8 29 16 27 1 23 2 15 4 30 8 29 16 27; 1 5 25 1 5 25 1 5 25 1 5 25 1 5 25 1 5 25 1 5 25 1 5 25 1 5 25 1 5 25; 1 24 18 29 14 26 4 3 10 23 25 11 16 12 9 30 7 13 2 17 5 27 28 21 8 6 20 15 19 22; 1 16 8 4 2 1 16 8 4 2 1 16 8 4 2 1 16 8 4 2 1 16 8 4 2 1 16 8 4 2; 1 21 7 23 18 6 2 11 14 15 5 12 4 22 28 30 10 24 8 13 25 29 20 17 16 26 19 27 9 3; 1 14 10 16 7 5 8 19 18 4 25 9 2 28 20 1 14 10 16 7 5 8 19 18 4 25 9 2 28 20; 1 30 1 30 1 30 1 30 1 30 1 30 1 30 1 30 1 30 1 30 1 30 1 30 1 30 1 30 1 30; 1 20 28 2 9 25 4 18 19 8 5 7 16 10 14 1 20 28 2 9 25 4 18 19 8 5 7 16 10 14; 1 3 9 27 19 26 16 17 20 29 25 13 8 24 10 30 28 22 4 12 5 15 14 11 2 6 18 23 7 21; 1 2 4 8 16 1 2 4 8 16 1 2 4 8 16 1 2 4 8 16 1 2 4 8 16 1 2 4 8 16; 1 22 19 15 20 6 8 21 28 27 5 17 2 13 7 30 9 12 16 11 25 23 10 3 4 26 14 29 18 24; 1 25 5 1 25 5 1 25 5 1 25 5 1 25 5 1 25 5 1 25 5 1 25 5 1 25 5 1 25 5; 1 27 16 29 8 30 4 15 2 23 1 27 16 29 8 30 4 15 2 23 1 27 16 29 8 30 4 15 2 23; 1 18 14 4 10 25 16 9 7 2 5 28 8 20 19 1 18 14 4 10 25 16 9 7 2 5 28 8 20 19; 1 12 20 23 28 26 2 24 9 15 25 21 4 17 18 30 19 11 8 3 5 29 7 22 16 6 10 27 14 13]\n",
      "\n",
      "Parity-Check Matrix (H): [1 11 28 29 9 6 4 13 19 23 5 24 16 21 14 30 20 3 2 22 25 27 18 12 8 26 7 15 10 17; 1 28 9 4 19 5 16 14 20 2 25 18 8 7 10 1 28 9 4 19 5 16 14 20 2 25 18 8 7 10; 1 29 4 23 16 30 2 27 8 15 1 29 4 23 16 30 2 27 8 15 1 29 4 23 16 30 2 27 8 15; 1 9 19 16 20 25 8 10 28 4 5 14 2 18 7 1 9 19 16 20 25 8 10 28 4 5 14 2 18 7; 1 6 5 30 25 26 1 6 5 30 25 26 1 6 5 30 25 26 1 6 5 30 25 26 1 6 5 30 25 26; 1 4 16 2 8 1 4 16 2 8 1 4 16 2 8 1 4 16 2 8 1 4 16 2 8 1 4 16 2 8]\n"
     ]
    },
    {
     "data": {
      "text/plain": [
       "24×30 Matrix{Int64}:\n",
       " 1   1   1   1   1   1   1   1   1   1  …   1   1   1   1   1   1   1   1   1\n",
       " 1  11  28  29   9   6   4  13  19  23     27  18  12   8  26   7  15  10  17\n",
       " 1  28   9   4  19   5  16  14  20   2     16  14  20   2  25  18   8   7  10\n",
       " 1  29   4  23  16  30   2  27   8  15     29   4  23  16  30   2  27   8  15\n",
       " 1   9  19  16  20  25   8  10  28   4      8  10  28   4   5  14   2  18   7\n",
       " 1   6   5  30  25  26   1   6   5  30  …  30  25  26   1   6   5  30  25  26\n",
       " 1   4  16   2   8   1   4  16   2   8      4  16   2   8   1   4  16   2   8\n",
       " 1  13  14  27  10   6  16  22   7  29     15   9  24   2  26  28  23  20  12\n",
       " 1  19  20   8  28   5   2   7   9  16      2   7   9  16  25  10   4  14  18\n",
       " 1  23   2  15   4  30   8  29  16  27     23   2  15   4  30   8  29  16  27\n",
       " ⋮                   ⋮                  ⋱                   ⋮              \n",
       " 1  30   1  30   1  30   1  30   1  30  …  30   1  30   1  30   1  30   1  30\n",
       " 1  20  28   2   9  25   4  18  19   8      4  18  19   8   5   7  16  10  14\n",
       " 1   3   9  27  19  26  16  17  20  29     15  14  11   2   6  18  23   7  21\n",
       " 1   2   4   8  16   1   2   4   8  16      2   4   8  16   1   2   4   8  16\n",
       " 1  22  19  15  20   6   8  21  28  27     23  10   3   4  26  14  29  18  24\n",
       " 1  25   5   1  25   5   1  25   5   1  …   1  25   5   1  25   5   1  25   5\n",
       " 1  27  16  29   8  30   4  15   2  23     27  16  29   8  30   4  15   2  23\n",
       " 1  18  14   4  10  25  16   9   7   2     16   9   7   2   5  28   8  20  19\n",
       " 1  12  20  23  28  26   2  24   9  15     29   7  22  16   6  10  27  14  13"
      ]
     },
     "metadata": {},
     "output_type": "display_data"
    }
   ],
   "source": [
    "# Q10_1_data_p :: Int64\n",
    "# Q10_1_data_a :: Int64\n",
    "# Q10_1_data_d_1 :: Int64\n",
    "# Q10_1_data_d_2 :: Int64\n",
    "\n",
    "answer.Q10_1_data_p, answer.Q10_1_data_a, answer.Q10_1_data_d_1, answer.Q10_1_data_d_2\n",
    "\n",
    "function generate_rs_matrices(p::Int, d::Int, alpha_value::Int)\n",
    "    n = p - 1                      # Code length (for RS codes over GF(p))\n",
    "    k = n - d + 1                  # Dimension from minimum distance d\n",
    "    \n",
    "    # Construct the Generator Matrix G (k × n)\n",
    "    G = zeros(Int64, k, n)            # Initialize k × n matrix over integers\n",
    "    for row in 1:k\n",
    "        for col in 1:n\n",
    "            G[row, col] = powermod(alpha_value, (row-1)*(col-1), p)  # powermod to calculate α^(row-1)(col-1) mod p\n",
    "        end\n",
    "    end\n",
    "    \n",
    "    # Construct the Parity-Check Matrix H ((n-k) × n)\n",
    "    H = zeros(Int64, n-k, n)          # Initialize (n-k) × n matrix over integers\n",
    "    for row in 1:(n-k)\n",
    "        for col in 1:n\n",
    "            H[row, col] = powermod(alpha_value, row*(col-1), p)  # powermod to calculate α^(row)(col-1) mod p\n",
    "        end\n",
    "    end\n",
    "\n",
    "    # Check if mod(G * H^T, p) gives the zero matrix\n",
    "    result = mod.(G * H', p)  # Calculate the product and take mod p\n",
    "    if all(result .== 0)  # Check if all elements are zero\n",
    "        return G, H\n",
    "    else\n",
    "        return \"Error: mod(G * H^T, p) does not give the zero matrix\"\n",
    "    end\n",
    "end\n",
    "\n",
    "# TODO: Correct these values for Arnav and Ratul\n",
    "\n",
    "# Example call:\n",
    "p = answer.Q10_1_data_p        # Field characteristic\n",
    "d1 = 7        # Minimum distance\n",
    "alpha_value = answer.Q10_1_data_a  # Primitive element α = 32 in GF(37)\n",
    "G1, H1 = generate_rs_matrices(p, d1, alpha_value)\n",
    "\n",
    "# Display results\n",
    "println(\"Generator Matrix (G): $G1\")\n",
    "\n",
    "println(\"\\nParity-Check Matrix (H): $H1\")\n",
    "\n",
    "G1\n"
   ]
  },
  {
   "cell_type": "markdown",
   "id": "36979a01",
   "metadata": {},
   "source": [
    "### 10.1.2"
   ]
  },
  {
   "cell_type": "markdown",
   "id": "72fdcabc",
   "metadata": {},
   "source": []
  },
  {
   "cell_type": "code",
   "execution_count": 5,
   "id": "62e33492",
   "metadata": {},
   "outputs": [
    {
     "name": "stdout",
     "output_type": "stream",
     "text": [
      "Generator Matrix (G): [1 1 1 1 1 1 1 1 1 1 1 1 1 1 1 1 1 1 1 1 1 1 1 1 1 1 1 1 1 1; 1 11 28 29 9 6 4 13 19 23 5 24 16 21 14 30 20 3 2 22 25 27 18 12 8 26 7 15 10 17; 1 28 9 4 19 5 16 14 20 2 25 18 8 7 10 1 28 9 4 19 5 16 14 20 2 25 18 8 7 10; 1 29 4 23 16 30 2 27 8 15 1 29 4 23 16 30 2 27 8 15 1 29 4 23 16 30 2 27 8 15; 1 9 19 16 20 25 8 10 28 4 5 14 2 18 7 1 9 19 16 20 25 8 10 28 4 5 14 2 18 7; 1 6 5 30 25 26 1 6 5 30 25 26 1 6 5 30 25 26 1 6 5 30 25 26 1 6 5 30 25 26; 1 4 16 2 8 1 4 16 2 8 1 4 16 2 8 1 4 16 2 8 1 4 16 2 8 1 4 16 2 8; 1 13 14 27 10 6 16 22 7 29 5 3 8 11 19 30 18 17 4 21 25 15 9 24 2 26 28 23 20 12; 1 19 20 8 28 5 2 7 9 16 25 10 4 14 18 1 19 20 8 28 5 2 7 9 16 25 10 4 14 18; 1 23 2 15 4 30 8 29 16 27 1 23 2 15 4 30 8 29 16 27 1 23 2 15 4 30 8 29 16 27; 1 5 25 1 5 25 1 5 25 1 5 25 1 5 25 1 5 25 1 5 25 1 5 25 1 5 25 1 5 25; 1 24 18 29 14 26 4 3 10 23 25 11 16 12 9 30 7 13 2 17 5 27 28 21 8 6 20 15 19 22; 1 16 8 4 2 1 16 8 4 2 1 16 8 4 2 1 16 8 4 2 1 16 8 4 2 1 16 8 4 2; 1 21 7 23 18 6 2 11 14 15 5 12 4 22 28 30 10 24 8 13 25 29 20 17 16 26 19 27 9 3; 1 14 10 16 7 5 8 19 18 4 25 9 2 28 20 1 14 10 16 7 5 8 19 18 4 25 9 2 28 20; 1 30 1 30 1 30 1 30 1 30 1 30 1 30 1 30 1 30 1 30 1 30 1 30 1 30 1 30 1 30; 1 20 28 2 9 25 4 18 19 8 5 7 16 10 14 1 20 28 2 9 25 4 18 19 8 5 7 16 10 14; 1 3 9 27 19 26 16 17 20 29 25 13 8 24 10 30 28 22 4 12 5 15 14 11 2 6 18 23 7 21; 1 2 4 8 16 1 2 4 8 16 1 2 4 8 16 1 2 4 8 16 1 2 4 8 16 1 2 4 8 16; 1 22 19 15 20 6 8 21 28 27 5 17 2 13 7 30 9 12 16 11 25 23 10 3 4 26 14 29 18 24]\n",
      "\n",
      "Parity-Check Matrix (H): [1 11 28 29 9 6 4 13 19 23 5 24 16 21 14 30 20 3 2 22 25 27 18 12 8 26 7 15 10 17; 1 28 9 4 19 5 16 14 20 2 25 18 8 7 10 1 28 9 4 19 5 16 14 20 2 25 18 8 7 10; 1 29 4 23 16 30 2 27 8 15 1 29 4 23 16 30 2 27 8 15 1 29 4 23 16 30 2 27 8 15; 1 9 19 16 20 25 8 10 28 4 5 14 2 18 7 1 9 19 16 20 25 8 10 28 4 5 14 2 18 7; 1 6 5 30 25 26 1 6 5 30 25 26 1 6 5 30 25 26 1 6 5 30 25 26 1 6 5 30 25 26; 1 4 16 2 8 1 4 16 2 8 1 4 16 2 8 1 4 16 2 8 1 4 16 2 8 1 4 16 2 8; 1 13 14 27 10 6 16 22 7 29 5 3 8 11 19 30 18 17 4 21 25 15 9 24 2 26 28 23 20 12; 1 19 20 8 28 5 2 7 9 16 25 10 4 14 18 1 19 20 8 28 5 2 7 9 16 25 10 4 14 18; 1 23 2 15 4 30 8 29 16 27 1 23 2 15 4 30 8 29 16 27 1 23 2 15 4 30 8 29 16 27; 1 5 25 1 5 25 1 5 25 1 5 25 1 5 25 1 5 25 1 5 25 1 5 25 1 5 25 1 5 25]\n"
     ]
    }
   ],
   "source": [
    "d2 = 11\n",
    "\n",
    "G2, H2 = generate_rs_matrices(p, d2, alpha_value)\n",
    "\n",
    "# Display results\n",
    "println(\"Generator Matrix (G): $G2\")\n",
    "\n",
    "println(\"\\nParity-Check Matrix (H): $H2\")\n",
    "\n"
   ]
  },
  {
   "cell_type": "markdown",
   "id": "02098d20",
   "metadata": {},
   "source": [
    "### 10.1.3"
   ]
  },
  {
   "cell_type": "markdown",
   "id": "a6744b20",
   "metadata": {},
   "source": [
    "- C1 = [36, 30, 7]\n",
    "- C2 = [36, 26, 11]\n",
    "\n",
    "- C1 contains all the codewords of C2, as they share the same n.\n",
    "- Thus, C1 U C2 is the same as C1.\n",
    "- C3 = C1 = [36, 30, 7]"
   ]
  },
  {
   "cell_type": "code",
   "execution_count": 6,
   "id": "2be23b34",
   "metadata": {},
   "outputs": [
    {
     "data": {
      "text/plain": [
       "([1 1 … 1 1; 1 11 … 10 17; … ; 1 18 … 20 19; 1 12 … 14 13], [1 11 … 10 17; 1 28 … 7 10; … ; 1 6 … 25 26; 1 4 … 2 8])"
      ]
     },
     "metadata": {},
     "output_type": "display_data"
    }
   ],
   "source": [
    "G3, H3 = generate_rs_matrices(p, d1, alpha_value)"
   ]
  },
  {
   "cell_type": "markdown",
   "id": "e35d87f9",
   "metadata": {},
   "source": [
    "### 10.1.4"
   ]
  },
  {
   "cell_type": "markdown",
   "id": "07ef20a4",
   "metadata": {},
   "source": [
    "- C4 = C1 n C2\n",
    "- All codewords of C2 present in C1\n",
    "- Intersect of both is the codewords of C2\n",
    "- Therefore, C4 = C2 = [36, 26, 11]"
   ]
  },
  {
   "cell_type": "code",
   "execution_count": 7,
   "id": "49dc6a0a",
   "metadata": {},
   "outputs": [
    {
     "data": {
      "text/plain": [
       "([1 1 … 1 1; 1 11 … 10 17; … ; 1 2 … 8 16; 1 22 … 18 24], [1 11 … 10 17; 1 28 … 7 10; … ; 1 23 … 16 27; 1 5 … 5 25])"
      ]
     },
     "metadata": {},
     "output_type": "display_data"
    }
   ],
   "source": [
    "G4, H4 = generate_rs_matrices(p, d2, alpha_value)"
   ]
  },
  {
   "cell_type": "markdown",
   "id": "d5552dce",
   "metadata": {},
   "source": [
    "### 10.1.5"
   ]
  },
  {
   "cell_type": "markdown",
   "id": "a0ff02dd",
   "metadata": {},
   "source": [
    "- Every codeword of C2 also in C1.\n",
    "- Adding any codeword from C2 to anothe codeword in C1 will result in codeword in C1, due to the linearity of RS codes.\n",
    "- C5 = C1 = [36, 30, 7]"
   ]
  },
  {
   "cell_type": "code",
   "execution_count": 8,
   "id": "be00fdcc",
   "metadata": {},
   "outputs": [
    {
     "data": {
      "text/plain": [
       "([1 1 … 1 1; 1 11 … 10 17; … ; 1 18 … 20 19; 1 12 … 14 13], [1 11 … 10 17; 1 28 … 7 10; … ; 1 6 … 25 26; 1 4 … 2 8])"
      ]
     },
     "metadata": {},
     "output_type": "display_data"
    }
   ],
   "source": [
    "G5, H5 = generate_rs_matrices(p, d1, alpha_value)"
   ]
  },
  {
   "cell_type": "markdown",
   "id": "54eb6d43",
   "metadata": {},
   "source": [
    "### 10.1.6"
   ]
  },
  {
   "cell_type": "markdown",
   "id": "265ec9be",
   "metadata": {},
   "source": []
  },
  {
   "cell_type": "code",
   "execution_count": 9,
   "id": "e69c210b",
   "metadata": {},
   "outputs": [
    {
     "name": "stdout",
     "output_type": "stream",
     "text": [
      "Generator Matrix G6:\n",
      "[1.0 1.0 1.0 1.0 1.0 1.0 1.0 1.0 1.0 1.0 1.0 1.0 1.0 1.0 1.0 1.0 1.0 1.0 1.0 1.0 1.0 1.0 1.0 1.0 1.0 1.0 1.0 1.0 1.0 1.0 0.0 0.0 0.0 0.0 0.0 0.0 0.0 0.0 0.0 0.0 0.0 0.0 0.0 0.0 0.0 0.0 0.0 0.0 0.0 0.0 0.0 0.0 0.0 0.0 0.0 0.0 0.0 0.0 0.0 0.0; 1.0 11.0 28.0 29.0 9.0 6.0 4.0 13.0 19.0 23.0 5.0 24.0 16.0 21.0 14.0 30.0 20.0 3.0 2.0 22.0 25.0 27.0 18.0 12.0 8.0 26.0 7.0 15.0 10.0 17.0 0.0 0.0 0.0 0.0 0.0 0.0 0.0 0.0 0.0 0.0 0.0 0.0 0.0 0.0 0.0 0.0 0.0 0.0 0.0 0.0 0.0 0.0 0.0 0.0 0.0 0.0 0.0 0.0 0.0 0.0; 1.0 28.0 9.0 4.0 19.0 5.0 16.0 14.0 20.0 2.0 25.0 18.0 8.0 7.0 10.0 1.0 28.0 9.0 4.0 19.0 5.0 16.0 14.0 20.0 2.0 25.0 18.0 8.0 7.0 10.0 0.0 0.0 0.0 0.0 0.0 0.0 0.0 0.0 0.0 0.0 0.0 0.0 0.0 0.0 0.0 0.0 0.0 0.0 0.0 0.0 0.0 0.0 0.0 0.0 0.0 0.0 0.0 0.0 0.0 0.0; 1.0 29.0 4.0 23.0 16.0 30.0 2.0 27.0 8.0 15.0 1.0 29.0 4.0 23.0 16.0 30.0 2.0 27.0 8.0 15.0 1.0 29.0 4.0 23.0 16.0 30.0 2.0 27.0 8.0 15.0 0.0 0.0 0.0 0.0 0.0 0.0 0.0 0.0 0.0 0.0 0.0 0.0 0.0 0.0 0.0 0.0 0.0 0.0 0.0 0.0 0.0 0.0 0.0 0.0 0.0 0.0 0.0 0.0 0.0 0.0; 1.0 9.0 19.0 16.0 20.0 25.0 8.0 10.0 28.0 4.0 5.0 14.0 2.0 18.0 7.0 1.0 9.0 19.0 16.0 20.0 25.0 8.0 10.0 28.0 4.0 5.0 14.0 2.0 18.0 7.0 0.0 0.0 0.0 0.0 0.0 0.0 0.0 0.0 0.0 0.0 0.0 0.0 0.0 0.0 0.0 0.0 0.0 0.0 0.0 0.0 0.0 0.0 0.0 0.0 0.0 0.0 0.0 0.0 0.0 0.0; 1.0 6.0 5.0 30.0 25.0 26.0 1.0 6.0 5.0 30.0 25.0 26.0 1.0 6.0 5.0 30.0 25.0 26.0 1.0 6.0 5.0 30.0 25.0 26.0 1.0 6.0 5.0 30.0 25.0 26.0 0.0 0.0 0.0 0.0 0.0 0.0 0.0 0.0 0.0 0.0 0.0 0.0 0.0 0.0 0.0 0.0 0.0 0.0 0.0 0.0 0.0 0.0 0.0 0.0 0.0 0.0 0.0 0.0 0.0 0.0; 1.0 4.0 16.0 2.0 8.0 1.0 4.0 16.0 2.0 8.0 1.0 4.0 16.0 2.0 8.0 1.0 4.0 16.0 2.0 8.0 1.0 4.0 16.0 2.0 8.0 1.0 4.0 16.0 2.0 8.0 0.0 0.0 0.0 0.0 0.0 0.0 0.0 0.0 0.0 0.0 0.0 0.0 0.0 0.0 0.0 0.0 0.0 0.0 0.0 0.0 0.0 0.0 0.0 0.0 0.0 0.0 0.0 0.0 0.0 0.0; 1.0 13.0 14.0 27.0 10.0 6.0 16.0 22.0 7.0 29.0 5.0 3.0 8.0 11.0 19.0 30.0 18.0 17.0 4.0 21.0 25.0 15.0 9.0 24.0 2.0 26.0 28.0 23.0 20.0 12.0 0.0 0.0 0.0 0.0 0.0 0.0 0.0 0.0 0.0 0.0 0.0 0.0 0.0 0.0 0.0 0.0 0.0 0.0 0.0 0.0 0.0 0.0 0.0 0.0 0.0 0.0 0.0 0.0 0.0 0.0; 1.0 19.0 20.0 8.0 28.0 5.0 2.0 7.0 9.0 16.0 25.0 10.0 4.0 14.0 18.0 1.0 19.0 20.0 8.0 28.0 5.0 2.0 7.0 9.0 16.0 25.0 10.0 4.0 14.0 18.0 0.0 0.0 0.0 0.0 0.0 0.0 0.0 0.0 0.0 0.0 0.0 0.0 0.0 0.0 0.0 0.0 0.0 0.0 0.0 0.0 0.0 0.0 0.0 0.0 0.0 0.0 0.0 0.0 0.0 0.0; 1.0 23.0 2.0 15.0 4.0 30.0 8.0 29.0 16.0 27.0 1.0 23.0 2.0 15.0 4.0 30.0 8.0 29.0 16.0 27.0 1.0 23.0 2.0 15.0 4.0 30.0 8.0 29.0 16.0 27.0 0.0 0.0 0.0 0.0 0.0 0.0 0.0 0.0 0.0 0.0 0.0 0.0 0.0 0.0 0.0 0.0 0.0 0.0 0.0 0.0 0.0 0.0 0.0 0.0 0.0 0.0 0.0 0.0 0.0 0.0; 1.0 5.0 25.0 1.0 5.0 25.0 1.0 5.0 25.0 1.0 5.0 25.0 1.0 5.0 25.0 1.0 5.0 25.0 1.0 5.0 25.0 1.0 5.0 25.0 1.0 5.0 25.0 1.0 5.0 25.0 0.0 0.0 0.0 0.0 0.0 0.0 0.0 0.0 0.0 0.0 0.0 0.0 0.0 0.0 0.0 0.0 0.0 0.0 0.0 0.0 0.0 0.0 0.0 0.0 0.0 0.0 0.0 0.0 0.0 0.0; 1.0 24.0 18.0 29.0 14.0 26.0 4.0 3.0 10.0 23.0 25.0 11.0 16.0 12.0 9.0 30.0 7.0 13.0 2.0 17.0 5.0 27.0 28.0 21.0 8.0 6.0 20.0 15.0 19.0 22.0 0.0 0.0 0.0 0.0 0.0 0.0 0.0 0.0 0.0 0.0 0.0 0.0 0.0 0.0 0.0 0.0 0.0 0.0 0.0 0.0 0.0 0.0 0.0 0.0 0.0 0.0 0.0 0.0 0.0 0.0; 1.0 16.0 8.0 4.0 2.0 1.0 16.0 8.0 4.0 2.0 1.0 16.0 8.0 4.0 2.0 1.0 16.0 8.0 4.0 2.0 1.0 16.0 8.0 4.0 2.0 1.0 16.0 8.0 4.0 2.0 0.0 0.0 0.0 0.0 0.0 0.0 0.0 0.0 0.0 0.0 0.0 0.0 0.0 0.0 0.0 0.0 0.0 0.0 0.0 0.0 0.0 0.0 0.0 0.0 0.0 0.0 0.0 0.0 0.0 0.0; 1.0 21.0 7.0 23.0 18.0 6.0 2.0 11.0 14.0 15.0 5.0 12.0 4.0 22.0 28.0 30.0 10.0 24.0 8.0 13.0 25.0 29.0 20.0 17.0 16.0 26.0 19.0 27.0 9.0 3.0 0.0 0.0 0.0 0.0 0.0 0.0 0.0 0.0 0.0 0.0 0.0 0.0 0.0 0.0 0.0 0.0 0.0 0.0 0.0 0.0 0.0 0.0 0.0 0.0 0.0 0.0 0.0 0.0 0.0 0.0; 1.0 14.0 10.0 16.0 7.0 5.0 8.0 19.0 18.0 4.0 25.0 9.0 2.0 28.0 20.0 1.0 14.0 10.0 16.0 7.0 5.0 8.0 19.0 18.0 4.0 25.0 9.0 2.0 28.0 20.0 0.0 0.0 0.0 0.0 0.0 0.0 0.0 0.0 0.0 0.0 0.0 0.0 0.0 0.0 0.0 0.0 0.0 0.0 0.0 0.0 0.0 0.0 0.0 0.0 0.0 0.0 0.0 0.0 0.0 0.0; 1.0 30.0 1.0 30.0 1.0 30.0 1.0 30.0 1.0 30.0 1.0 30.0 1.0 30.0 1.0 30.0 1.0 30.0 1.0 30.0 1.0 30.0 1.0 30.0 1.0 30.0 1.0 30.0 1.0 30.0 0.0 0.0 0.0 0.0 0.0 0.0 0.0 0.0 0.0 0.0 0.0 0.0 0.0 0.0 0.0 0.0 0.0 0.0 0.0 0.0 0.0 0.0 0.0 0.0 0.0 0.0 0.0 0.0 0.0 0.0; 1.0 20.0 28.0 2.0 9.0 25.0 4.0 18.0 19.0 8.0 5.0 7.0 16.0 10.0 14.0 1.0 20.0 28.0 2.0 9.0 25.0 4.0 18.0 19.0 8.0 5.0 7.0 16.0 10.0 14.0 0.0 0.0 0.0 0.0 0.0 0.0 0.0 0.0 0.0 0.0 0.0 0.0 0.0 0.0 0.0 0.0 0.0 0.0 0.0 0.0 0.0 0.0 0.0 0.0 0.0 0.0 0.0 0.0 0.0 0.0; 1.0 3.0 9.0 27.0 19.0 26.0 16.0 17.0 20.0 29.0 25.0 13.0 8.0 24.0 10.0 30.0 28.0 22.0 4.0 12.0 5.0 15.0 14.0 11.0 2.0 6.0 18.0 23.0 7.0 21.0 0.0 0.0 0.0 0.0 0.0 0.0 0.0 0.0 0.0 0.0 0.0 0.0 0.0 0.0 0.0 0.0 0.0 0.0 0.0 0.0 0.0 0.0 0.0 0.0 0.0 0.0 0.0 0.0 0.0 0.0; 1.0 2.0 4.0 8.0 16.0 1.0 2.0 4.0 8.0 16.0 1.0 2.0 4.0 8.0 16.0 1.0 2.0 4.0 8.0 16.0 1.0 2.0 4.0 8.0 16.0 1.0 2.0 4.0 8.0 16.0 0.0 0.0 0.0 0.0 0.0 0.0 0.0 0.0 0.0 0.0 0.0 0.0 0.0 0.0 0.0 0.0 0.0 0.0 0.0 0.0 0.0 0.0 0.0 0.0 0.0 0.0 0.0 0.0 0.0 0.0; 1.0 22.0 19.0 15.0 20.0 6.0 8.0 21.0 28.0 27.0 5.0 17.0 2.0 13.0 7.0 30.0 9.0 12.0 16.0 11.0 25.0 23.0 10.0 3.0 4.0 26.0 14.0 29.0 18.0 24.0 0.0 0.0 0.0 0.0 0.0 0.0 0.0 0.0 0.0 0.0 0.0 0.0 0.0 0.0 0.0 0.0 0.0 0.0 0.0 0.0 0.0 0.0 0.0 0.0 0.0 0.0 0.0 0.0 0.0 0.0; 1.0 25.0 5.0 1.0 25.0 5.0 1.0 25.0 5.0 1.0 25.0 5.0 1.0 25.0 5.0 1.0 25.0 5.0 1.0 25.0 5.0 1.0 25.0 5.0 1.0 25.0 5.0 1.0 25.0 5.0 0.0 0.0 0.0 0.0 0.0 0.0 0.0 0.0 0.0 0.0 0.0 0.0 0.0 0.0 0.0 0.0 0.0 0.0 0.0 0.0 0.0 0.0 0.0 0.0 0.0 0.0 0.0 0.0 0.0 0.0; 1.0 27.0 16.0 29.0 8.0 30.0 4.0 15.0 2.0 23.0 1.0 27.0 16.0 29.0 8.0 30.0 4.0 15.0 2.0 23.0 1.0 27.0 16.0 29.0 8.0 30.0 4.0 15.0 2.0 23.0 0.0 0.0 0.0 0.0 0.0 0.0 0.0 0.0 0.0 0.0 0.0 0.0 0.0 0.0 0.0 0.0 0.0 0.0 0.0 0.0 0.0 0.0 0.0 0.0 0.0 0.0 0.0 0.0 0.0 0.0; 1.0 18.0 14.0 4.0 10.0 25.0 16.0 9.0 7.0 2.0 5.0 28.0 8.0 20.0 19.0 1.0 18.0 14.0 4.0 10.0 25.0 16.0 9.0 7.0 2.0 5.0 28.0 8.0 20.0 19.0 0.0 0.0 0.0 0.0 0.0 0.0 0.0 0.0 0.0 0.0 0.0 0.0 0.0 0.0 0.0 0.0 0.0 0.0 0.0 0.0 0.0 0.0 0.0 0.0 0.0 0.0 0.0 0.0 0.0 0.0; 1.0 12.0 20.0 23.0 28.0 26.0 2.0 24.0 9.0 15.0 25.0 21.0 4.0 17.0 18.0 30.0 19.0 11.0 8.0 3.0 5.0 29.0 7.0 22.0 16.0 6.0 10.0 27.0 14.0 13.0 0.0 0.0 0.0 0.0 0.0 0.0 0.0 0.0 0.0 0.0 0.0 0.0 0.0 0.0 0.0 0.0 0.0 0.0 0.0 0.0 0.0 0.0 0.0 0.0 0.0 0.0 0.0 0.0 0.0 0.0; 0.0 0.0 0.0 0.0 0.0 0.0 0.0 0.0 0.0 0.0 0.0 0.0 0.0 0.0 0.0 0.0 0.0 0.0 0.0 0.0 0.0 0.0 0.0 0.0 0.0 0.0 0.0 0.0 0.0 0.0 1.0 1.0 1.0 1.0 1.0 1.0 1.0 1.0 1.0 1.0 1.0 1.0 1.0 1.0 1.0 1.0 1.0 1.0 1.0 1.0 1.0 1.0 1.0 1.0 1.0 1.0 1.0 1.0 1.0 1.0; 0.0 0.0 0.0 0.0 0.0 0.0 0.0 0.0 0.0 0.0 0.0 0.0 0.0 0.0 0.0 0.0 0.0 0.0 0.0 0.0 0.0 0.0 0.0 0.0 0.0 0.0 0.0 0.0 0.0 0.0 1.0 11.0 28.0 29.0 9.0 6.0 4.0 13.0 19.0 23.0 5.0 24.0 16.0 21.0 14.0 30.0 20.0 3.0 2.0 22.0 25.0 27.0 18.0 12.0 8.0 26.0 7.0 15.0 10.0 17.0; 0.0 0.0 0.0 0.0 0.0 0.0 0.0 0.0 0.0 0.0 0.0 0.0 0.0 0.0 0.0 0.0 0.0 0.0 0.0 0.0 0.0 0.0 0.0 0.0 0.0 0.0 0.0 0.0 0.0 0.0 1.0 28.0 9.0 4.0 19.0 5.0 16.0 14.0 20.0 2.0 25.0 18.0 8.0 7.0 10.0 1.0 28.0 9.0 4.0 19.0 5.0 16.0 14.0 20.0 2.0 25.0 18.0 8.0 7.0 10.0; 0.0 0.0 0.0 0.0 0.0 0.0 0.0 0.0 0.0 0.0 0.0 0.0 0.0 0.0 0.0 0.0 0.0 0.0 0.0 0.0 0.0 0.0 0.0 0.0 0.0 0.0 0.0 0.0 0.0 0.0 1.0 29.0 4.0 23.0 16.0 30.0 2.0 27.0 8.0 15.0 1.0 29.0 4.0 23.0 16.0 30.0 2.0 27.0 8.0 15.0 1.0 29.0 4.0 23.0 16.0 30.0 2.0 27.0 8.0 15.0; 0.0 0.0 0.0 0.0 0.0 0.0 0.0 0.0 0.0 0.0 0.0 0.0 0.0 0.0 0.0 0.0 0.0 0.0 0.0 0.0 0.0 0.0 0.0 0.0 0.0 0.0 0.0 0.0 0.0 0.0 1.0 9.0 19.0 16.0 20.0 25.0 8.0 10.0 28.0 4.0 5.0 14.0 2.0 18.0 7.0 1.0 9.0 19.0 16.0 20.0 25.0 8.0 10.0 28.0 4.0 5.0 14.0 2.0 18.0 7.0; 0.0 0.0 0.0 0.0 0.0 0.0 0.0 0.0 0.0 0.0 0.0 0.0 0.0 0.0 0.0 0.0 0.0 0.0 0.0 0.0 0.0 0.0 0.0 0.0 0.0 0.0 0.0 0.0 0.0 0.0 1.0 6.0 5.0 30.0 25.0 26.0 1.0 6.0 5.0 30.0 25.0 26.0 1.0 6.0 5.0 30.0 25.0 26.0 1.0 6.0 5.0 30.0 25.0 26.0 1.0 6.0 5.0 30.0 25.0 26.0; 0.0 0.0 0.0 0.0 0.0 0.0 0.0 0.0 0.0 0.0 0.0 0.0 0.0 0.0 0.0 0.0 0.0 0.0 0.0 0.0 0.0 0.0 0.0 0.0 0.0 0.0 0.0 0.0 0.0 0.0 1.0 4.0 16.0 2.0 8.0 1.0 4.0 16.0 2.0 8.0 1.0 4.0 16.0 2.0 8.0 1.0 4.0 16.0 2.0 8.0 1.0 4.0 16.0 2.0 8.0 1.0 4.0 16.0 2.0 8.0; 0.0 0.0 0.0 0.0 0.0 0.0 0.0 0.0 0.0 0.0 0.0 0.0 0.0 0.0 0.0 0.0 0.0 0.0 0.0 0.0 0.0 0.0 0.0 0.0 0.0 0.0 0.0 0.0 0.0 0.0 1.0 13.0 14.0 27.0 10.0 6.0 16.0 22.0 7.0 29.0 5.0 3.0 8.0 11.0 19.0 30.0 18.0 17.0 4.0 21.0 25.0 15.0 9.0 24.0 2.0 26.0 28.0 23.0 20.0 12.0; 0.0 0.0 0.0 0.0 0.0 0.0 0.0 0.0 0.0 0.0 0.0 0.0 0.0 0.0 0.0 0.0 0.0 0.0 0.0 0.0 0.0 0.0 0.0 0.0 0.0 0.0 0.0 0.0 0.0 0.0 1.0 19.0 20.0 8.0 28.0 5.0 2.0 7.0 9.0 16.0 25.0 10.0 4.0 14.0 18.0 1.0 19.0 20.0 8.0 28.0 5.0 2.0 7.0 9.0 16.0 25.0 10.0 4.0 14.0 18.0; 0.0 0.0 0.0 0.0 0.0 0.0 0.0 0.0 0.0 0.0 0.0 0.0 0.0 0.0 0.0 0.0 0.0 0.0 0.0 0.0 0.0 0.0 0.0 0.0 0.0 0.0 0.0 0.0 0.0 0.0 1.0 23.0 2.0 15.0 4.0 30.0 8.0 29.0 16.0 27.0 1.0 23.0 2.0 15.0 4.0 30.0 8.0 29.0 16.0 27.0 1.0 23.0 2.0 15.0 4.0 30.0 8.0 29.0 16.0 27.0; 0.0 0.0 0.0 0.0 0.0 0.0 0.0 0.0 0.0 0.0 0.0 0.0 0.0 0.0 0.0 0.0 0.0 0.0 0.0 0.0 0.0 0.0 0.0 0.0 0.0 0.0 0.0 0.0 0.0 0.0 1.0 5.0 25.0 1.0 5.0 25.0 1.0 5.0 25.0 1.0 5.0 25.0 1.0 5.0 25.0 1.0 5.0 25.0 1.0 5.0 25.0 1.0 5.0 25.0 1.0 5.0 25.0 1.0 5.0 25.0; 0.0 0.0 0.0 0.0 0.0 0.0 0.0 0.0 0.0 0.0 0.0 0.0 0.0 0.0 0.0 0.0 0.0 0.0 0.0 0.0 0.0 0.0 0.0 0.0 0.0 0.0 0.0 0.0 0.0 0.0 1.0 24.0 18.0 29.0 14.0 26.0 4.0 3.0 10.0 23.0 25.0 11.0 16.0 12.0 9.0 30.0 7.0 13.0 2.0 17.0 5.0 27.0 28.0 21.0 8.0 6.0 20.0 15.0 19.0 22.0; 0.0 0.0 0.0 0.0 0.0 0.0 0.0 0.0 0.0 0.0 0.0 0.0 0.0 0.0 0.0 0.0 0.0 0.0 0.0 0.0 0.0 0.0 0.0 0.0 0.0 0.0 0.0 0.0 0.0 0.0 1.0 16.0 8.0 4.0 2.0 1.0 16.0 8.0 4.0 2.0 1.0 16.0 8.0 4.0 2.0 1.0 16.0 8.0 4.0 2.0 1.0 16.0 8.0 4.0 2.0 1.0 16.0 8.0 4.0 2.0; 0.0 0.0 0.0 0.0 0.0 0.0 0.0 0.0 0.0 0.0 0.0 0.0 0.0 0.0 0.0 0.0 0.0 0.0 0.0 0.0 0.0 0.0 0.0 0.0 0.0 0.0 0.0 0.0 0.0 0.0 1.0 21.0 7.0 23.0 18.0 6.0 2.0 11.0 14.0 15.0 5.0 12.0 4.0 22.0 28.0 30.0 10.0 24.0 8.0 13.0 25.0 29.0 20.0 17.0 16.0 26.0 19.0 27.0 9.0 3.0; 0.0 0.0 0.0 0.0 0.0 0.0 0.0 0.0 0.0 0.0 0.0 0.0 0.0 0.0 0.0 0.0 0.0 0.0 0.0 0.0 0.0 0.0 0.0 0.0 0.0 0.0 0.0 0.0 0.0 0.0 1.0 14.0 10.0 16.0 7.0 5.0 8.0 19.0 18.0 4.0 25.0 9.0 2.0 28.0 20.0 1.0 14.0 10.0 16.0 7.0 5.0 8.0 19.0 18.0 4.0 25.0 9.0 2.0 28.0 20.0; 0.0 0.0 0.0 0.0 0.0 0.0 0.0 0.0 0.0 0.0 0.0 0.0 0.0 0.0 0.0 0.0 0.0 0.0 0.0 0.0 0.0 0.0 0.0 0.0 0.0 0.0 0.0 0.0 0.0 0.0 1.0 30.0 1.0 30.0 1.0 30.0 1.0 30.0 1.0 30.0 1.0 30.0 1.0 30.0 1.0 30.0 1.0 30.0 1.0 30.0 1.0 30.0 1.0 30.0 1.0 30.0 1.0 30.0 1.0 30.0; 0.0 0.0 0.0 0.0 0.0 0.0 0.0 0.0 0.0 0.0 0.0 0.0 0.0 0.0 0.0 0.0 0.0 0.0 0.0 0.0 0.0 0.0 0.0 0.0 0.0 0.0 0.0 0.0 0.0 0.0 1.0 20.0 28.0 2.0 9.0 25.0 4.0 18.0 19.0 8.0 5.0 7.0 16.0 10.0 14.0 1.0 20.0 28.0 2.0 9.0 25.0 4.0 18.0 19.0 8.0 5.0 7.0 16.0 10.0 14.0; 0.0 0.0 0.0 0.0 0.0 0.0 0.0 0.0 0.0 0.0 0.0 0.0 0.0 0.0 0.0 0.0 0.0 0.0 0.0 0.0 0.0 0.0 0.0 0.0 0.0 0.0 0.0 0.0 0.0 0.0 1.0 3.0 9.0 27.0 19.0 26.0 16.0 17.0 20.0 29.0 25.0 13.0 8.0 24.0 10.0 30.0 28.0 22.0 4.0 12.0 5.0 15.0 14.0 11.0 2.0 6.0 18.0 23.0 7.0 21.0; 0.0 0.0 0.0 0.0 0.0 0.0 0.0 0.0 0.0 0.0 0.0 0.0 0.0 0.0 0.0 0.0 0.0 0.0 0.0 0.0 0.0 0.0 0.0 0.0 0.0 0.0 0.0 0.0 0.0 0.0 1.0 2.0 4.0 8.0 16.0 1.0 2.0 4.0 8.0 16.0 1.0 2.0 4.0 8.0 16.0 1.0 2.0 4.0 8.0 16.0 1.0 2.0 4.0 8.0 16.0 1.0 2.0 4.0 8.0 16.0; 0.0 0.0 0.0 0.0 0.0 0.0 0.0 0.0 0.0 0.0 0.0 0.0 0.0 0.0 0.0 0.0 0.0 0.0 0.0 0.0 0.0 0.0 0.0 0.0 0.0 0.0 0.0 0.0 0.0 0.0 1.0 22.0 19.0 15.0 20.0 6.0 8.0 21.0 28.0 27.0 5.0 17.0 2.0 13.0 7.0 30.0 9.0 12.0 16.0 11.0 25.0 23.0 10.0 3.0 4.0 26.0 14.0 29.0 18.0 24.0]\n",
      "\n",
      "Parity-Check Matrix H6:\n",
      "[1 11 28 29 9 6 4 13 19 23 5 24 16 21 14 30 20 3 2 22 25 27 18 12 8 26 7 15 10 17 0 0 0 0 0 0 0 0 0 0 0 0 0 0 0 0 0 0 0 0 0 0 0 0 0 0 0 0 0 0; 1 28 9 4 19 5 16 14 20 2 25 18 8 7 10 1 28 9 4 19 5 16 14 20 2 25 18 8 7 10 0 0 0 0 0 0 0 0 0 0 0 0 0 0 0 0 0 0 0 0 0 0 0 0 0 0 0 0 0 0; 1 29 4 23 16 30 2 27 8 15 1 29 4 23 16 30 2 27 8 15 1 29 4 23 16 30 2 27 8 15 0 0 0 0 0 0 0 0 0 0 0 0 0 0 0 0 0 0 0 0 0 0 0 0 0 0 0 0 0 0; 1 9 19 16 20 25 8 10 28 4 5 14 2 18 7 1 9 19 16 20 25 8 10 28 4 5 14 2 18 7 0 0 0 0 0 0 0 0 0 0 0 0 0 0 0 0 0 0 0 0 0 0 0 0 0 0 0 0 0 0; 1 6 5 30 25 26 1 6 5 30 25 26 1 6 5 30 25 26 1 6 5 30 25 26 1 6 5 30 25 26 0 0 0 0 0 0 0 0 0 0 0 0 0 0 0 0 0 0 0 0 0 0 0 0 0 0 0 0 0 0; 1 4 16 2 8 1 4 16 2 8 1 4 16 2 8 1 4 16 2 8 1 4 16 2 8 1 4 16 2 8 0 0 0 0 0 0 0 0 0 0 0 0 0 0 0 0 0 0 0 0 0 0 0 0 0 0 0 0 0 0; 0 0 0 0 0 0 0 0 0 0 0 0 0 0 0 0 0 0 0 0 0 0 0 0 0 0 0 0 0 0 1 11 28 29 9 6 4 13 19 23 5 24 16 21 14 30 20 3 2 22 25 27 18 12 8 26 7 15 10 17; 0 0 0 0 0 0 0 0 0 0 0 0 0 0 0 0 0 0 0 0 0 0 0 0 0 0 0 0 0 0 1 28 9 4 19 5 16 14 20 2 25 18 8 7 10 1 28 9 4 19 5 16 14 20 2 25 18 8 7 10; 0 0 0 0 0 0 0 0 0 0 0 0 0 0 0 0 0 0 0 0 0 0 0 0 0 0 0 0 0 0 1 29 4 23 16 30 2 27 8 15 1 29 4 23 16 30 2 27 8 15 1 29 4 23 16 30 2 27 8 15; 0 0 0 0 0 0 0 0 0 0 0 0 0 0 0 0 0 0 0 0 0 0 0 0 0 0 0 0 0 0 1 9 19 16 20 25 8 10 28 4 5 14 2 18 7 1 9 19 16 20 25 8 10 28 4 5 14 2 18 7; 0 0 0 0 0 0 0 0 0 0 0 0 0 0 0 0 0 0 0 0 0 0 0 0 0 0 0 0 0 0 1 6 5 30 25 26 1 6 5 30 25 26 1 6 5 30 25 26 1 6 5 30 25 26 1 6 5 30 25 26; 0 0 0 0 0 0 0 0 0 0 0 0 0 0 0 0 0 0 0 0 0 0 0 0 0 0 0 0 0 0 1 4 16 2 8 1 4 16 2 8 1 4 16 2 8 1 4 16 2 8 1 4 16 2 8 1 4 16 2 8; 0 0 0 0 0 0 0 0 0 0 0 0 0 0 0 0 0 0 0 0 0 0 0 0 0 0 0 0 0 0 1 13 14 27 10 6 16 22 7 29 5 3 8 11 19 30 18 17 4 21 25 15 9 24 2 26 28 23 20 12; 0 0 0 0 0 0 0 0 0 0 0 0 0 0 0 0 0 0 0 0 0 0 0 0 0 0 0 0 0 0 1 19 20 8 28 5 2 7 9 16 25 10 4 14 18 1 19 20 8 28 5 2 7 9 16 25 10 4 14 18; 0 0 0 0 0 0 0 0 0 0 0 0 0 0 0 0 0 0 0 0 0 0 0 0 0 0 0 0 0 0 1 23 2 15 4 30 8 29 16 27 1 23 2 15 4 30 8 29 16 27 1 23 2 15 4 30 8 29 16 27; 0 0 0 0 0 0 0 0 0 0 0 0 0 0 0 0 0 0 0 0 0 0 0 0 0 0 0 0 0 0 1 5 25 1 5 25 1 5 25 1 5 25 1 5 25 1 5 25 1 5 25 1 5 25 1 5 25 1 5 25]\n",
      "true\n"
     ]
    }
   ],
   "source": [
    "using LinearAlgebra\n",
    "\n",
    "# Assume G1, G2, H1, and H2 are defined\n",
    "G6 = vcat(hcat(G1, zeros(size(G1, 1), size(G2, 2))),\n",
    "          hcat(zeros(size(G2, 1), size(G1, 2)), G2))\n",
    "\n",
    "H6 = vcat(hcat(H1, zeros(Int, size(H1, 1), size(H2, 2))),\n",
    "          hcat(zeros(Int, size(H2, 1), size(H1, 2)), H2))\n",
    "\n",
    "# Output the resulting matrices\n",
    "println(\"Generator Matrix G6:\")\n",
    "println(G6)\n",
    "\n",
    "println(\"\\nParity-Check Matrix H6:\")\n",
    "println(H6)\n",
    "\n",
    "function check_orthogonality(G, H)\n",
    "    # Compute G * H^T\n",
    "    result = mod.(G * H', p)\n",
    "        \n",
    "    # Check if the result is the zero matrix\n",
    "    return all(result .== 0)  # Return true if all elements are zero\n",
    "end\n",
    "\n",
    "println(check_orthogonality(G6, H6))"
   ]
  },
  {
   "cell_type": "markdown",
   "id": "e77e53d1",
   "metadata": {},
   "source": [
    "### 10.1.7"
   ]
  },
  {
   "cell_type": "markdown",
   "id": "82016d34",
   "metadata": {},
   "source": []
  },
  {
   "cell_type": "code",
   "execution_count": 10,
   "id": "693d4931",
   "metadata": {},
   "outputs": [
    {
     "data": {
      "text/plain": [
       "true"
      ]
     },
     "metadata": {},
     "output_type": "display_data"
    }
   ],
   "source": [
    "function generate_C7_matrices(G1, H1, p)\n",
    "    # Get dimensions of G1 and H1\n",
    "    k, n = size(G1)    # Generator matrix dimensions (k × n)\n",
    "    k2, n2 = size(H1)  # Parity check matrix dimensions (n-k × n)\n",
    "\n",
    "\n",
    "    # Step 1: Construct the Generator Matrix for C7 (G7)\n",
    "    G7 = zeros(Int64, k, n+1)  # Initialize (k × (n+1)) matrix for G7\n",
    "    \n",
    "    # Copy the original generator matrix G1 into G7\n",
    "    G7[:, 1:n] .= G1  # Copy first n columns of G1 into G7\n",
    "\n",
    "    # Step 2: Add the new column for the summation (sum of first p-1 elements of each codeword)\n",
    "    for i in 1:k\n",
    "        sum_symbols = sum(G1[i, 1:(p-1)])  # Sum the first p-1 elements of the i-th codeword\n",
    "        G7[i, n+1] = mod(sum_symbols, p)  # Append the sum to the last column (mod p)\n",
    "    end\n",
    "\n",
    "    # Initialize H7 with one more column than H1\n",
    "    H7 = zeros(Int64, n-k, n+1)  # Initialize (n-k) × (n+1) matrix for H7\n",
    "    \n",
    "    # Copy the original parity check matrix H1 into H7 (first n columns)\n",
    "    H7[:, 1:n] .= H1  # Copy first n columns of H1 into H7\n",
    "    \n",
    "    # Step 2: Add a new column to H7 to make it orthogonal to G7\n",
    "    for i in 1:(n-k)\n",
    "        sum_symbols = sum(H1[i, 1:(p-1)])\n",
    "        H7[i, n+1] = mod(sum_symbols, p)  # Placeholder for the new column, adjust as needed to ensure orthogonality\n",
    "    end\n",
    "\n",
    "    return G7, H7\n",
    "end\n",
    "\n",
    "G7, H7 = generate_C7_matrices(G1, H1, p)\n",
    "\n",
    "check_orthogonality(G7, H7)"
   ]
  },
  {
   "cell_type": "markdown",
   "id": "241a3beb",
   "metadata": {},
   "source": [
    "### 10.1.8"
   ]
  },
  {
   "cell_type": "markdown",
   "id": "6ece2791",
   "metadata": {},
   "source": []
  },
  {
   "cell_type": "code",
   "execution_count": 11,
   "id": "85679d06",
   "metadata": {},
   "outputs": [
    {
     "name": "stdout",
     "output_type": "stream",
     "text": [
      "Generator Matrix G8: (480, 900)\n",
      "Parity Check Matrix H8: (60, 900)\n"
     ]
    },
    {
     "data": {
      "text/plain": [
       "true"
      ]
     },
     "metadata": {},
     "output_type": "display_data"
    }
   ],
   "source": [
    "using LinearAlgebra\n",
    "\n",
    "# Function to compute the generator matrix G8 and parity check matrix H8 for C8\n",
    "function generate_C8_matrices(G1, H1, G2, H2)\n",
    "    # Compute the Kronecker product of G1 and G2 to get the generator matrix for C8\n",
    "    G8 = kron(G1, G2)  # Kronecker product of G1 and G2\n",
    "    \n",
    "    # Compute the Kronecker product of H1 and H2 to get the parity check matrix for C8\n",
    "    H8 = kron(H1, H2)  # Kronecker product of H1 and H2\n",
    "    \n",
    "    return G8, H8\n",
    "end\n",
    "\n",
    "G8, H8 = generate_C8_matrices(G1, H1, G2, H2)\n",
    "\n",
    "# Output results\n",
    "println(\"Generator Matrix G8: \", size(G8))\n",
    "println(\"Parity Check Matrix H8: \", size(H8))\n",
    "\n",
    "check_orthogonality(G8, H8)"
   ]
  },
  {
   "cell_type": "markdown",
   "id": "479279a0",
   "metadata": {},
   "source": [
    "### 10.1.9"
   ]
  },
  {
   "cell_type": "markdown",
   "id": "9d63c388",
   "metadata": {},
   "source": []
  },
  {
   "cell_type": "code",
   "execution_count": 12,
   "id": "8e5ba0d4",
   "metadata": {},
   "outputs": [
    {
     "name": "stdout",
     "output_type": "stream",
     "text": [
      "3\n"
     ]
    },
    {
     "data": {
      "text/plain": [
       "(5*x^2 + 4*x + 10, 28*x^3 + 5*x^2 + 21*x + 4)"
      ]
     },
     "metadata": {},
     "output_type": "display_data"
    }
   ],
   "source": [
    "# Q10_1_9_data_y :: Vector{String}\n",
    "# Q10_1_9_ans_m :: Union{Missing, Vector{Int64}}\n",
    "\n",
    "using Nemo\n",
    "\n",
    "function extendedEuclideanAlgorithm(p::Int, d::Int, H::Matrix{Int64}, y::Vector{String})\n",
    "    # Convert input `y` (with \"?\" as missing values) into integers\n",
    "    y_int = [x == \"?\" ? 0 : parse(Int, x) for x in y]\n",
    "\n",
    "    # Compute the syndrome vector: S = H * y mod p\n",
    "    syndrome_vector = mod.(H * y_int, p)\n",
    "\n",
    "    # Setup finite field and polynomial ring\n",
    "    F = GF(p)                 # Finite field GF(p)\n",
    "    R, x = polynomial_ring(F, \"x\")  # Polynomial ring over GF(p)\n",
    "\n",
    "    # Syndrome polynomial: S(x)\n",
    "    S = R(syndrome_vector)\n",
    "\n",
    "    # Initialize polynomials for Extended Euclidean Algorithm\n",
    "    t = (d - 1) ÷ 2           # Degree threshold\n",
    "    r0 = x^(2 * t)            # r0 = x^(d-1) (target divisor)\n",
    "    r1 = S                    # r1 = Syndrome polynomial\n",
    "\n",
    "    u0, u1 = R(1), R(0)       # u_0(x) = 1, u_1(x) = 0\n",
    "    v0, v1 = R(0), R(1)       # v_0(x) = 0, v_1(x) = 1\n",
    "\n",
    "    # Extended Euclidean Algorithm loop\n",
    "    while Nemo.degree(r1) >= t\n",
    "        q, r2 = divrem(r0, r1)  # Polynomial division: r0 = q * r1 + r2\n",
    "        r0, r1 = r1, r2         # Update remainders\n",
    "        u0, u1 = u1, u0 - q * u1  # Update Bézout coefficients (u)\n",
    "        v0, v1 = v1, v0 - q * v1  # Update Bézout coefficients (v)\n",
    "    end\n",
    "\n",
    "    println(t)\n",
    "    # Final values:\n",
    "    L = r1  # Error locator polynomial (gcd result)\n",
    "    E = v1  # Error evaluator polynomial (corresponding Bézout coefficient)\n",
    "\n",
    "    return L, E\n",
    "end\n",
    "\n",
    "extendedEuclideanAlgorithm(answer.Q10_1_data_p, answer.Q10_1_data_d_1, H1, answer.Q10_1_9_data_y)"
   ]
  },
  {
   "cell_type": "markdown",
   "id": "ed5ecfa6",
   "metadata": {},
   "source": [
    "### 10.2.1"
   ]
  },
  {
   "cell_type": "markdown",
   "id": "b3afa7e4",
   "metadata": {},
   "source": []
  },
  {
   "cell_type": "code",
   "execution_count": 13,
   "id": "a0c97493",
   "metadata": {},
   "outputs": [
    {
     "data": {
      "text/plain": [
       "21×31 Matrix{Vector{Int64}}:\n",
       " [1]  [1]              [1]              …  [1]              [1]\n",
       " [1]  [0, 1, 1, 0, 1]  [1, 0, 1, 1, 1]     [0, 1, 0, 0, 1]  [1, 1, 0, 1, 1]\n",
       " [1]  [1, 0, 1, 1, 1]  [0, 1, 1]           [1, 0, 1, 1]     [0, 1, 0, 0, 1]\n",
       " [1]  [0, 0, 1]        [0, 0, 0, 0, 1]     [1, 1, 1]        [0, 0, 1, 1, 1]\n",
       " [1]  [0, 1, 1]        [0, 0, 1, 0, 1]     [1, 1, 1, 1]     [1, 0, 1, 1]\n",
       " [1]  [1, 0, 1]        [1, 0, 0, 0, 1]  …  [0, 0, 1, 1]     [1, 1, 0, 0, 1]\n",
       " [1]  [0, 0, 0, 0, 1]  [1, 0, 0, 1]        [1, 0, 1, 0, 1]  [1, 1, 1]\n",
       " [1]  [0, 0, 0, 1, 1]  [1, 1, 1, 0, 1]     [0, 1]           [1, 1, 1, 1, 1]\n",
       " [1]  [0, 0, 1, 0, 1]  [1, 0, 0, 1, 1]     [1, 1, 0, 1]     [1, 1, 1, 1]\n",
       " [1]  [0, 1, 1, 1, 1]  [1, 1]              [0, 1, 0, 1, 1]  [0, 1, 0, 1]\n",
       " ⋮                                      ⋱                   ⋮\n",
       " [1]  [1, 0, 0, 1]     [1, 1, 1, 1, 1]     [0, 0, 0, 1, 1]  [1, 0, 1, 0, 1]\n",
       " [1]  [0, 1, 0, 1, 1]  [1, 1, 0, 0, 1]     [1, 0, 1]        [1, 1]\n",
       " [1]  [1, 1, 1, 0, 1]  [0, 0, 1, 1, 1]     [0, 0, 1]        [0, 1]\n",
       " [1]  [1, 1, 0, 1]     [1, 1, 0, 1, 1]  …  [0, 1, 1, 0, 1]  [1, 0, 0, 1, 1]\n",
       " [1]  [1, 0, 0, 1, 1]  [0, 1, 1, 0, 1]     [1, 1, 0, 1, 1]  [1, 1, 0, 1]\n",
       " [1]  [0, 1]           [0, 0, 1]           [0, 0, 1, 1, 1]  [1, 1, 1, 0, 1]\n",
       " [1]  [1, 1]           [1, 0, 1]           [1, 1, 0, 0, 1]  [0, 1, 0, 1, 1]\n",
       " [1]  [1, 0, 1, 0, 1]  [0, 0, 0, 1, 1]     [1, 1, 1, 1, 1]  [1, 0, 0, 1]\n",
       " [1]  [0, 0, 0, 1]     [0, 1, 1, 1, 1]  …  [0, 1, 0, 1]     [0, 1, 1, 1]"
      ]
     },
     "metadata": {},
     "output_type": "display_data"
    }
   ],
   "source": [
    "using Polynomials\n",
    "\n",
    "# Q10_2_data_polynomial::Vector{Int}\n",
    "# Q10_2_data_primitive_el::Vector{Int}\n",
    "# Q10_2_1_ans_G::Union{Missing, Vector{ Vector{Int} }}\n",
    "# Q10_2_1_ans_H::Union{Missing, Vector{ Vector{Int} }}\n",
    "\n",
    "p = 32\n",
    "d = 11\n",
    "\n",
    "function generate_rs_matrices_10_2(p::Int, d::Int, alpha_value::Vector{Int}, data_polynomial::Vector{Int})\n",
    "    n = p - 1                      # Code length (for RS codes over GF(p))\n",
    "    k = n - d + 1                  # Dimension from minimum distance d\n",
    "\n",
    "    F = GF(2)\n",
    "    R, x = polynomial_ring(F, \"x\")\n",
    "    data_ring = R(data_polynomial)\n",
    "    f, w = finite_field(data_ring, \"w\")\n",
    "    alpha_polynomial = f(alpha_value)\n",
    "    polyZZ, y = polynomial_ring( Nemo.ZZ,\"y\" )\n",
    "\n",
    "    G_ff = matrix(f, k, n, [one(f) for i in 1:k, j in 1:n])\n",
    "    H_ff = matrix(f, n-k, n, [one(f) for i in 1:(n-k), j in 1:n])\n",
    "\n",
    "    for row in 1:k\n",
    "        for col in 1:n\n",
    "            result = alpha_polynomial ^ ((row-1)*(col-1))\n",
    "            G_ff[row, col] = result\n",
    "        end\n",
    "    end\n",
    "\n",
    "    for row in 1:(n-k)\n",
    "        for col in 1:n\n",
    "            result = alpha_polynomial ^ (row*(col-1))\n",
    "            H_ff[row, col] = result\n",
    "        end\n",
    "    end\n",
    "\n",
    "    G = Matrix{Vector{Int}}(undef, k, n)\n",
    "    for row in 1:k\n",
    "        for col in 1:n\n",
    "            result = alpha_polynomial ^ ((row-1)*(col-1))\n",
    "            alpha_polyZZ = lift(polyZZ, result)\n",
    "            G[row, col] = Int.(collect(coefficients(alpha_polyZZ)))\n",
    "        end\n",
    "    end\n",
    "\n",
    "    H = Matrix{Vector{Int}}(undef, n-k, n)\n",
    "    for row in 1:(n-k)\n",
    "        for col in 1:n\n",
    "            result = alpha_polynomial ^ (row*(col-1))\n",
    "            alpha_polyZZ = lift(polyZZ, result)\n",
    "            H[row, col] = Int.(collect(coefficients(alpha_polyZZ)))\n",
    "        end\n",
    "    end\n",
    "\n",
    "    return G, H, G_ff, H_ff\n",
    "end\n",
    "\n",
    "answer.Q10_2_1_ans_G, answer.Q10_2_1_ans_H, G_ff, H_ff = generate_rs_matrices_10_2(p, d, answer.Q10_2_data_primitive_el, answer.Q10_2_data_polynomial)\n",
    "answer.Q10_2_1_ans_G"
   ]
  },
  {
   "cell_type": "markdown",
   "id": "237a63e0",
   "metadata": {},
   "source": [
    "### 10.2.2"
   ]
  },
  {
   "cell_type": "markdown",
   "id": "f745e356",
   "metadata": {},
   "source": []
  },
  {
   "cell_type": "code",
   "execution_count": 14,
   "id": "db08cb67",
   "metadata": {},
   "outputs": [
    {
     "data": {
      "text/plain": [
       "Vector{FqFieldElem}\u001b[90m (alias for \u001b[39m\u001b[90mArray{FqFieldElem, 1}\u001b[39m\u001b[90m)\u001b[39m"
      ]
     },
     "metadata": {},
     "output_type": "display_data"
    }
   ],
   "source": [
    "function syndrome_vector_10_2_2(y, H, data_polynomial)\n",
    "    F = GF(2)\n",
    "    R, x = polynomial_ring(F, \"x\")\n",
    "    data_ring = R(data_polynomial)\n",
    "    f, w = finite_field(data_ring, \"w\")\n",
    "    polyZZ, a = polynomial_ring( Nemo.ZZ,\"a\" )\n",
    "\n",
    "    # For every element in the syndrome, put it into the ring and then the field\n",
    "    y_ff = [f(R(c)) for c in y]\n",
    "    syndrome_ff = y_ff * transpose(H)\n",
    "\n",
    "    syndrome_ZZ = [lift(polyZZ, s) for s in syndrome_ff]\n",
    "    syndrome_vector = [Int.(collect(coefficients(s))) for s in syndrome_ZZ]\n",
    "    return syndrome_vector, syndrome_ff\n",
    "end\n",
    "\n",
    "answer.Q10_2_2_ans_syndrome_vector, syndrome_ff = syndrome_vector_10_2_2(answer.Q10_2_2_data_y, H_ff, answer.Q10_2_data_polynomial)\n",
    "typeof(syndrome_ff)"
   ]
  },
  {
   "cell_type": "markdown",
   "id": "9b8ef128",
   "metadata": {},
   "source": [
    "### 10.2.3"
   ]
  },
  {
   "cell_type": "markdown",
   "id": "ece18773",
   "metadata": {},
   "source": []
  },
  {
   "cell_type": "code",
   "execution_count": null,
   "id": "c72d0565",
   "metadata": {},
   "outputs": [
    {
     "name": "stdout",
     "output_type": "stream",
     "text": [
      "(a^4 + a^3 + a)*x^9 + (a^3 + a^2 + a + 1)*x^8 + (a^4 + a^2 + 1)*x^7 + (a^4 + a^3 + a^2 + a + 1)*x^6 + (a^4 + 1)*x^5 + a^2*x^4 + (a^4 + a^2 + 1)*x^3 + (a^3 + 1)*x^2 + (a^3 + a^2 + a)*x + a^4 + 1\n",
      "(a^3 + a^2 + a + 1)*x^4 + a*x^3 + (a^3 + 1)*x^2 + (a^3 + a + 1)*x + a^4 + 1\n",
      "(a^4 + a^3 + a^2 + a + 1)*x^5 + (a^4 + a^2)*x^4 + (a^2 + a)*x^3 + (a^3 + a^2 + 1)*x^2 + (a^4 + a + 1)*x + 1\n",
      "(a^4 + a^3)*x^3 + (a^4 + a^2 + a)*x^2 + (a^4 + a^3 + a + 1)*x + a^4 + a^3 + a^2 + 1\n",
      "x^4\n",
      "x^9 + (a^4 + a^3 + a^2 + 1)*x^8 + (a^4 + a^2 + a)*x^7 + (a^2 + a)*x^6 + (a^4 + a^3 + a)*x^5 + a^4*x^4 + a^2*x^3 + (a^3 + a)*x + a^3 + a^2\n"
     ]
    },
    {
     "data": {
      "text/plain": [
       "((a^3 + a^2 + a + 1)*x^4 + a*x^3 + (a^3 + 1)*x^2 + (a^3 + a + 1)*x + a^4 + 1, (a^4 + a^3 + a^2 + a + 1)*x^5 + (a^4 + a^2)*x^4 + (a^2 + a)*x^3 + (a^3 + a^2 + 1)*x^2 + (a^4 + a + 1)*x + 1)"
      ]
     },
     "metadata": {},
     "output_type": "display_data"
    }
   ],
   "source": [
    "# Q10_2_3_ans_error_locator_poly::Union{Missing, Vector{ Vector{Int} }}\n",
    "# Q10_2_3_ans_error_evaluator_poly::Union{Missing, Vector{ Vector{Int} }}\n",
    "\n",
    "# function extendedEuclideanAlgorithm(d, S)\n",
    "#     F = GF(2)\n",
    "#     R, x = polynomial_ring(F, \"x\")\n",
    "#     t = (d - 1) // 2\n",
    "#     r0 = x^(d-1)\n",
    "#     r1 = S          # Syndrome polynomial\n",
    "\n",
    "#     u0, u1 = R(1), R(0)  # u_0(x) = 1, u_1(x) = 0\n",
    "#     v0, v1 = R(0), R(1)  # v_0(x) = 0, v_1(x) = 1\n",
    "\n",
    "#     while Nemo.degree(r1) >= t\n",
    "#         q, r2 = divrem(r0, r1)  # Polynomial division: r0 = q r1 + r2\n",
    "#         r0, r1 = r1, r2\n",
    "#         u0, u1 = u1, u0 - q * u1\n",
    "#         v0, v1 = v1, v0 - q * v1\n",
    "#     end\n",
    "\n",
    "#     # Final values\n",
    "#     L = r1  # Error locator polynomial\n",
    "#     E = v1  # Error evaluator polynomial\n",
    "#     return L, E\n",
    "# end\n",
    "R, x = polynomial_ring(GF(2), \"x\")\n",
    "data_ring = R(answer.Q10_2_data_polynomial)\n",
    "F, a = finite_field(data_ring, \"a\")\n",
    "\n",
    "function locator_evaluator(syndrome_vector, data_polynomial, alpha_value, F)\n",
    "    n = p - 1\n",
    "    k = n - d + 1\n",
    "    \n",
    "    P, x = polynomial_ring(F, \"x\")\n",
    "\n",
    "    syndrome_polynomial = P(0)\n",
    "    for j in 1:d-1\n",
    "        while length(syndrome_vector[j]) < 5\n",
    "            push!(syndrome_vector[j], 0)\n",
    "        end\n",
    "        vec = F(syndrome_vector[j])\n",
    "        syndrome_polynomial += vec * x^(j-1)\n",
    "    end\n",
    "    println(syndrome_polynomial)\n",
    "\n",
    "    r0, r1 = x^(d-1), syndrome_polynomial\n",
    "    u0, u1 = P(1), P(0) # u0 = 1, u1 = 0\n",
    "    v0, v1 = P(0), P(1) # v0 = 0, v1 = 1\n",
    "\n",
    "    t = (d - 1) // 2\n",
    "\n",
    "    while Nemo.degree(r1) >= t\n",
    "        q, r2 = divrem(r0, r1)   # Polynomial division\n",
    "        r0, r1 = r1, r2          # Update remainders\n",
    "        u0, u1 = u1, u0 - q*u1   # Update u polynomials\n",
    "        v0, v1 = v1, v0 - q*v1   # Update v polynomials\n",
    "    end\n",
    "\n",
    "    # Return error locator (r1) and error evaluator (v1)\n",
    "    \n",
    "    println(r1)\n",
    "    println(v1)\n",
    "    println(invmod(v1, r1))\n",
    "    println(gcd(r1, x^(d-1)))\n",
    "    println((v1 * invmod(r1,x^(d-1))) % x^(d-1)) \n",
    "    return r1, v1\n",
    "\n",
    "end\n",
    "\n",
    "answer.Q10_2_data_primitive_el, answer.Q10_2_data_polynomial\n",
    "\n",
    "locator_evaluator(answer.Q10_2_2_ans_syndrome_vector, answer.Q10_2_data_polynomial, answer.Q10_2_data_primitive_el, F)\n"
   ]
  },
  {
   "cell_type": "markdown",
   "id": "c7c0a8bd",
   "metadata": {},
   "source": [
    "### 10.2.4"
   ]
  },
  {
   "cell_type": "markdown",
   "id": "02ae850d",
   "metadata": {},
   "source": []
  },
  {
   "cell_type": "code",
   "execution_count": 16,
   "id": "69fbab6a",
   "metadata": {},
   "outputs": [],
   "source": []
  },
  {
   "cell_type": "markdown",
   "id": "a1ed1e7d",
   "metadata": {},
   "source": [
    "### 10.2.5"
   ]
  },
  {
   "cell_type": "markdown",
   "id": "e7bdd7fa",
   "metadata": {},
   "source": []
  },
  {
   "cell_type": "code",
   "execution_count": 17,
   "id": "1a047555",
   "metadata": {},
   "outputs": [],
   "source": []
  },
  {
   "cell_type": "markdown",
   "id": "380b37b2",
   "metadata": {},
   "source": [
    "### Write Back to Struct"
   ]
  },
  {
   "cell_type": "code",
   "execution_count": 18,
   "id": "b387d981",
   "metadata": {},
   "outputs": [],
   "source": [
    "jldopen(data_file, \"w\") do file\n",
    "    write(file, \"CourseWork_4\", answer)\n",
    "end"
   ]
  },
  {
   "cell_type": "markdown",
   "id": "8824e739",
   "metadata": {},
   "source": [
    "### Sanity Check"
   ]
  },
  {
   "cell_type": "code",
   "execution_count": 19,
   "id": "8214346d",
   "metadata": {},
   "outputs": [
    {
     "data": {
      "text/plain": [
       "CourseWork_4(2018546, true, true, 31, 11, 8, 9, missing, missing, missing, missing, missing, missing, missing, missing, missing, missing, missing, missing, missing, missing, missing, missing, [\"24\", \"14\", \"19\", \"12\", \"2\", \"?\", \"20\", \"1\", \"23\", \"18\"  …  \"24\", \"?\", \"6\", \"?\", \"?\", \"5\", \"6\", \"16\", \"20\", \"?\"], missing, [1, 1, 1, 1, 0, 1], [0, 1, 1, 0, 1], [[1] [1] … [1] [1]; [1] [0, 1, 1, 0, 1] … [0, 1, 0, 0, 1] [1, 1, 0, 1, 1]; … ; [1] [1, 0, 1, 0, 1] … [1, 1, 1, 1, 1] [1, 0, 0, 1]; [1] [0, 0, 0, 1] … [0, 1, 0, 1] [0, 1, 1, 1]], [[1] [0, 1, 1, 0, 1] … [0, 1, 0, 0, 1] [1, 1, 0, 1, 1]; [1] [1, 0, 1, 1, 1] … [1, 0, 1, 1] [0, 1, 0, 0, 1]; … ; [1] [0, 1, 1, 1, 1] … [0, 1, 0, 1, 1] [0, 1, 0, 1]; [1] [1, 0, 0, 0, 1] … [0, 1, 1, 1] [0, 0, 1, 1]], [[1, 0, 1, 1], [0, 0, 0, 1, 1], [0, 0, 1, 1, 1], [0, 1, 1], [1, 0, 0, 0, 1], [0, 1, 1, 1], [1, 0, 1, 1], [0, 0, 1, 0, 1], [0, 0, 1, 0, 1], [0, 1, 0, 0, 1]  …  [1, 0, 1], [0, 1, 1, 1, 1], [1, 0, 1], [0, 1, 0, 1, 1], [0, 1, 1, 1], [1, 1, 1], [1, 0, 1, 1], [1, 1, 1, 1, 1], [1, 0, 0, 0, 1], [0, 1, 1, 1, 1]], [[1, 0, 0, 0, 1], [0, 1, 1, 1, 0], [1, 0, 0, 1, 0], [1, 0, 1, 0, 1], [0, 0, 1, 0, 0], [1, 0, 0, 0, 1], [1, 1, 1, 1, 1], [1, 0, 1, 0, 1], [1, 1, 1, 1, 0], [0, 1, 0, 1, 1]], missing, missing, missing, missing, missing, missing)"
      ]
     },
     "metadata": {},
     "output_type": "display_data"
    }
   ],
   "source": [
    "answer"
   ]
  }
 ],
 "metadata": {
  "kernelspec": {
   "display_name": "Julia 1.11.1",
   "language": "julia",
   "name": "julia-1.11"
  },
  "language_info": {
   "file_extension": ".jl",
   "mimetype": "application/julia",
   "name": "julia",
   "version": "1.11.1"
  }
 },
 "nbformat": 4,
 "nbformat_minor": 5
}
