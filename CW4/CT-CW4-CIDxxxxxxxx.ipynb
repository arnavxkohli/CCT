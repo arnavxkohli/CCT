{
 "cells": [
  {
   "cell_type": "markdown",
   "id": "9fdea660",
   "metadata": {},
   "source": [
    "# Coursework 4 - Coding Theory\n",
    "\n",
    "### PLAGIARISM/COLLUSION DECLARATION\n",
    "\n",
    "Coursework submitted for assessment must be the original work of you and your group. Assignments are subjected to regular checks for plagiarism and/or collusion. Plagiarism is the presentation of another person’s thoughts or words (those outside your group) as if they were your own. Collusion involves obtaining help from someone outside your group to complete your work. In preparing your coursework, you should not seek help, or copy from any other person or source, including the\n",
    "Internet, without proper and explicit acknowledgement.\n",
    "\n",
    "There is a procedure in place for you to declare individual contributions within your group for courswork. You must declare the contributions fairly and accurately.\n",
    "\n",
    "You must not disclose your solutions or insights related to coursework with anyone else, including future students or the Internet.\n",
    "\n",
    "By acknowledging the the statements above, you are declaring that both this and all subsequent pieces of coursework are, and will remain, the original work of you and your group. \n",
    "\n",
    "* Submissions will not be accepted without the aforementioned declaration.\n",
    "\n",
    "* Members of a group are deemed to have collective responsibility for the integrity for work submitted and are liable for any penalty imposed, proportionate to their contributions. \n",
    "\n"
   ]
  },
  {
   "cell_type": "code",
   "execution_count": null,
   "id": "0a4e08f9",
   "metadata": {},
   "outputs": [],
   "source": [
    "using FileIO, JLD2"
   ]
  },
  {
   "cell_type": "code",
   "execution_count": null,
   "id": "c07e984b",
   "metadata": {},
   "outputs": [],
   "source": [
    "Base.@kwdef mutable struct CourseWork_4\n",
    "    CID::Int\n",
    "    Plagiarism_declare::Union{Missing,Bool}\n",
    "    Demo_willing::Union{Missing,Bool}\n",
    "\n",
    "    Q10_1_1_ans_G :: Union{Missing, Matrix{Int64}}\n",
    "    Q10_1_1_ans_H :: Union{Missing, Matrix{Int64}}\n",
    "\n",
    "    Q10_1_2_ans_G :: Union{Missing, Matrix{Int64}}\n",
    "    Q10_1_2_ans_H :: Union{Missing, Matrix{Int64}}\n",
    "\n",
    "    Q10_1_3_ans_G :: Union{Missing, Matrix{Int64}}\n",
    "    Q10_1_3_ans_H :: Union{Missing, Matrix{Int64}}\n",
    "\n",
    "    Q10_1_4_ans_G :: Union{Missing, Matrix{Int64}}\n",
    "    Q10_1_4_ans_H :: Union{Missing, Matrix{Int64}}\n",
    "\n",
    "    Q10_1_5_ans_G :: Union{Missing, Matrix{Int64}}\n",
    "    Q10_1_5_ans_H :: Union{Missing, Matrix{Int64}}\n",
    "\n",
    "    Q10_1_6_ans_G :: Union{Missing, Matrix{Int64}}\n",
    "    Q10_1_6_ans_H :: Union{Missing, Matrix{Int64}}\n",
    "\n",
    "    Q10_1_7_ans_G :: Union{Missing, Matrix{Int64}}\n",
    "    Q10_1_7_ans_H :: Union{Missing, Matrix{Int64}}\n",
    "\n",
    "    Q10_1_8_ans_G :: Union{Missing, Matrix{Int64}}\n",
    "    Q10_1_8_ans_H :: Union{Missing, Matrix{Int64}}\n",
    "\n",
    "    Q10_1_9_data_y :: Vector{String}\n",
    "    Q10_1_9_ans_m :: Union{Missing, Vector{Int64}}\n",
    "\n",
    "\n",
    "    Q10_2_data_polynomial::Vector{Int}\n",
    "    Q10_2_data_primitive_el::Vector{Int}\n",
    "    Q10_2_1_ans_G::Union{Missing, Vector{ Vector{Int} }}\n",
    "    Q10_2_1_ans_H::Union{Missing, Vector{ Vector{Int} }}\n",
    "    Q10_2_2_data_y::Vector{ Vector{Int} }\n",
    "    Q10_2_2_ans_syndrome_vector::Union{Missing, Vector{ Vector{Int} }}\n",
    "    Q10_2_2_ans_syndrome_poly::Union{Missing,  Vector{ Vector{Int} }}\n",
    "    Q10_2_3_ans_error_locator_poly::Union{Missing, Vector{ Vector{Int} }}\n",
    "    Q10_2_3_ans_error_evaluator_poly::Union{Missing, Vector{ Vector{Int} }}\n",
    "    Q10_2_4_ans_error_locations::Union{Missing, Vector{Int}}\n",
    "    Q10_2_4_ans_error_vector::Union{Missing, Vector{ Vector{Int} }}\n",
    "    Q10_2_4_ans_transmt_cdword::Union{Missing, Vector{ Vector{Int} }}\n",
    "    Q10_2_5_ans_message::Union{Missing, Vector{ Vector{Int} }}\n",
    "\n",
    "end"
   ]
  },
  {
   "cell_type": "code",
   "execution_count": null,
   "id": "052f7342",
   "metadata": {},
   "outputs": [],
   "source": [
    "# Download and upload data from JLD file, refer to https://juliaio.github.io/JLD2.jl/dev/ \n",
    "\n",
    "# Example \n",
    "# A = JLD2.load(\"xxx.jld2\");\n",
    "# A = A[ \"CourseWork_4\" ];\n",
    "# A.Demo_willing = true;\n",
    "\n",
    "# jldopen(\"xxx.jld2\", \"w\") do file\n",
    "#    write(file, \"CourseWork_4\", A)\n",
    "# end"
   ]
  },
  {
   "cell_type": "markdown",
   "id": "f4ea51c4",
   "metadata": {},
   "source": [
    "### 10.1.1"
   ]
  },
  {
   "cell_type": "markdown",
   "id": "e821312b",
   "metadata": {},
   "source": []
  },
  {
   "cell_type": "code",
   "execution_count": null,
   "id": "c48ee354",
   "metadata": {},
   "outputs": [],
   "source": []
  },
  {
   "cell_type": "markdown",
   "id": "36979a01",
   "metadata": {},
   "source": [
    "### 10.1.2"
   ]
  },
  {
   "cell_type": "markdown",
   "id": "72fdcabc",
   "metadata": {},
   "source": []
  },
  {
   "cell_type": "code",
   "execution_count": null,
   "id": "62e33492",
   "metadata": {},
   "outputs": [],
   "source": []
  },
  {
   "cell_type": "markdown",
   "id": "02098d20",
   "metadata": {},
   "source": [
    "### 10.1.3"
   ]
  },
  {
   "cell_type": "markdown",
   "id": "a6744b20",
   "metadata": {},
   "source": []
  },
  {
   "cell_type": "code",
   "execution_count": null,
   "id": "2be23b34",
   "metadata": {},
   "outputs": [],
   "source": []
  },
  {
   "cell_type": "markdown",
   "id": "e35d87f9",
   "metadata": {},
   "source": [
    "### 10.1.4"
   ]
  },
  {
   "cell_type": "markdown",
   "id": "07ef20a4",
   "metadata": {},
   "source": []
  },
  {
   "cell_type": "code",
   "execution_count": null,
   "id": "49dc6a0a",
   "metadata": {},
   "outputs": [],
   "source": []
  },
  {
   "cell_type": "markdown",
   "id": "d5552dce",
   "metadata": {},
   "source": [
    "### 10.1.5"
   ]
  },
  {
   "cell_type": "markdown",
   "id": "a0ff02dd",
   "metadata": {},
   "source": []
  },
  {
   "cell_type": "code",
   "execution_count": null,
   "id": "be00fdcc",
   "metadata": {},
   "outputs": [],
   "source": []
  },
  {
   "cell_type": "markdown",
   "id": "54eb6d43",
   "metadata": {},
   "source": [
    "### 10.1.6"
   ]
  },
  {
   "cell_type": "markdown",
   "id": "265ec9be",
   "metadata": {},
   "source": []
  },
  {
   "cell_type": "code",
   "execution_count": null,
   "id": "e69c210b",
   "metadata": {},
   "outputs": [],
   "source": []
  },
  {
   "cell_type": "markdown",
   "id": "e77e53d1",
   "metadata": {},
   "source": [
    "### 10.1.7"
   ]
  },
  {
   "cell_type": "markdown",
   "id": "82016d34",
   "metadata": {},
   "source": []
  },
  {
   "cell_type": "code",
   "execution_count": null,
   "id": "693d4931",
   "metadata": {},
   "outputs": [],
   "source": []
  },
  {
   "cell_type": "markdown",
   "id": "241a3beb",
   "metadata": {},
   "source": [
    "### 10.1.8"
   ]
  },
  {
   "cell_type": "markdown",
   "id": "6ece2791",
   "metadata": {},
   "source": []
  },
  {
   "cell_type": "code",
   "execution_count": null,
   "id": "85679d06",
   "metadata": {},
   "outputs": [],
   "source": []
  },
  {
   "cell_type": "markdown",
   "id": "479279a0",
   "metadata": {},
   "source": [
    "### 10.1.9"
   ]
  },
  {
   "cell_type": "markdown",
   "id": "9d63c388",
   "metadata": {},
   "source": []
  },
  {
   "cell_type": "code",
   "execution_count": null,
   "id": "8e5ba0d4",
   "metadata": {},
   "outputs": [],
   "source": []
  },
  {
   "cell_type": "markdown",
   "id": "ed5ecfa6",
   "metadata": {},
   "source": [
    "### 10.2.1"
   ]
  },
  {
   "cell_type": "markdown",
   "id": "b3afa7e4",
   "metadata": {},
   "source": []
  },
  {
   "cell_type": "code",
   "execution_count": null,
   "id": "070b37c3",
   "metadata": {},
   "outputs": [],
   "source": []
  },
  {
   "cell_type": "markdown",
   "id": "237a63e0",
   "metadata": {},
   "source": [
    "### 10.2.2"
   ]
  },
  {
   "cell_type": "markdown",
   "id": "f745e356",
   "metadata": {},
   "source": []
  },
  {
   "cell_type": "code",
   "execution_count": null,
   "id": "db08cb67",
   "metadata": {},
   "outputs": [],
   "source": []
  },
  {
   "cell_type": "markdown",
   "id": "9b8ef128",
   "metadata": {},
   "source": [
    "### 10.2.3"
   ]
  },
  {
   "cell_type": "markdown",
   "id": "ece18773",
   "metadata": {},
   "source": []
  },
  {
   "cell_type": "code",
   "execution_count": null,
   "id": "c72d0565",
   "metadata": {},
   "outputs": [],
   "source": []
  },
  {
   "cell_type": "markdown",
   "id": "c7c0a8bd",
   "metadata": {},
   "source": [
    "### 10.2.4"
   ]
  },
  {
   "cell_type": "markdown",
   "id": "02ae850d",
   "metadata": {},
   "source": []
  },
  {
   "cell_type": "code",
   "execution_count": null,
   "id": "69fbab6a",
   "metadata": {},
   "outputs": [],
   "source": []
  },
  {
   "cell_type": "markdown",
   "id": "a1ed1e7d",
   "metadata": {},
   "source": [
    "### 10.2.5"
   ]
  },
  {
   "cell_type": "markdown",
   "id": "e7bdd7fa",
   "metadata": {},
   "source": []
  },
  {
   "cell_type": "code",
   "execution_count": null,
   "id": "1a047555",
   "metadata": {},
   "outputs": [],
   "source": []
  }
 ],
 "metadata": {
  "kernelspec": {
   "display_name": "Julia 1.8.5",
   "language": "julia",
   "name": "julia-1.8"
  },
  "language_info": {
   "file_extension": ".jl",
   "mimetype": "application/julia",
   "name": "julia",
   "version": "1.8.5"
  }
 },
 "nbformat": 4,
 "nbformat_minor": 5
}
