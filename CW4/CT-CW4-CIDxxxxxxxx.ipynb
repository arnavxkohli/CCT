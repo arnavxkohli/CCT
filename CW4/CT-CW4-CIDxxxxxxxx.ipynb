{
 "cells": [
  {
   "cell_type": "markdown",
   "id": "9fdea660",
   "metadata": {},
   "source": [
    "# Coursework 4 - Coding Theory\n",
    "\n",
    "### PLAGIARISM/COLLUSION DECLARATION\n",
    "\n",
    "Coursework submitted for assessment must be the original work of you and your group. Assignments are subjected to regular checks for plagiarism and/or collusion. Plagiarism is the presentation of another person’s thoughts or words (those outside your group) as if they were your own. Collusion involves obtaining help from someone outside your group to complete your work. In preparing your coursework, you should not seek help, or copy from any other person or source, including the\n",
    "Internet, without proper and explicit acknowledgement.\n",
    "\n",
    "There is a procedure in place for you to declare individual contributions within your group for courswork. You must declare the contributions fairly and accurately.\n",
    "\n",
    "You must not disclose your solutions or insights related to coursework with anyone else, including future students or the Internet.\n",
    "\n",
    "By acknowledging the the statements above, you are declaring that both this and all subsequent pieces of coursework are, and will remain, the original work of you and your group. \n",
    "\n",
    "* Submissions will not be accepted without the aforementioned declaration.\n",
    "\n",
    "* Members of a group are deemed to have collective responsibility for the integrity for work submitted and are liable for any penalty imposed, proportionate to their contributions. \n",
    "\n"
   ]
  },
  {
   "cell_type": "code",
   "execution_count": 39,
   "id": "0a4e08f9",
   "metadata": {},
   "outputs": [],
   "source": [
    "using FileIO, JLD2"
   ]
  },
  {
   "cell_type": "code",
   "execution_count": 40,
   "id": "c07e984b",
   "metadata": {},
   "outputs": [
    {
     "data": {
      "text/plain": [
       "CourseWork_4"
      ]
     },
     "metadata": {},
     "output_type": "display_data"
    }
   ],
   "source": [
    "Base.@kwdef mutable struct CourseWork_4\n",
    "    CID::Int\n",
    "    Plagiarism_declare::Union{Missing,Bool}\n",
    "    Demo_willing::Union{Missing,Bool}\n",
    "\n",
    "    Q10_1_data_p :: Int64\n",
    "    Q10_1_data_a :: Int64\n",
    "    Q10_1_data_d_1 :: Int64\n",
    "    Q10_1_data_d_2 :: Int64\n",
    "\n",
    "    Q10_1_1_ans_G :: Union{Missing, Matrix{Int64}}\n",
    "    Q10_1_1_ans_H :: Union{Missing, Matrix{Int64}}\n",
    "\n",
    "    Q10_1_2_ans_G :: Union{Missing, Matrix{Int64}}\n",
    "    Q10_1_2_ans_H :: Union{Missing, Matrix{Int64}}\n",
    "\n",
    "    Q10_1_3_ans_G :: Union{Missing, Matrix{Int64}}\n",
    "    Q10_1_3_ans_H :: Union{Missing, Matrix{Int64}}\n",
    "\n",
    "    Q10_1_4_ans_G :: Union{Missing, Matrix{Int64}}\n",
    "    Q10_1_4_ans_H :: Union{Missing, Matrix{Int64}}\n",
    "\n",
    "    Q10_1_5_ans_G :: Union{Missing, Matrix{Int64}}\n",
    "    Q10_1_5_ans_H :: Union{Missing, Matrix{Int64}}\n",
    "\n",
    "    Q10_1_6_ans_G :: Union{Missing, Matrix{Int64}}\n",
    "    Q10_1_6_ans_H :: Union{Missing, Matrix{Int64}}\n",
    "\n",
    "    Q10_1_7_ans_G :: Union{Missing, Matrix{Int64}}\n",
    "    Q10_1_7_ans_H :: Union{Missing, Matrix{Int64}}\n",
    "\n",
    "    Q10_1_8_ans_G :: Union{Missing, Matrix{Int64}}\n",
    "    Q10_1_8_ans_H :: Union{Missing, Matrix{Int64}}\n",
    "\n",
    "    Q10_1_9_data_y :: Vector{String}\n",
    "    Q10_1_9_ans_m :: Union{Missing, Vector{Int64}}\n",
    "\n",
    "\n",
    "    Q10_2_data_polynomial::Vector{Int}\n",
    "    Q10_2_data_primitive_el::Vector{Int}\n",
    "    Q10_2_1_ans_G::Union{Missing, Vector{ Vector{Int} }}\n",
    "    Q10_2_1_ans_H::Union{Missing, Vector{ Vector{Int} }}\n",
    "    Q10_2_2_data_y::Vector{ Vector{Int} }\n",
    "    Q10_2_2_ans_syndrome_vector::Union{Missing, Vector{ Vector{Int} }}\n",
    "    Q10_2_2_ans_syndrome_poly::Union{Missing,  Vector{ Vector{Int} }}\n",
    "    Q10_2_3_ans_error_locator_poly::Union{Missing, Vector{ Vector{Int} }}\n",
    "    Q10_2_3_ans_error_evaluator_poly::Union{Missing, Vector{ Vector{Int} }}\n",
    "    Q10_2_4_ans_error_locations::Union{Missing, Vector{Int}}\n",
    "    Q10_2_4_ans_error_vector::Union{Missing, Vector{ Vector{Int} }}\n",
    "    Q10_2_4_ans_transmt_cdword::Union{Missing, Vector{ Vector{Int} }}\n",
    "    Q10_2_5_ans_message::Union{Missing, Vector{ Vector{Int} }}\n",
    "\n",
    "end"
   ]
  },
  {
   "cell_type": "code",
   "execution_count": 41,
   "id": "052f7342",
   "metadata": {},
   "outputs": [],
   "source": [
    "data_file = \"Arnav 2018546StudentFile.jld2\"\n",
    "\n",
    "answer = JLD2.load(data_file);\n",
    "answer = answer[ \"CourseWork_4\" ];\n",
    "answer.Demo_willing = true;\n",
    "answer.Plagiarism_declare = true;"
   ]
  },
  {
   "cell_type": "markdown",
   "id": "f4ea51c4",
   "metadata": {},
   "source": [
    "### 10.1.1"
   ]
  },
  {
   "cell_type": "markdown",
   "id": "e821312b",
   "metadata": {},
   "source": []
  },
  {
   "cell_type": "code",
   "execution_count": 42,
   "id": "c48ee354",
   "metadata": {},
   "outputs": [
    {
     "name": "stdout",
     "output_type": "stream",
     "text": [
      "Generator Matrix (G): FqFieldElem[1 1 1 1 1 1 1 1 1 1 1 1 1 1 1 1 1 1 1 1 1 1 1 1 1 1 1 1 1 1 1 1 1 1 1 1; 1 32 25 23 33 20 11 19 16 31 30 35 10 24 28 8 34 15 36 5 12 14 4 17 26 18 21 6 7 2 27 13 9 29 3 22; 1 25 33 11 16 30 10 28 34 36 12 4 26 21 7 27 9 3 1 25 33 11 16 30 10 28 34 36 12 4 26 21 7 27 9 3; 1 23 11 31 10 8 36 14 26 6 27 29 1 23 11 31 10 8 36 14 26 6 27 29 1 23 11 31 10 8 36 14 26 6 27 29; 1 33 16 10 34 12 26 7 9 1 33 16 10 34 12 26 7 9 1 33 16 10 34 12 26 7 9 1 33 16 10 34 12 26 7 9; 1 20 30 8 12 18 27 22 33 31 28 5 26 2 3 23 16 24 36 17 7 29 25 19 10 15 4 6 9 32 11 35 34 14 21 13; 1 11 10 36 26 27 1 11 10 36 26 27 1 11 10 36 26 27 1 11 10 36 26 27 1 11 10 36 26 27 1 11 10 36 26 27; 1 19 28 14 7 22 11 24 12 6 3 20 10 5 21 29 33 35 36 18 9 23 30 15 26 13 25 31 34 17 27 32 16 8 4 2; 1 16 34 26 9 33 10 12 7 1 16 34 26 9 33 10 12 7 1 16 34 26 9 33 10 12 7 1 16 34 26 9 33 10 12 7; 1 31 36 6 1 31 36 6 1 31 36 6 1 31 36 6 1 31 36 6 1 31 36 6 1 31 36 6 1 31 36 6 1 31 36 6; 1 30 12 27 33 28 26 3 16 36 7 25 10 4 9 11 34 21 1 30 12 27 33 28 26 3 16 36 7 25 10 4 9 11 34 21; 1 35 4 29 16 5 27 20 34 6 25 24 26 22 30 14 9 19 36 2 33 8 21 32 10 17 3 31 12 13 11 15 7 23 28 18; 1 10 26 1 10 26 1 10 26 1 10 26 1 10 26 1 10 26 1 10 26 1 10 26 1 10 26 1 10 26 1 10 26 1 10 26; 1 24 21 23 34 2 11 5 9 31 4 22 10 18 25 8 7 20 36 13 16 14 3 35 26 32 28 6 33 15 27 19 12 29 30 17; 1 28 7 11 12 3 10 21 33 36 9 30 26 25 34 27 16 4 1 28 7 11 12 3 10 21 33 36 9 30 26 25 34 27 16 4; 1 8 27 31 26 23 36 29 10 6 11 14 1 8 27 31 26 23 36 29 10 6 11 14 1 8 27 31 26 23 36 29 10 6 11 14; 1 34 9 10 7 16 26 33 12 1 34 9 10 7 16 26 33 12 1 34 9 10 7 16 26 33 12 1 34 9 10 7 16 26 33 12; 1 15 3 8 9 24 27 35 7 31 21 19 26 20 4 23 12 32 36 22 34 29 28 13 10 2 30 6 16 18 11 17 33 14 25 5; 1 36 1 36 1 36 1 36 1 36 1 36 1 36 1 36 1 36 1 36 1 36 1 36 1 36 1 36 1 36 1 36 1 36 1 36; 1 5 25 14 33 17 11 18 16 6 30 2 10 13 28 29 34 22 36 32 12 23 4 20 26 19 21 31 7 35 27 24 9 8 3 15; 1 12 33 26 16 7 10 9 34 1 12 33 26 16 7 10 9 34 1 12 33 26 16 7 10 9 34 1 12 33 26 16 7 10 9 34; 1 14 11 6 10 29 36 23 26 31 27 8 1 14 11 6 10 29 36 23 26 31 27 8 1 14 11 6 10 29 36 23 26 31 27 8; 1 4 16 27 34 25 26 30 9 36 33 21 10 3 12 11 7 28 1 4 16 27 34 25 26 30 9 36 33 21 10 3 12 11 7 28; 1 17 30 29 12 19 27 15 33 6 28 32 26 35 3 14 16 13 36 20 7 8 25 18 10 22 4 31 9 5 11 2 34 23 21 24; 1 26 10 1 26 10 1 26 10 1 26 10 1 26 10 1 26 10 1 26 10 1 26 10 1 26 10 1 26 10 1 26 10 1 26 10; 1 18 28 23 7 15 11 13 12 31 3 17 10 32 21 8 33 2 36 19 9 14 30 22 26 24 25 6 34 20 27 5 16 29 4 35; 1 21 34 11 9 4 10 25 7 36 16 3 26 28 33 27 12 30 1 21 34 11 9 4 10 25 7 36 16 3 26 28 33 27 12 30; 1 6 36 31 1 6 36 31 1 6 36 31 1 6 36 31 1 6 36 31 1 6 36 31 1 6 36 31 1 6 36 31 1 6 36 31; 1 7 12 10 33 9 26 34 16 1 7 12 10 33 9 26 34 16 1 7 12 10 33 9 26 34 16 1 7 12 10 33 9 26 34 16; 1 2 4 8 16 32 27 17 34 31 25 13 26 15 30 23 9 18 36 35 33 29 21 5 10 20 3 6 12 24 11 22 7 14 28 19]\n",
      "\n",
      "Parity-Check Matrix (H): FqFieldElem[1 32 25 23 33 20 11 19 16 31 30 35 10 24 28 8 34 15 36 5 12 14 4 17 26 18 21 6 7 2 27 13 9 29 3 22; 1 25 33 11 16 30 10 28 34 36 12 4 26 21 7 27 9 3 1 25 33 11 16 30 10 28 34 36 12 4 26 21 7 27 9 3; 1 23 11 31 10 8 36 14 26 6 27 29 1 23 11 31 10 8 36 14 26 6 27 29 1 23 11 31 10 8 36 14 26 6 27 29; 1 33 16 10 34 12 26 7 9 1 33 16 10 34 12 26 7 9 1 33 16 10 34 12 26 7 9 1 33 16 10 34 12 26 7 9; 1 20 30 8 12 18 27 22 33 31 28 5 26 2 3 23 16 24 36 17 7 29 25 19 10 15 4 6 9 32 11 35 34 14 21 13; 1 11 10 36 26 27 1 11 10 36 26 27 1 11 10 36 26 27 1 11 10 36 26 27 1 11 10 36 26 27 1 11 10 36 26 27]\n",
      "\n",
      "Is G * H^T the zero matrix? true\n"
     ]
    },
    {
     "data": {
      "text/plain": [
       "Matrix{FqFieldElem}\u001b[90m (alias for \u001b[39m\u001b[90mArray{FqFieldElem, 2}\u001b[39m\u001b[90m)\u001b[39m"
      ]
     },
     "metadata": {},
     "output_type": "display_data"
    }
   ],
   "source": [
    "# Q10_1_data_p :: Int64\n",
    "# Q10_1_data_a :: Int64\n",
    "# Q10_1_data_d_1 :: Int64\n",
    "# Q10_1_data_d_2 :: Int64\n",
    "\n",
    "answer.Q10_1_data_p, answer.Q10_1_data_a, answer.Q10_1_data_d_1, answer.Q10_1_data_d_2\n",
    "\n",
    "\n",
    "using Nemo\n",
    "\n",
    "# Function to generate Reed-Solomon Generator and Parity-Check matrices\n",
    "function generate_rs_matrices(p::Int, d::Int, alpha_value::Int)\n",
    "    n = p - 1                      # Code length (for RS codes over GF(p))\n",
    "    k = n - d + 1                  # Dimension from minimum distance d\n",
    "    \n",
    "    # Create the finite field GF(p)\n",
    "    F = GF(p) # Create the finite field GF(p)\n",
    "    \n",
    "    # Set α to the given value (32 in this case)\n",
    "    a = F(alpha_value)             # Set α = 32\n",
    "    \n",
    "    # Generate powers of α (α^0, α^1, ..., α^(n-1))\n",
    "    a_powers = [a^i for i in 0:(n-1)]\n",
    "    \n",
    "    # Construct the Generator Matrix G (k × n)\n",
    "    G = zeros(F, k, n)            # Initialize k × n matrix over F\n",
    "    for row in 0:(k-1)\n",
    "        for col in 1:n\n",
    "            G[row+1, col] = a_powers[col]^row\n",
    "        end\n",
    "    end\n",
    "    \n",
    "    # Construct the Parity-Check Matrix H ((n-k) × n)\n",
    "    H = zeros(F, n-k, n)          # Initialize (n-k) × n matrix over F\n",
    "    for row in 1:(n-k)\n",
    "        for col in 1:n\n",
    "            H[row, col] = a_powers[col]^row\n",
    "        end\n",
    "    end\n",
    "    \n",
    "    return G, H\n",
    "end\n",
    "\n",
    "# Example call:\n",
    "p = 37        # Field characteristic\n",
    "d1 = 7        # Minimum distance\n",
    "alpha_value = 32  # Primitive element α = 32 in GF(37)\n",
    "G1, H1 = generate_rs_matrices(p, d1, alpha_value)\n",
    "\n",
    "# Display results\n",
    "println(\"Generator Matrix (G): $G1\")\n",
    "\n",
    "println(\"\\nParity-Check Matrix (H): $H1\")\n",
    "\n",
    "function check_orthogonality(G, H)\n",
    "    \n",
    "    # Compute G * H^T\n",
    "    result = G * transpose(H)\n",
    "    \n",
    "    # Check if the result is the zero matrix\n",
    "    return all(result .== 0)  # Return true if all elements are zero\n",
    "end\n",
    "\n",
    "is_zero_matrix = check_orthogonality(G1, H1)\n",
    "println(\"\\nIs G * H^T the zero matrix? \", is_zero_matrix)\n",
    "\n",
    "result = G1 * transpose(H1)\n",
    "\n",
    "typeof(G1)"
   ]
  },
  {
   "cell_type": "markdown",
   "id": "36979a01",
   "metadata": {},
   "source": [
    "### 10.1.2"
   ]
  },
  {
   "cell_type": "markdown",
   "id": "72fdcabc",
   "metadata": {},
   "source": []
  },
  {
   "cell_type": "code",
   "execution_count": 43,
   "id": "62e33492",
   "metadata": {},
   "outputs": [
    {
     "name": "stdout",
     "output_type": "stream",
     "text": [
      "Generator Matrix (G): FqFieldElem[1 1 1 1 1 1 1 1 1 1 1 1 1 1 1 1 1 1 1 1 1 1 1 1 1 1 1 1 1 1 1 1 1 1 1 1; 1 32 25 23 33 20 11 19 16 31 30 35 10 24 28 8 34 15 36 5 12 14 4 17 26 18 21 6 7 2 27 13 9 29 3 22; 1 25 33 11 16 30 10 28 34 36 12 4 26 21 7 27 9 3 1 25 33 11 16 30 10 28 34 36 12 4 26 21 7 27 9 3; 1 23 11 31 10 8 36 14 26 6 27 29 1 23 11 31 10 8 36 14 26 6 27 29 1 23 11 31 10 8 36 14 26 6 27 29; 1 33 16 10 34 12 26 7 9 1 33 16 10 34 12 26 7 9 1 33 16 10 34 12 26 7 9 1 33 16 10 34 12 26 7 9; 1 20 30 8 12 18 27 22 33 31 28 5 26 2 3 23 16 24 36 17 7 29 25 19 10 15 4 6 9 32 11 35 34 14 21 13; 1 11 10 36 26 27 1 11 10 36 26 27 1 11 10 36 26 27 1 11 10 36 26 27 1 11 10 36 26 27 1 11 10 36 26 27; 1 19 28 14 7 22 11 24 12 6 3 20 10 5 21 29 33 35 36 18 9 23 30 15 26 13 25 31 34 17 27 32 16 8 4 2; 1 16 34 26 9 33 10 12 7 1 16 34 26 9 33 10 12 7 1 16 34 26 9 33 10 12 7 1 16 34 26 9 33 10 12 7; 1 31 36 6 1 31 36 6 1 31 36 6 1 31 36 6 1 31 36 6 1 31 36 6 1 31 36 6 1 31 36 6 1 31 36 6; 1 30 12 27 33 28 26 3 16 36 7 25 10 4 9 11 34 21 1 30 12 27 33 28 26 3 16 36 7 25 10 4 9 11 34 21; 1 35 4 29 16 5 27 20 34 6 25 24 26 22 30 14 9 19 36 2 33 8 21 32 10 17 3 31 12 13 11 15 7 23 28 18; 1 10 26 1 10 26 1 10 26 1 10 26 1 10 26 1 10 26 1 10 26 1 10 26 1 10 26 1 10 26 1 10 26 1 10 26; 1 24 21 23 34 2 11 5 9 31 4 22 10 18 25 8 7 20 36 13 16 14 3 35 26 32 28 6 33 15 27 19 12 29 30 17; 1 28 7 11 12 3 10 21 33 36 9 30 26 25 34 27 16 4 1 28 7 11 12 3 10 21 33 36 9 30 26 25 34 27 16 4; 1 8 27 31 26 23 36 29 10 6 11 14 1 8 27 31 26 23 36 29 10 6 11 14 1 8 27 31 26 23 36 29 10 6 11 14; 1 34 9 10 7 16 26 33 12 1 34 9 10 7 16 26 33 12 1 34 9 10 7 16 26 33 12 1 34 9 10 7 16 26 33 12; 1 15 3 8 9 24 27 35 7 31 21 19 26 20 4 23 12 32 36 22 34 29 28 13 10 2 30 6 16 18 11 17 33 14 25 5; 1 36 1 36 1 36 1 36 1 36 1 36 1 36 1 36 1 36 1 36 1 36 1 36 1 36 1 36 1 36 1 36 1 36 1 36; 1 5 25 14 33 17 11 18 16 6 30 2 10 13 28 29 34 22 36 32 12 23 4 20 26 19 21 31 7 35 27 24 9 8 3 15; 1 12 33 26 16 7 10 9 34 1 12 33 26 16 7 10 9 34 1 12 33 26 16 7 10 9 34 1 12 33 26 16 7 10 9 34; 1 14 11 6 10 29 36 23 26 31 27 8 1 14 11 6 10 29 36 23 26 31 27 8 1 14 11 6 10 29 36 23 26 31 27 8; 1 4 16 27 34 25 26 30 9 36 33 21 10 3 12 11 7 28 1 4 16 27 34 25 26 30 9 36 33 21 10 3 12 11 7 28; 1 17 30 29 12 19 27 15 33 6 28 32 26 35 3 14 16 13 36 20 7 8 25 18 10 22 4 31 9 5 11 2 34 23 21 24; 1 26 10 1 26 10 1 26 10 1 26 10 1 26 10 1 26 10 1 26 10 1 26 10 1 26 10 1 26 10 1 26 10 1 26 10; 1 18 28 23 7 15 11 13 12 31 3 17 10 32 21 8 33 2 36 19 9 14 30 22 26 24 25 6 34 20 27 5 16 29 4 35]\n",
      "\n",
      "Parity-Check Matrix (H): FqFieldElem[1 32 25 23 33 20 11 19 16 31 30 35 10 24 28 8 34 15 36 5 12 14 4 17 26 18 21 6 7 2 27 13 9 29 3 22; 1 25 33 11 16 30 10 28 34 36 12 4 26 21 7 27 9 3 1 25 33 11 16 30 10 28 34 36 12 4 26 21 7 27 9 3; 1 23 11 31 10 8 36 14 26 6 27 29 1 23 11 31 10 8 36 14 26 6 27 29 1 23 11 31 10 8 36 14 26 6 27 29; 1 33 16 10 34 12 26 7 9 1 33 16 10 34 12 26 7 9 1 33 16 10 34 12 26 7 9 1 33 16 10 34 12 26 7 9; 1 20 30 8 12 18 27 22 33 31 28 5 26 2 3 23 16 24 36 17 7 29 25 19 10 15 4 6 9 32 11 35 34 14 21 13; 1 11 10 36 26 27 1 11 10 36 26 27 1 11 10 36 26 27 1 11 10 36 26 27 1 11 10 36 26 27 1 11 10 36 26 27; 1 19 28 14 7 22 11 24 12 6 3 20 10 5 21 29 33 35 36 18 9 23 30 15 26 13 25 31 34 17 27 32 16 8 4 2; 1 16 34 26 9 33 10 12 7 1 16 34 26 9 33 10 12 7 1 16 34 26 9 33 10 12 7 1 16 34 26 9 33 10 12 7; 1 31 36 6 1 31 36 6 1 31 36 6 1 31 36 6 1 31 36 6 1 31 36 6 1 31 36 6 1 31 36 6 1 31 36 6; 1 30 12 27 33 28 26 3 16 36 7 25 10 4 9 11 34 21 1 30 12 27 33 28 26 3 16 36 7 25 10 4 9 11 34 21]\n",
      "\n",
      "Is G * H^T the zero matrix? true\n"
     ]
    },
    {
     "data": {
      "text/plain": [
       "30×36 Matrix{FqFieldElem}:\n",
       " 1  1   1   1   1   1   1   1   1   1   …  1   1   1   1   1   1   1   1   1\n",
       " 1  32  25  23  33  20  11  19  16  31     6   7   2   27  13  9   29  3   22\n",
       " 1  25  33  11  16  30  10  28  34  36     36  12  4   26  21  7   27  9   3\n",
       " 1  23  11  31  10  8   36  14  26  6      31  10  8   36  14  26  6   27  29\n",
       " 1  33  16  10  34  12  26  7   9   1      1   33  16  10  34  12  26  7   9\n",
       " 1  20  30  8   12  18  27  22  33  31  …  6   9   32  11  35  34  14  21  13\n",
       " 1  11  10  36  26  27  1   11  10  36     36  26  27  1   11  10  36  26  27\n",
       " 1  19  28  14  7   22  11  24  12  6      31  34  17  27  32  16  8   4   2\n",
       " 1  16  34  26  9   33  10  12  7   1      1   16  34  26  9   33  10  12  7\n",
       " 1  31  36  6   1   31  36  6   1   31     6   1   31  36  6   1   31  36  6\n",
       " ⋮                  ⋮                   ⋱              ⋮                   ⋮\n",
       " 1  14  11  6   10  29  36  23  26  31     6   10  29  36  23  26  31  27  8\n",
       " 1  4   16  27  34  25  26  30  9   36     36  33  21  10  3   12  11  7   28\n",
       " 1  17  30  29  12  19  27  15  33  6      31  9   5   11  2   34  23  21  24\n",
       " 1  26  10  1   26  10  1   26  10  1      1   26  10  1   26  10  1   26  10\n",
       " 1  18  28  23  7   15  11  13  12  31  …  6   34  20  27  5   16  29  4   35\n",
       " 1  21  34  11  9   4   10  25  7   36     36  16  3   26  28  33  27  12  30\n",
       " 1  6   36  31  1   6   36  31  1   6      31  1   6   36  31  1   6   36  31\n",
       " 1  7   12  10  33  9   26  34  16  1      1   7   12  10  33  9   26  34  16\n",
       " 1  2   4   8   16  32  27  17  34  31     6   12  24  11  22  7   14  28  19"
      ]
     },
     "metadata": {},
     "output_type": "display_data"
    }
   ],
   "source": [
    "d2 = 11\n",
    "\n",
    "G2, H2 = generate_rs_matrices(p, d2, alpha_value)\n",
    "\n",
    "# Display results\n",
    "println(\"Generator Matrix (G): $G2\")\n",
    "\n",
    "println(\"\\nParity-Check Matrix (H): $H2\")\n",
    "\n",
    "is_zero_matrix = check_orthogonality(G2, H2)\n",
    "println(\"\\nIs G * H^T the zero matrix? \", is_zero_matrix)\n",
    "\n",
    "result = G2 * transpose(H2)\n",
    "\n",
    "G1"
   ]
  },
  {
   "cell_type": "markdown",
   "id": "02098d20",
   "metadata": {},
   "source": [
    "### 10.1.3"
   ]
  },
  {
   "cell_type": "markdown",
   "id": "a6744b20",
   "metadata": {},
   "source": [
    "- C1 = [36, 30, 7]\n",
    "- C2 = [36, 26, 11]\n",
    "\n",
    "- C1 contains all the codewords of C2, as they share the same n.\n",
    "- Thus, C1 U C2 is the same as C1.\n",
    "- C3 = C1 = [36, 30, 7]"
   ]
  },
  {
   "cell_type": "code",
   "execution_count": 44,
   "id": "2be23b34",
   "metadata": {},
   "outputs": [
    {
     "data": {
      "text/plain": [
       "(FqFieldElem[1 1 … 1 1; 1 32 … 3 22; … ; 1 7 … 34 16; 1 2 … 28 19], FqFieldElem[1 32 … 3 22; 1 25 … 9 3; … ; 1 20 … 21 13; 1 11 … 26 27])"
      ]
     },
     "metadata": {},
     "output_type": "display_data"
    }
   ],
   "source": [
    "G3, H3 = generate_rs_matrices(p, d1, alpha_value)"
   ]
  },
  {
   "cell_type": "markdown",
   "id": "e35d87f9",
   "metadata": {},
   "source": [
    "### 10.1.4"
   ]
  },
  {
   "cell_type": "markdown",
   "id": "07ef20a4",
   "metadata": {},
   "source": [
    "- C4 = C1 n C2\n",
    "- All codewords of C2 present in C1\n",
    "- Intersect of both is the codewords of C2\n",
    "- Therefore, C4 = C2 = [36, 26, 11]"
   ]
  },
  {
   "cell_type": "code",
   "execution_count": 45,
   "id": "49dc6a0a",
   "metadata": {},
   "outputs": [
    {
     "data": {
      "text/plain": [
       "(FqFieldElem[1 1 … 1 1; 1 32 … 3 22; … ; 1 26 … 26 10; 1 18 … 4 35], FqFieldElem[1 32 … 3 22; 1 25 … 9 3; … ; 1 31 … 36 6; 1 30 … 34 21])"
      ]
     },
     "metadata": {},
     "output_type": "display_data"
    }
   ],
   "source": [
    "G4, H4 = generate_rs_matrices(p, d2, alpha_value)"
   ]
  },
  {
   "cell_type": "markdown",
   "id": "d5552dce",
   "metadata": {},
   "source": [
    "### 10.1.5"
   ]
  },
  {
   "cell_type": "markdown",
   "id": "a0ff02dd",
   "metadata": {},
   "source": [
    "- Every codeword of C2 also in C1.\n",
    "- Adding any codeword from C2 to anothe codeword in C1 will result in codeword in C1, due to the linearity of RS codes.\n",
    "- C5 = C1 = [36, 30, 7]"
   ]
  },
  {
   "cell_type": "code",
   "execution_count": 46,
   "id": "be00fdcc",
   "metadata": {},
   "outputs": [
    {
     "data": {
      "text/plain": [
       "(FqFieldElem[1 1 … 1 1; 1 32 … 3 22; … ; 1 7 … 34 16; 1 2 … 28 19], FqFieldElem[1 32 … 3 22; 1 25 … 9 3; … ; 1 20 … 21 13; 1 11 … 26 27])"
      ]
     },
     "metadata": {},
     "output_type": "display_data"
    }
   ],
   "source": [
    "G5, H5 = generate_rs_matrices(p, d1, alpha_value)"
   ]
  },
  {
   "cell_type": "markdown",
   "id": "54eb6d43",
   "metadata": {},
   "source": [
    "### 10.1.6"
   ]
  },
  {
   "cell_type": "markdown",
   "id": "265ec9be",
   "metadata": {},
   "source": []
  },
  {
   "cell_type": "code",
   "execution_count": 47,
   "id": "e69c210b",
   "metadata": {},
   "outputs": [],
   "source": []
  },
  {
   "cell_type": "markdown",
   "id": "e77e53d1",
   "metadata": {},
   "source": [
    "### 10.1.7"
   ]
  },
  {
   "cell_type": "markdown",
   "id": "82016d34",
   "metadata": {},
   "source": []
  },
  {
   "cell_type": "code",
   "execution_count": 48,
   "id": "693d4931",
   "metadata": {},
   "outputs": [],
   "source": []
  },
  {
   "cell_type": "markdown",
   "id": "241a3beb",
   "metadata": {},
   "source": [
    "### 10.1.8"
   ]
  },
  {
   "cell_type": "markdown",
   "id": "6ece2791",
   "metadata": {},
   "source": []
  },
  {
   "cell_type": "code",
   "execution_count": 49,
   "id": "85679d06",
   "metadata": {},
   "outputs": [],
   "source": []
  },
  {
   "cell_type": "markdown",
   "id": "479279a0",
   "metadata": {},
   "source": [
    "### 10.1.9"
   ]
  },
  {
   "cell_type": "markdown",
   "id": "9d63c388",
   "metadata": {},
   "source": []
  },
  {
   "cell_type": "code",
   "execution_count": 50,
   "id": "8e5ba0d4",
   "metadata": {},
   "outputs": [],
   "source": []
  },
  {
   "cell_type": "markdown",
   "id": "ed5ecfa6",
   "metadata": {},
   "source": [
    "### 10.2.1"
   ]
  },
  {
   "cell_type": "markdown",
   "id": "b3afa7e4",
   "metadata": {},
   "source": []
  },
  {
   "cell_type": "code",
   "execution_count": 51,
   "id": "070b37c3",
   "metadata": {},
   "outputs": [],
   "source": []
  },
  {
   "cell_type": "markdown",
   "id": "237a63e0",
   "metadata": {},
   "source": [
    "### 10.2.2"
   ]
  },
  {
   "cell_type": "markdown",
   "id": "f745e356",
   "metadata": {},
   "source": []
  },
  {
   "cell_type": "code",
   "execution_count": 52,
   "id": "db08cb67",
   "metadata": {},
   "outputs": [],
   "source": []
  },
  {
   "cell_type": "markdown",
   "id": "9b8ef128",
   "metadata": {},
   "source": [
    "### 10.2.3"
   ]
  },
  {
   "cell_type": "markdown",
   "id": "ece18773",
   "metadata": {},
   "source": []
  },
  {
   "cell_type": "code",
   "execution_count": 53,
   "id": "c72d0565",
   "metadata": {},
   "outputs": [],
   "source": []
  },
  {
   "cell_type": "markdown",
   "id": "c7c0a8bd",
   "metadata": {},
   "source": [
    "### 10.2.4"
   ]
  },
  {
   "cell_type": "markdown",
   "id": "02ae850d",
   "metadata": {},
   "source": []
  },
  {
   "cell_type": "code",
   "execution_count": 54,
   "id": "69fbab6a",
   "metadata": {},
   "outputs": [],
   "source": []
  },
  {
   "cell_type": "markdown",
   "id": "a1ed1e7d",
   "metadata": {},
   "source": [
    "### 10.2.5"
   ]
  },
  {
   "cell_type": "markdown",
   "id": "e7bdd7fa",
   "metadata": {},
   "source": []
  },
  {
   "cell_type": "code",
   "execution_count": 55,
   "id": "1a047555",
   "metadata": {},
   "outputs": [],
   "source": []
  },
  {
   "cell_type": "markdown",
   "id": "380b37b2",
   "metadata": {},
   "source": [
    "### Write Back to Struct"
   ]
  },
  {
   "cell_type": "code",
   "execution_count": 56,
   "id": "b387d981",
   "metadata": {},
   "outputs": [],
   "source": [
    "jldopen(data_file, \"w\") do file\n",
    "    write(file, \"CourseWork_4\", answer)\n",
    "end"
   ]
  },
  {
   "cell_type": "markdown",
   "id": "8824e739",
   "metadata": {},
   "source": [
    "### Sanity Check"
   ]
  },
  {
   "cell_type": "code",
   "execution_count": 57,
   "id": "8214346d",
   "metadata": {},
   "outputs": [
    {
     "data": {
      "text/plain": [
       "CourseWork_4(2018546, true, true, 31, 11, 8, 9, missing, missing, missing, missing, missing, missing, missing, missing, missing, missing, missing, missing, missing, missing, missing, missing, [\"24\", \"14\", \"19\", \"12\", \"2\", \"?\", \"20\", \"1\", \"23\", \"18\"  …  \"24\", \"?\", \"6\", \"?\", \"?\", \"5\", \"6\", \"16\", \"20\", \"?\"], missing, [1, 1, 1, 1, 0, 1], [0, 1, 1, 0, 1], missing, missing, [[1, 0, 1, 1], [0, 0, 0, 1, 1], [0, 0, 1, 1, 1], [0, 1, 1], [1, 0, 0, 0, 1], [0, 1, 1, 1], [1, 0, 1, 1], [0, 0, 1, 0, 1], [0, 0, 1, 0, 1], [0, 1, 0, 0, 1]  …  [1, 0, 1], [0, 1, 1, 1, 1], [1, 0, 1], [0, 1, 0, 1, 1], [0, 1, 1, 1], [1, 1, 1], [1, 0, 1, 1], [1, 1, 1, 1, 1], [1, 0, 0, 0, 1], [0, 1, 1, 1, 1]], missing, missing, missing, missing, missing, missing, missing, missing)"
      ]
     },
     "metadata": {},
     "output_type": "display_data"
    }
   ],
   "source": [
    "answer"
   ]
  }
 ],
 "metadata": {
  "kernelspec": {
   "display_name": "Julia 1.11.1",
   "language": "julia",
   "name": "julia-1.11"
  },
  "language_info": {
   "file_extension": ".jl",
   "mimetype": "application/julia",
   "name": "julia",
   "version": "1.11.1"
  }
 },
 "nbformat": 4,
 "nbformat_minor": 5
}
