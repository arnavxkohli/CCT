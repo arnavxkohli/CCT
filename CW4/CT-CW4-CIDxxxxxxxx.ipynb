{
 "cells": [
  {
   "cell_type": "markdown",
   "id": "9fdea660",
   "metadata": {},
   "source": [
    "# Coursework 4 - Coding Theory\n",
    "\n",
    "### PLAGIARISM/COLLUSION DECLARATION\n",
    "\n",
    "Coursework submitted for assessment must be the original work of you and your group. Assignments are subjected to regular checks for plagiarism and/or collusion. Plagiarism is the presentation of another person’s thoughts or words (those outside your group) as if they were your own. Collusion involves obtaining help from someone outside your group to complete your work. In preparing your coursework, you should not seek help, or copy from any other person or source, including the\n",
    "Internet, without proper and explicit acknowledgement.\n",
    "\n",
    "There is a procedure in place for you to declare individual contributions within your group for courswork. You must declare the contributions fairly and accurately.\n",
    "\n",
    "You must not disclose your solutions or insights related to coursework with anyone else, including future students or the Internet.\n",
    "\n",
    "By acknowledging the the statements above, you are declaring that both this and all subsequent pieces of coursework are, and will remain, the original work of you and your group. \n",
    "\n",
    "* Submissions will not be accepted without the aforementioned declaration.\n",
    "\n",
    "* Members of a group are deemed to have collective responsibility for the integrity for work submitted and are liable for any penalty imposed, proportionate to their contributions. \n",
    "\n"
   ]
  },
  {
   "cell_type": "code",
   "execution_count": null,
   "id": "0a4e08f9",
   "metadata": {},
   "outputs": [],
   "source": [
    "using FileIO, JLD2, Nemo"
   ]
  },
  {
   "cell_type": "code",
   "execution_count": null,
   "id": "c07e984b",
   "metadata": {},
   "outputs": [],
   "source": [
    "Base.@kwdef mutable struct CourseWork_4\n",
    "    CID::Int\n",
    "    Plagiarism_declare::Union{Missing,Bool}\n",
    "    Demo_willing::Union{Missing,Bool}\n",
    "\n",
    "    Q10_1_data_p :: Int64\n",
    "    Q10_1_data_a :: Int64\n",
    "    Q10_1_data_d_1 :: Int64\n",
    "    Q10_1_data_d_2 :: Int64\n",
    "\n",
    "    Q10_1_1_ans_G :: Union{Missing, Matrix{Int64}}\n",
    "    Q10_1_1_ans_H :: Union{Missing, Matrix{Int64}}\n",
    "\n",
    "    Q10_1_2_ans_G :: Union{Missing, Matrix{Int64}}\n",
    "    Q10_1_2_ans_H :: Union{Missing, Matrix{Int64}}\n",
    "\n",
    "    Q10_1_3_ans_G :: Union{Missing, Matrix{Int64}}\n",
    "    Q10_1_3_ans_H :: Union{Missing, Matrix{Int64}}\n",
    "\n",
    "    Q10_1_4_ans_G :: Union{Missing, Matrix{Int64}}\n",
    "    Q10_1_4_ans_H :: Union{Missing, Matrix{Int64}}\n",
    "\n",
    "    Q10_1_5_ans_G :: Union{Missing, Matrix{Int64}}\n",
    "    Q10_1_5_ans_H :: Union{Missing, Matrix{Int64}}\n",
    "\n",
    "    Q10_1_6_ans_G :: Union{Missing, Matrix{Int64}}\n",
    "    Q10_1_6_ans_H :: Union{Missing, Matrix{Int64}}\n",
    "\n",
    "    Q10_1_7_ans_G :: Union{Missing, Matrix{Int64}}\n",
    "    Q10_1_7_ans_H :: Union{Missing, Matrix{Int64}}\n",
    "\n",
    "    Q10_1_8_ans_G :: Union{Missing, Matrix{Int64}}\n",
    "    Q10_1_8_ans_H :: Union{Missing, Matrix{Int64}}\n",
    "\n",
    "    Q10_1_9_data_y :: Vector{String}\n",
    "    Q10_1_9_ans_m :: Union{Missing, Vector{Int64}}\n",
    "\n",
    "\n",
    "    Q10_2_data_polynomial::Vector{Int}\n",
    "    Q10_2_data_primitive_el::Vector{Int}\n",
    "    Q10_2_1_ans_G::Union{Missing, Matrix{ Vector{Int} }}\n",
    "    Q10_2_1_ans_H::Union{Missing, Matrix{ Vector{Int} }}\n",
    "    Q10_2_2_data_y::Vector{ Vector{Int} }\n",
    "    Q10_2_2_ans_syndrome_vector::Union{Missing, Vector{ Vector{Int} }}\n",
    "    Q10_2_3_ans_error_locator_poly::Union{Missing, Vector{ Vector{Int} }}\n",
    "    Q10_2_3_ans_error_evaluator_poly::Union{Missing, Vector{ Vector{Int} }}\n",
    "    Q10_2_4_ans_error_locations::Union{Missing, Vector{Int}}\n",
    "    Q10_2_4_ans_error_vector::Union{Missing, Vector{ Vector{Int} }}\n",
    "    Q10_2_4_ans_transmt_cdword::Union{Missing, Vector{ Vector{Int} }}\n",
    "    Q10_2_5_ans_message::Union{Missing, Vector{ Vector{Int} }}\n",
    "\n",
    "end"
   ]
  },
  {
   "cell_type": "code",
   "execution_count": null,
   "id": "052f7342",
   "metadata": {},
   "outputs": [],
   "source": [
    "# data_file = \"Arnav 2018546StudentFile.jld2\"\n",
    "# data_file = \"Ratul2015627StudentFile.jld2\"\n",
    "# data_file = \"Talha2032193StudentFile.jld2\"\n",
    "\n",
    "answer = JLD2.load(data_file);\n",
    "answer = answer[ \"CourseWork_4\" ];\n",
    "answer.Demo_willing = true;\n",
    "answer.Plagiarism_declare = true;"
   ]
  },
  {
   "cell_type": "markdown",
   "id": "f4ea51c4",
   "metadata": {},
   "source": [
    "### 10.1.1"
   ]
  },
  {
   "cell_type": "markdown",
   "id": "e821312b",
   "metadata": {},
   "source": []
  },
  {
   "cell_type": "code",
   "execution_count": null,
   "id": "c48ee354",
   "metadata": {},
   "outputs": [],
   "source": [
    "using Nemo\n",
    "\n",
    "function generate_rs_matrices(p::Int, d::Int, alpha_value::Int)\n",
    "    n = p - 1                      \n",
    "    k = n - d + 1                  \n",
    "\n",
    "    G = zeros(Int64, k, n)            \n",
    "    for row in 1:k\n",
    "        for col in 1:n\n",
    "            G[row, col] = powermod(alpha_value, (row-1)*(col-1), p)  \n",
    "        end\n",
    "    end\n",
    "    \n",
    "    H = zeros(Int64, n-k, n)          \n",
    "    for row in 1:(n-k)\n",
    "        for col in 1:n\n",
    "            H[row, col] = powermod(alpha_value, row*(col-1), p)  \n",
    "        end\n",
    "    end\n",
    "\n",
    "    result = mod.(G * H', p)  \n",
    "    if all(result .== 0) \n",
    "        return G, H\n",
    "    else\n",
    "        return \"Error: mod(G * H^T, p) does not give the zero matrix\"\n",
    "    end\n",
    "end\n",
    "\n",
    "answer.Q10_1_1_ans_G, answer.Q10_1_1_ans_H = generate_rs_matrices(answer.Q10_1_data_p, answer.Q10_1_data_d_1, answer.Q10_1_data_a)\n",
    "\n",
    "println(\"Generator Matrix (G): $(answer.Q10_1_1_ans_G)\")\n",
    "println(\"Parity-Check Matrix (H): $(answer.Q10_1_1_ans_H)\")\n"
   ]
  },
  {
   "cell_type": "markdown",
   "id": "36979a01",
   "metadata": {},
   "source": [
    "### 10.1.2"
   ]
  },
  {
   "cell_type": "markdown",
   "id": "72fdcabc",
   "metadata": {},
   "source": []
  },
  {
   "cell_type": "code",
   "execution_count": null,
   "id": "62e33492",
   "metadata": {},
   "outputs": [],
   "source": [
    "answer.Q10_1_2_ans_G, answer.Q10_1_2_ans_H = generate_rs_matrices(answer.Q10_1_data_p, answer.Q10_1_data_d_2, answer.Q10_1_data_a)\n",
    "\n",
    "println(\"Generator Matrix (G): $(answer.Q10_1_2_ans_G)\")\n",
    "println(\"Parity-Check Matrix (H): $(answer.Q10_1_2_ans_H)\")\n"
   ]
  },
  {
   "cell_type": "markdown",
   "id": "02098d20",
   "metadata": {},
   "source": [
    "### 10.1.3"
   ]
  },
  {
   "cell_type": "markdown",
   "id": "a6744b20",
   "metadata": {},
   "source": [
    "- C1 = [36, 30, 7]\n",
    "- C2 = [36, 26, 11]\n",
    "\n",
    "- C1 contains all the codewords of C2, as they share the same n.\n",
    "- Thus, C1 U C2 is the same as C1.\n",
    "- C3 = C1 = [36, 30, 7]"
   ]
  },
  {
   "cell_type": "code",
   "execution_count": null,
   "id": "2be23b34",
   "metadata": {},
   "outputs": [],
   "source": [
    "answer.Q10_1_3_ans_G, answer.Q10_1_3_ans_H = generate_rs_matrices(answer.Q10_1_data_p, answer.Q10_1_data_d_1, answer.Q10_1_data_a)"
   ]
  },
  {
   "cell_type": "markdown",
   "id": "e35d87f9",
   "metadata": {},
   "source": [
    "### 10.1.4"
   ]
  },
  {
   "cell_type": "markdown",
   "id": "07ef20a4",
   "metadata": {},
   "source": [
    "- C4 = C1 n C2\n",
    "- All codewords of C2 present in C1\n",
    "- Intersect of both is the codewords of C2\n",
    "- Therefore, C4 = C2 = [36, 26, 11]"
   ]
  },
  {
   "cell_type": "code",
   "execution_count": null,
   "id": "49dc6a0a",
   "metadata": {},
   "outputs": [],
   "source": [
    "answer.Q10_1_4_ans_G, answer.Q10_1_4_ans_H = generate_rs_matrices(answer.Q10_1_data_p, answer.Q10_1_data_d_2, answer.Q10_1_data_a)"
   ]
  },
  {
   "cell_type": "markdown",
   "id": "d5552dce",
   "metadata": {},
   "source": [
    "### 10.1.5"
   ]
  },
  {
   "cell_type": "markdown",
   "id": "a0ff02dd",
   "metadata": {},
   "source": [
    "- Every codeword of C2 also in C1.\n",
    "- Adding any codeword from C2 to anothe codeword in C1 will result in codeword in C1, due to the linearity of RS codes.\n",
    "- C5 = C1 = [36, 30, 7]"
   ]
  },
  {
   "cell_type": "code",
   "execution_count": null,
   "id": "be00fdcc",
   "metadata": {},
   "outputs": [],
   "source": [
    "answer.Q10_1_5_ans_G, answer.Q10_1_5_ans_H = generate_rs_matrices(answer.Q10_1_data_p, answer.Q10_1_data_d_1, answer.Q10_1_data_a)"
   ]
  },
  {
   "cell_type": "markdown",
   "id": "54eb6d43",
   "metadata": {},
   "source": [
    "### 10.1.6"
   ]
  },
  {
   "cell_type": "markdown",
   "id": "265ec9be",
   "metadata": {},
   "source": []
  },
  {
   "cell_type": "code",
   "execution_count": null,
   "id": "e69c210b",
   "metadata": {},
   "outputs": [],
   "source": [
    "using LinearAlgebra\n",
    "\n",
    "answer.Q10_1_6_ans_G = vcat(hcat(answer.Q10_1_1_ans_G, zeros(Int, size(answer.Q10_1_1_ans_G, 1), size(answer.Q10_1_2_ans_G, 2))),\n",
    "          hcat(zeros(Int, size(answer.Q10_1_2_ans_G, 1), size(answer.Q10_1_1_ans_G, 2)), answer.Q10_1_2_ans_G))\n",
    "\n",
    "answer.Q10_1_6_ans_H = vcat(hcat(answer.Q10_1_1_ans_H, zeros(Int, size(answer.Q10_1_1_ans_H, 1), size(answer.Q10_1_2_ans_H, 2))),\n",
    "          hcat(zeros(Int, size(answer.Q10_1_2_ans_H, 1), size(answer.Q10_1_1_ans_H, 2)), answer.Q10_1_2_ans_H))\n",
    "\n",
    "println(\"Generator Matrix G6:\")\n",
    "println(answer.Q10_1_6_ans_G)\n",
    "\n",
    "println(\"Parity-Check Matrix H6:\")\n",
    "println(answer.Q10_1_6_ans_H)\n",
    "\n",
    "function check_orthogonality(G, H, p)\n",
    "    result = mod.(G * H', p)\n",
    "    return all(result .== 0)\n",
    "end\n",
    "\n",
    "println(check_orthogonality(answer.Q10_1_6_ans_G, answer.Q10_1_6_ans_H, answer.Q10_1_data_p))"
   ]
  },
  {
   "cell_type": "markdown",
   "id": "e77e53d1",
   "metadata": {},
   "source": [
    "### 10.1.7"
   ]
  },
  {
   "cell_type": "markdown",
   "id": "82016d34",
   "metadata": {},
   "source": []
  },
  {
   "cell_type": "code",
   "execution_count": null,
   "id": "693d4931",
   "metadata": {},
   "outputs": [],
   "source": [
    "function generate_C7_matrices(G, H, p)\n",
    "    k, n = size(G)\n",
    "    k2, n2 = size(H)\n",
    "    G7 = zeros(Int64, k, n+1)\n",
    "    G7[:, 1:n] .= G\n",
    "\n",
    "    for i in 1:k\n",
    "        sum_symbols = sum(G[i, 1:(p-1)]) \n",
    "        G7[i, n+1] = mod(sum_symbols, p) \n",
    "    end\n",
    "\n",
    "    H7 = zeros(Int64, n-k, n+1) \n",
    "    H7[:, 1:n] .= H\n",
    "\n",
    "    for i in 1:(n-k)\n",
    "        sum_symbols = sum(H[i, 1:(p-1)])\n",
    "        H7[i, n+1] = mod(sum_symbols, p) \n",
    "    end\n",
    "\n",
    "    return G7, H7\n",
    "end\n",
    "\n",
    "answer.Q10_1_7_ans_G, answer.Q10_1_7_ans_H = generate_C7_matrices(answer.Q10_1_1_ans_G, answer.Q10_1_1_ans_H, answer.Q10_1_data_p)\n",
    "\n",
    "check_orthogonality(answer.Q10_1_7_ans_G, answer.Q10_1_7_ans_H, answer.Q10_1_data_p)"
   ]
  },
  {
   "cell_type": "markdown",
   "id": "241a3beb",
   "metadata": {},
   "source": [
    "### 10.1.8"
   ]
  },
  {
   "cell_type": "markdown",
   "id": "6ece2791",
   "metadata": {},
   "source": []
  },
  {
   "cell_type": "code",
   "execution_count": null,
   "id": "85679d06",
   "metadata": {},
   "outputs": [],
   "source": [
    "using LinearAlgebra\n",
    "\n",
    "function generate_C8_matrices(G1, H1, G2, H2, p)\n",
    "    G8 = mod.(kron(G1, G2), p)\n",
    "    H8 = mod.(kron(H1, H2), p)\n",
    "\n",
    "    return G8, H8\n",
    "end\n",
    "\n",
    "answer.Q10_1_8_ans_G, answer.Q10_1_8_ans_H = generate_C8_matrices(answer.Q10_1_1_ans_G, answer.Q10_1_1_ans_H, answer.Q10_1_2_ans_G, answer.Q10_1_2_ans_H, answer.Q10_1_data_p)\n",
    "\n",
    "println(\"Generator Matrix G8: \", size(answer.Q10_1_8_ans_G))\n",
    "println(\"Parity Check Matrix H8: \", size(answer.Q10_1_8_ans_H))\n",
    "\n",
    "check_orthogonality(answer.Q10_1_8_ans_G, answer.Q10_1_8_ans_H, answer.Q10_1_data_p)"
   ]
  },
  {
   "cell_type": "markdown",
   "id": "479279a0",
   "metadata": {},
   "source": [
    "### 10.1.9"
   ]
  },
  {
   "cell_type": "markdown",
   "id": "9d63c388",
   "metadata": {},
   "source": []
  },
  {
   "cell_type": "code",
   "execution_count": null,
   "id": "8e5ba0d4",
   "metadata": {},
   "outputs": [],
   "source": [
    "using Nemo\n",
    "\n",
    "function decode_message(G, y, p)\n",
    "    F = Nemo.GF(p)\n",
    "    known_indices = findall(x -> x != \"?\", y)\n",
    "    \n",
    "    G_partial = matrix(F, [F(x) for x in G[:, known_indices]])\n",
    "    y_partial = [F(parse(Int, y[i])) for i in known_indices]\n",
    "\n",
    "    message_vector_ff = solve(G_partial, y_partial)\n",
    "    message_vector = [Int(lift(ZZ, element)) for element in message_vector_ff]\n",
    "    \n",
    "    return message_vector\n",
    "end\n",
    "\n",
    "answer.Q10_1_9_ans_m = decode_message(answer.Q10_1_1_ans_G, answer.Q10_1_9_data_y, answer.Q10_1_data_p)\n",
    "println(answer.Q10_1_9_ans_m)"
   ]
  },
  {
   "cell_type": "markdown",
   "id": "ed5ecfa6",
   "metadata": {},
   "source": [
    "### 10.2.1"
   ]
  },
  {
   "cell_type": "markdown",
   "id": "b3afa7e4",
   "metadata": {},
   "source": []
  },
  {
   "cell_type": "code",
   "execution_count": null,
   "id": "a0c97493",
   "metadata": {},
   "outputs": [],
   "source": [
    "using Polynomials\n",
    "\n",
    "# Q10_2_data_polynomial::Vector{Int}\n",
    "# Q10_2_data_primitive_el::Vector{Int}\n",
    "# Q10_2_1_ans_G::Union{Missing, Vector{ Vector{Int} }}\n",
    "# Q10_2_1_ans_H::Union{Missing, Vector{ Vector{Int} }}\n",
    "\n",
    "p = 32\n",
    "d = 11\n",
    "\n",
    "function generate_rs_matrices_10_2(p::Int, d::Int, alpha_value::Vector{Int}, data_polynomial::Vector{Int})\n",
    "    n = p - 1                      # Code length (for RS codes over GF(p))\n",
    "    k = n - d + 1                  # Dimension from minimum distance d\n",
    "\n",
    "    F = GF(2)\n",
    "    R, x = polynomial_ring(F, \"x\")\n",
    "    data_ring = R(data_polynomial)\n",
    "    f, w = finite_field(data_ring, \"w\")\n",
    "    alpha_polynomial = f(alpha_value)\n",
    "    polyZZ, y = polynomial_ring( Nemo.ZZ,\"y\" )\n",
    "\n",
    "    G_ff = matrix(f, k, n, [one(f) for i in 1:k, j in 1:n])\n",
    "    H_ff = matrix(f, n-k, n, [one(f) for i in 1:(n-k), j in 1:n])\n",
    "\n",
    "    for row in 1:k\n",
    "        for col in 1:n\n",
    "            result = alpha_polynomial ^ ((row-1)*(col-1))\n",
    "            G_ff[row, col] = result\n",
    "        end\n",
    "    end\n",
    "\n",
    "    for row in 1:(n-k)\n",
    "        for col in 1:n\n",
    "            result = alpha_polynomial ^ (row*(col-1))\n",
    "            H_ff[row, col] = result\n",
    "        end\n",
    "    end\n",
    "\n",
    "    G = Matrix{Vector{Int}}(undef, k, n)\n",
    "    for row in 1:k\n",
    "        for col in 1:n\n",
    "            result = alpha_polynomial ^ ((row-1)*(col-1))\n",
    "            alpha_polyZZ = lift(polyZZ, result)\n",
    "            G[row, col] = Int.(collect(coefficients(alpha_polyZZ)))\n",
    "        end\n",
    "    end\n",
    "\n",
    "    H = Matrix{Vector{Int}}(undef, n-k, n)\n",
    "    for row in 1:(n-k)\n",
    "        for col in 1:n\n",
    "            result = alpha_polynomial ^ (row*(col-1))\n",
    "            alpha_polyZZ = lift(polyZZ, result)\n",
    "            H[row, col] = Int.(collect(coefficients(alpha_polyZZ)))\n",
    "        end\n",
    "    end\n",
    "\n",
    "    return G, H, G_ff, H_ff\n",
    "end\n",
    "\n",
    "answer.Q10_2_1_ans_G, answer.Q10_2_1_ans_H, G_ff, H_ff = generate_rs_matrices_10_2(p, d, answer.Q10_2_data_primitive_el, answer.Q10_2_data_polynomial)\n",
    "answer.Q10_2_1_ans_G"
   ]
  },
  {
   "cell_type": "markdown",
   "id": "237a63e0",
   "metadata": {},
   "source": [
    "### 10.2.2"
   ]
  },
  {
   "cell_type": "markdown",
   "id": "f745e356",
   "metadata": {},
   "source": []
  },
  {
   "cell_type": "code",
   "execution_count": null,
   "id": "db08cb67",
   "metadata": {},
   "outputs": [],
   "source": [
    "function syndrome_vector_10_2_2(y, H, data_polynomial)\n",
    "    F = GF(2)\n",
    "    R, x = polynomial_ring(F, \"x\")\n",
    "    data_ring = R(data_polynomial)\n",
    "    f, w = finite_field(data_ring, \"w\")\n",
    "    polyZZ, a = polynomial_ring( Nemo.ZZ,\"a\" )\n",
    "\n",
    "    # For every element in the syndrome, put it into the ring and then the field\n",
    "    y_ff = [f(R(c)) for c in y]\n",
    "    syndrome_ff = y_ff * transpose(H)\n",
    "\n",
    "    syndrome_ZZ = [lift(polyZZ, s) for s in syndrome_ff]\n",
    "    syndrome_vector = [Int.(collect(coefficients(s))) for s in syndrome_ZZ]\n",
    "    return syndrome_vector, syndrome_ff\n",
    "end\n",
    "\n",
    "answer.Q10_2_2_ans_syndrome_vector, syndrome_ff = syndrome_vector_10_2_2(answer.Q10_2_2_data_y, H_ff, answer.Q10_2_data_polynomial)"
   ]
  },
  {
   "cell_type": "markdown",
   "id": "9b8ef128",
   "metadata": {},
   "source": [
    "### 10.2.3"
   ]
  },
  {
   "cell_type": "markdown",
   "id": "ece18773",
   "metadata": {},
   "source": []
  },
  {
   "cell_type": "code",
   "execution_count": null,
   "id": "c72d0565",
   "metadata": {},
   "outputs": [],
   "source": [
    "R, x = polynomial_ring(GF(2), \"x\")\n",
    "data_ring = R(answer.Q10_2_data_polynomial)\n",
    "F, a = finite_field(data_ring, \"a\")\n",
    "\n",
    "function locator_evaluator(syndrome_vector, p, d, F)\n",
    "    n = p - 1\n",
    "    k = n - d + 1\n",
    "\n",
    "    P, x = polynomial_ring(F, \"x\")\n",
    "    polyZZ, a = polynomial_ring( Nemo.ZZ,\"a\" )\n",
    "\n",
    "    syndrome_polynomial = P(0)\n",
    "    for j in 1:length(syndrome_vector)\n",
    "        while length(syndrome_vector[j]) < 5\n",
    "            push!(syndrome_vector[j], 0)\n",
    "        end\n",
    "        vec = F(syndrome_vector[j])\n",
    "        syndrome_polynomial += vec * x^(j-1)\n",
    "    end\n",
    "\n",
    "    r0 = x^10\n",
    "    r1 = syndrome_polynomial\n",
    "    s0 = P(1)\n",
    "    s1 = P(0)\n",
    "    t0 = P(0)\n",
    "    t1 = P(1)\n",
    "\n",
    "    while Nemo.degree(r1) >= 5\n",
    "        q, r = divrem(r0, r1)\n",
    "        r0, r1 = r1, r\n",
    "        s0, s1 = s1, s0 - q * s1\n",
    "        t0, t1 = t1, t0 - q * t1\n",
    "    end\n",
    "\n",
    "    L = s1\n",
    "    E = r1\n",
    "    L_ZZ = [lift(polyZZ, coeff) for coeff in collect(coefficients(L))]\n",
    "    L_vector = [Int.(collect(coefficients(l))) for l in L_ZZ]\n",
    "    E_ZZ = [lift(polyZZ, coeff) for coeff in collect(coefficients(E))]\n",
    "    E_vector = [Int.(collect(coefficients(l))) for l in E_ZZ]\n",
    "    return L, E, L_vector, E_vector\n",
    "end\n",
    "\n",
    "p = 32\n",
    "d = 11\n",
    "syndrome_vector = answer.Q10_2_2_ans_syndrome_vector\n",
    "\n",
    "L, E, answer.Q10_2_3_ans_error_locator_poly, answer.Q10_2_3_ans_error_evaluator_poly = locator_evaluator(syndrome_vector, p, d, F)"
   ]
  },
  {
   "cell_type": "markdown",
   "id": "c7c0a8bd",
   "metadata": {},
   "source": [
    "### 10.2.4"
   ]
  },
  {
   "cell_type": "markdown",
   "id": "02ae850d",
   "metadata": {},
   "source": []
  },
  {
   "cell_type": "code",
   "execution_count": null,
   "id": "69fbab6a",
   "metadata": {},
   "outputs": [],
   "source": [
    "function find_error_locations(F, L, alpha_value)\n",
    "    n = p - 1\n",
    "    alpha_polynomial = F(alpha_value)\n",
    "\n",
    "    error_positions = Int[]\n",
    "    for i in 0:(n-1)\n",
    "        if L(alpha_polynomial^(-i)) == 0\n",
    "            push!(error_positions, i)\n",
    "        end\n",
    "    end\n",
    "\n",
    "    return error_positions\n",
    "end\n",
    "\n",
    "function find_error_vector(F, error_locations, E, L, alpha_value)\n",
    "    polyZZ, a = polynomial_ring( Nemo.ZZ,\"a\" )\n",
    "    L_derivative = Nemo.derivative(L)\n",
    "    alpha_polynomial = F(alpha_value)\n",
    "\n",
    "    error_vector = FqFieldElem[]\n",
    "\n",
    "    for i in error_locations\n",
    "        error_value = -E(alpha_polynomial^(-i)) / L_derivative(alpha_polynomial^(-i))\n",
    "        push!(error_vector, error_value)\n",
    "    end\n",
    "    error_ZZ = [lift(polyZZ, e) for e in error_vector]\n",
    "    error_ZZ_vector = [Int.(collect(coefficients(e))) for e in error_ZZ]\n",
    "    return error_ZZ_vector, error_vector\n",
    "end\n",
    "\n",
    "function find_codeword(F, R, y, error_vector, error_locations)\n",
    "    polyZZ, a = polynomial_ring( Nemo.ZZ,\"a\" )\n",
    "    y_ff = [F(R(c)) for c in y]\n",
    "    for (i, location) in enumerate(error_locations)\n",
    "        y_ff[location+1] -= error_vector[i]\n",
    "    end\n",
    "    y_ZZ = [lift(polyZZ, e) for e in y_ff]\n",
    "    y_ZZ_vector = [Int.(collect(coefficients(e))) for e in y_ZZ]\n",
    "    print(y_ZZ_vector)\n",
    "    return y_ZZ_vector, y_ff\n",
    "end\n",
    "\n",
    "answer.Q10_2_4_ans_error_locations = find_error_locations(F, L, answer.Q10_2_data_primitive_el)\n",
    "answer.Q10_2_4_ans_error_vector, error_vector = find_error_vector(F, answer.Q10_2_4_ans_error_locations, E, L, answer.Q10_2_data_primitive_el)\n",
    "answer.Q10_2_4_ans_transmt_cdword , codeword = find_codeword(F, R, answer.Q10_2_2_data_y, error_vector, answer.Q10_2_4_ans_error_locations)"
   ]
  },
  {
   "cell_type": "markdown",
   "id": "a1ed1e7d",
   "metadata": {},
   "source": [
    "### 10.2.5"
   ]
  },
  {
   "cell_type": "markdown",
   "id": "e7bdd7fa",
   "metadata": {},
   "source": []
  },
  {
   "cell_type": "code",
   "execution_count": null,
   "id": "1a047555",
   "metadata": {},
   "outputs": [],
   "source": []
  },
  {
   "cell_type": "markdown",
   "id": "380b37b2",
   "metadata": {},
   "source": [
    "### Write Back to Struct"
   ]
  },
  {
   "cell_type": "code",
   "execution_count": null,
   "id": "b387d981",
   "metadata": {},
   "outputs": [],
   "source": [
    "jldopen(data_file, \"w\") do file\n",
    "    write(file, \"CourseWork_4\", answer)\n",
    "end"
   ]
  },
  {
   "cell_type": "markdown",
   "id": "8824e739",
   "metadata": {},
   "source": [
    "### Sanity Check"
   ]
  },
  {
   "cell_type": "code",
   "execution_count": null,
   "id": "8214346d",
   "metadata": {},
   "outputs": [],
   "source": [
    "answer"
   ]
  }
 ],
 "metadata": {
  "kernelspec": {
   "display_name": "Julia 1.11.1",
   "language": "julia",
   "name": "julia-1.11"
  },
  "language_info": {
   "file_extension": ".jl",
   "mimetype": "application/julia",
   "name": "julia",
   "version": "1.11.1"
  }
 },
 "nbformat": 4,
 "nbformat_minor": 5
}
