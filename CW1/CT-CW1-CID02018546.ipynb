{
 "cells": [
  {
   "cell_type": "markdown",
   "id": "9fdea660",
   "metadata": {},
   "source": [
    "# Coursework 1 - Coding Theory\n",
    "\n",
    "### PLAGIARISM/COLLUSION DECLARATION\n",
    "\n",
    "Coursework submitted for assessment must be the original work of you and your group. Assignments are subjected to regular checks for plagiarism and/or collusion. Plagiarism is the presentation of another person’s thoughts or words (those outside your group) as if they were your own. Collusion involves obtaining help from someone outside your group to complete your work. In preparing your coursework, you should not seek help, or copy from any other person or source, including the\n",
    "Internet, without proper and explicit acknowledgement.\n",
    "\n",
    "There is a procedure in place for you to declare individual contributions within your group for courswork. You must declare the contributions fairly and accurately.\n",
    "\n",
    "You must not disclose your solutions or insights related to coursework with anyone else, including future students or the Internet.\n",
    "\n",
    "By acknowledging the the statements above, you are declaring that both this and all subsequent pieces of coursework are, and will remain, the original work of you and your group. \n",
    "\n",
    "* Submissions will not be accepted without the aforementioned declaration.\n",
    "\n",
    "* Members of a group are deemed to have collective responsibility for the integrity for work submitted and are liable for any penalty imposed, proportionate to their contributions. \n",
    "\n"
   ]
  },
  {
   "cell_type": "markdown",
   "id": "7db0c9d5",
   "metadata": {},
   "source": [
    "### Due Date\n",
    "Week 4, 25th Oct. (Time: 11:59)"
   ]
  },
  {
   "cell_type": "code",
   "execution_count": 1,
   "id": "d8d22128",
   "metadata": {},
   "outputs": [
    {
     "name": "stderr",
     "output_type": "stream",
     "text": [
      "\u001b[32m\u001b[1m   Resolving\u001b[22m\u001b[39m package versions...\n",
      "\u001b[32m\u001b[1m  No Changes\u001b[22m\u001b[39m to `~/.julia/environments/v1.10/Project.toml`\n",
      "\u001b[32m\u001b[1m  No Changes\u001b[22m\u001b[39m to `~/.julia/environments/v1.10/Manifest.toml`\n",
      "\u001b[32m\u001b[1m   Resolving\u001b[22m\u001b[39m package versions...\n",
      "\u001b[32m\u001b[1m  No Changes\u001b[22m\u001b[39m to `~/.julia/environments/v1.10/Project.toml`\n",
      "\u001b[32m\u001b[1m  No Changes\u001b[22m\u001b[39m to `~/.julia/environments/v1.10/Manifest.toml`\n",
      "\u001b[32m\u001b[1m   Resolving\u001b[22m\u001b[39m package versions...\n",
      "\u001b[32m\u001b[1m  No Changes\u001b[22m\u001b[39m to `~/.julia/environments/v1.10/Project.toml`\n",
      "\u001b[32m\u001b[1m  No Changes\u001b[22m\u001b[39m to `~/.julia/environments/v1.10/Manifest.toml`\n"
     ]
    }
   ],
   "source": [
    "using Pkg\n",
    "Pkg.add(\"FileIO\")\n",
    "Pkg.add(\"JLD2\")\n",
    "Pkg.add(\"FreqTables\")\n",
    "using FileIO, JLD2, FreqTables, LinearAlgebra"
   ]
  },
  {
   "cell_type": "code",
   "execution_count": 2,
   "id": "53773a16",
   "metadata": {},
   "outputs": [
    {
     "data": {
      "text/plain": [
       "CourseWork_1"
      ]
     },
     "metadata": {},
     "output_type": "display_data"
    }
   ],
   "source": [
    "Base.@kwdef mutable struct CourseWork_1\n",
    "    CID::Int\n",
    "    Plagiarism_declare::Union{Missing,Bool}\n",
    "    Demo_willing::Union{Missing,Bool}\n",
    "    \n",
    "    \"Chapter 4\"\n",
    "    # 4.1 Congurence equations\n",
    "    Q4_1_a_data_a::Int\n",
    "    Q4_1_a_data_b::Int\n",
    "    Q4_1_a_data_n::Int\n",
    "    Q4_1_a_ans_x::Union{Missing, Int, Array{Int}}\n",
    "\n",
    "    Q4_1_b_data_a::Int\n",
    "    Q4_1_b_data_b::Int\n",
    "    Q4_1_b_data_n::Int\n",
    "    Q4_1_b_ans_x::Union{Missing, Int, Array{Int}}\n",
    "\n",
    "    Q4_1_c_data_a::Int\n",
    "    Q4_1_c_data_b::Int\n",
    "    Q4_1_c_data_n::Int\n",
    "    Q4_1_c_ans_x::Union{Missing, Int, Array{Int}}\n",
    "\n",
    "    Q4_1_d_data_a::Int\n",
    "    Q4_1_d_data_b::Int\n",
    "    Q4_1_d_data_n::Int\n",
    "    Q4_1_d_ans_x::Union{Missing, Int, Array{Int}}\n",
    "\n",
    "    Q4_1_e_data_a::Int\n",
    "    Q4_1_e_data_b::Int\n",
    "    Q4_1_e_data_n::Int\n",
    "    Q4_1_e_ans_x::Union{Missing, Int, Array{Int}}\n",
    "\n",
    "    Q4_1_f_data_a::Int\n",
    "    Q4_1_f_data_b::Int\n",
    "    Q4_1_f_data_n::Int\n",
    "    Q4_1_f_ans_x::Union{Missing, Int, Array{Int}}\n",
    "\n",
    "    # Q4.3\n",
    "    Q4_3_a_data_b::Int\n",
    "    Q4_3_a_data_p::Int\n",
    "    Q4_3_a_data_n::Int\n",
    "    Q4_3_a_ans::Union{Missing, Int, Array{Int}}\n",
    "\n",
    "    Q4_3_b_data_b::Int\n",
    "    Q4_3_b_data_p::Int\n",
    "    Q4_3_b_data_n::Int\n",
    "    Q4_3_b_ans::Union{Missing, Int, Array{Int}}\n",
    "\n",
    "    Q4_3_c_data_b::Int\n",
    "    Q4_3_c_data_p::Int\n",
    "    Q4_3_c_data_n::Int\n",
    "    Q4_3_c_ans::Union{Missing, Int, Array{Int}}\n",
    "\n",
    "    Q4_3_d_data_b::Int\n",
    "    Q4_3_d_data_p::Int\n",
    "    Q4_3_d_data_n::Int\n",
    "    Q4_3_d_ans::Union{Missing, Int, Array{Int}}\n",
    "\n",
    "    Q4_3_e_data_b::Int\n",
    "    Q4_3_e_data_p::Int\n",
    "    Q4_3_e_data_n::Int\n",
    "    Q4_3_e_ans::Union{Missing, Int, Array{Int}}\n",
    "\n",
    "    # Q4.4.a\n",
    "    Q4_4_a_data_a::Int\n",
    "    Q4_4_a_ans_b::Union{Missing, Int, Array{Int}}\n",
    "\n",
    "    # Q4.4.b\n",
    "    Q4_4_b_data_a::Int\n",
    "    Q4_4_b_data_b::Int\n",
    "    Q4_4_b_ans_p::Union{Missing, Int, Array{Int}}\n",
    "\n",
    "    # Q4.5.a\n",
    "    Q4_5_a_data_M ::Array{Int}\n",
    "    Q4_5_a_data_m ::Int\n",
    "    Q4_5_a_ans::Union{Missing, Int, Array{Int}}\n",
    "\n",
    "    # Q4.5.b\n",
    "    Q4_5_b_data_M ::Array{Int}\n",
    "    Q4_5_b_data_m ::Int\n",
    "    Q4_5_b_ans::Union{Missing, Int, Array{Int} }\n",
    "\n",
    "    # Q4.5.c\n",
    "    Q4_5_c_data_M ::Array{Int}\n",
    "    Q4_5_c_data_m ::Int\n",
    "    Q4_5_c_ans::Union{Missing, Int, Array{Int}}\n",
    "    \n",
    "\n",
    "    \"Chapter 5\"\n",
    "    # Q5.1 shift_amount Cipher\n",
    "    Q5_1_data_encrypted_quote1::String\n",
    "    Q5_1_data_encrypted_quote2::String\n",
    "    Q5_1_ans_quote1::Union{Missing, String}\n",
    "    Q5_1_ans_quote2::Union{Missing, String}\n",
    "\n",
    "    # Q5.2 Affine Cipher\n",
    "    Q5_2_data_encrypted_para::String\n",
    "    Q5_2_data_encrypted_quote1::String\n",
    "    Q5_2_data_encrypted_quote2::String\n",
    "    Q5_2_ans_para::Union{Missing, String}\n",
    "    Q5_2_ans_quote1::Union{Missing, String}\n",
    "    Q5_2_ans_quote2::Union{Missing, String}\n",
    "\n",
    "    # Q5.3 Vigenere cipher\n",
    "    Q5_3_data_encrypted_para::String\n",
    "    Q5_3_a_ans_len_key::Union{Missing, Int}\n",
    "    Q5_3_b_ans_key::Union{Missing, String}\n",
    "    Q5_3_b_ans_para::Union{Missing, String}\n",
    "\n",
    "    # Q5.4 Block cipher\n",
    "    Q5_4_data_A :: Array{Int,2}\n",
    "    Q5_4_data_b :: Array{Int,1}\n",
    "    Q5_4_plain_text :: String\n",
    "\n",
    "    Q5_4_a_ans :: Union{Missing, String }\n",
    "    Q5_4_b_ans :: Union{Missing, Array{Float64, 1} }\n",
    "\n",
    "end"
   ]
  },
  {
   "cell_type": "code",
   "execution_count": 3,
   "id": "052f7342",
   "metadata": {},
   "outputs": [],
   "source": [
    "# Download and upload data from JLD file, refer to https://juliaio.github.io/JLD2.jl/dev/\n",
    "\n",
    "# Example\n",
    "A = JLD2.load(\"Arnav 2018546StudentFile.jld2\");\n",
    "A = A[ \"CourseWork_1\" ];\n",
    "A.Plagiarism_declare = true;\n",
    "A.Demo_willing = true;"
   ]
  },
  {
   "cell_type": "markdown",
   "id": "237a63e0",
   "metadata": {},
   "source": [
    "### 4.1\n",
    "* If the subproblem has more than one solution, arrange all the solutions into a vector in ascending order;\n",
    "* If only one solution, save it as type Int;\n",
    "* If no solution, save it as []."
   ]
  },
  {
   "cell_type": "code",
   "execution_count": 4,
   "id": "db08cb67",
   "metadata": {},
   "outputs": [
    {
     "name": "stdout",
     "output_type": "stream",
     "text": [
      "17, 1, 37: 24\n",
      "19, 5, 31: 28\n",
      "62, 1, 134: Int64[]\n",
      "629, 5, 1139: Int64[]\n",
      "217, 7, 371: [12, 65, 118, 171, 224, 277, 330]\n",
      "437, 133, 779: [11, 52, 93, 134, 175, 216, 257, 298, 339, 380, 421, 462, 503, 544, 585, 626, 667, 708, 749]\n"
     ]
    }
   ],
   "source": [
    "function find_congruence(a::Int, b::Int, n::Int)\n",
    "    g, x, _ = gcdx(a, n)\n",
    "    result = []\n",
    "    if b % g == 0\n",
    "        inc = (n ÷ g)\n",
    "        x = ((x * (b ÷ g)) % inc + inc) % inc\n",
    "        result = sort([x + inc * index for index in 0:(g-1)])\n",
    "    end\n",
    "    if length(result) == 1\n",
    "        return Int(result[1])\n",
    "    elseif length(result) == 0\n",
    "        return Array{Int,1}(undef,0);\n",
    "    else\n",
    "        return Array{Int}(result)\n",
    "    end\n",
    "end\n",
    "\n",
    "for ch in ['a', 'b', 'c', 'd', 'e', 'f']\n",
    "    a = getfield(A, Symbol(\"Q4_1_\", ch, \"_data_a\"))\n",
    "    b = getfield(A, Symbol(\"Q4_1_\", ch, \"_data_b\"))\n",
    "    n = getfield(A, Symbol(\"Q4_1_\", ch, \"_data_n\"))\n",
    "    println(\"$a, $b, $n: $(find_congruence(a, b, n))\")\n",
    "    setfield!(A, Symbol(\"Q4_1_\", ch, \"_ans_x\"), find_congruence(a, b, n))\n",
    "end"
   ]
  },
  {
   "cell_type": "markdown",
   "id": "9b8ef128",
   "metadata": {},
   "source": [
    "### 4.2\n"
   ]
  },
  {
   "cell_type": "markdown",
   "id": "17d3b6f1",
   "metadata": {},
   "source": [
    "a)\n",
    "1. Euclid's algorithm states that for two whole numbers $a$ and $b$, their greatest common divisor is given by: \\\n",
    "    $a = q_1 \\cdot b + r_1$ \\\n",
    "    $b = q_2 \\cdot r_1 + r_2$ \\\n",
    "    $r_1 = q_3 \\cdot r_2 + r_3$ \\\n",
    "    $\\vdots$ \\\n",
    "    $r_{k-1} = q_{k+1} \\cdot r_k$ \\\n",
    "    The last non-zero remainder ($r_k$) is the greatest common divisor of $a$ and $b$.\n",
    "2. According to the Fibonacci sequence, we have $ f_{n+1} = f_{n} + f_{n-1} \\; \\forall n \\geq 2 $. Note that $f_1$ and $f_2$ are both $1$, and $f_0$ is 0. \\\n",
    "    For example, $ f_3 = f_2 + f_1 = 1 + 1 = 2 $.\n",
    "\n",
    "These two statements form the basis of the proof for $gcd(f_{n}, f_{n-1}) = 1 \\; \\forall n > 1$:\n",
    "\n",
    "We can express $f_n$ as:\\\n",
    "$f_n = 1 * f_{n-1} + f_{n-2}$\\\n",
    "where $a = f_n$, $b = f_{n-1}$, $q_1 = 1$, $r_1 = f_{n-2}$.\n",
    "\n",
    "Continuing with the next step we have:\\\n",
    "$f_{n-1} = 1 * f_{n-2} + f_{n-3}$\\\n",
    "where $q_2 = 1$, $a = f_{n-1}$, $b = f_{n-2}$, $r_1 = f_{n-3}$.\n",
    "\n",
    "And the next step confirms the pattern:\\\n",
    "$f_{n-2} = 1 * f_{n-3} + f_{n-4}$\\\n",
    "where $q_3 = 1$, $a = f_{n-2}$, $b = f_{n-3}$, $r_1 = f_{n-4}$.\n",
    "\n",
    "As we continue the pattern, we end up at:\\\n",
    "$f_3 = 1 * f_2 + 1$\\\n",
    "$f_2 = 1 * f_1 + 0$\\\n",
    "where, 1 is the last non-zero remainder, and thus the greatest common divisor of the sequence.\n",
    "\n",
    "In other words, from the pattern we get:\\\n",
    "$gcd(f_n, f_{n-1}) = gcd(f_{n-1}, f_{n-2}) = gcd(f_{n-2}, f_{n-3}) = ... = gcd(2, 1) = gcd(1, 1) = 1$\n",
    "\n",
    "This proof exploits the fact that the fibonacci sequence is a special form of the euclid's algorithm, where every intermediate quotient is $1$.\n",
    "\n",
    "3. In case of $n = 1$, we have $gcd(f_1, f_0) = gcd(1, 0)$ which is also $1$.\n",
    "\n",
    "Using 3, and the above defined proof, we get the result:\n",
    "\n",
    "$gcd(f_n, f_{n-1}) = 1 \\; \\forall n \\geq 1$"
   ]
  },
  {
   "cell_type": "markdown",
   "id": "3ec0af72",
   "metadata": {},
   "source": [
    "b)\n",
    "$a$ and $b$ can be re-written as $\\frac{10^{F_{n}} - 1}{9}$ and $\\frac{10^{F_{n-1}} - 1}{9}$\n",
    "\n",
    "From the properties of the $gcd$, we have $gcd(\\frac{a}{x}, \\frac{b}{x}) = \\frac{gcd(a, b)}{x}$\n",
    "\n",
    "where $a$ and $b$ are defined above, and $x$ is $9$.\n",
    "\n",
    "The $gcd$ of $a$ and $b$ is $gcd(10^{F_{n}} - 1, 10^{F_{n-1}} - 1)$\n",
    "\n",
    "By the properties of gcd, we have $gcd(10^{F_{n}}, 10^{F_{n-1}}) = 10^{gcd(F_{n}, F_{n-1})}$\n",
    "\n",
    "By the proof above, we then have $gcd(10^{F_{n}}, 10^{F_{n-1}}) = 10^1$\n",
    "\n",
    "Which gives the final $gcd$ as $10^1/9 = 1$"
   ]
  },
  {
   "cell_type": "markdown",
   "id": "c7c0a8bd",
   "metadata": {},
   "source": [
    "### 4.3\n",
    "* If the subproblem has more than one solution, arrange all the solutions into a vector in ascending order;\n",
    "* If only one solution, save it as type Int;\n",
    "* If no solution, save it as []."
   ]
  },
  {
   "cell_type": "code",
   "execution_count": 5,
   "id": "383c26a7",
   "metadata": {},
   "outputs": [
    {
     "name": "stdout",
     "output_type": "stream",
     "text": [
      "5, 9, 163: 59\n",
      "7, 53, 787: 206\n",
      "7, -6, 191: 109\n",
      "599, 40, 63407: 4215\n",
      "163, -20, 63407: Int64[]\n"
     ]
    }
   ],
   "source": [
    "function mod_exp(b::Int, p::Int, n::Int)\n",
    "    powers = Dict{Int, Int}()\n",
    "    if p < 0\n",
    "        g, b_inverse, _ = gcdx(b, n)\n",
    "        if g != 1\n",
    "            return Array{Int,1}(undef,0)\n",
    "        end\n",
    "        b, p = (b_inverse + n) % n, -p\n",
    "    end\n",
    "    max_power = -1\n",
    "    while p > 0\n",
    "        next = floor(Int, log2(p))\n",
    "        powers[next] = 1\n",
    "        max_power = max(max_power, next)\n",
    "        p -= 2^next\n",
    "    end\n",
    "    curr = b % n\n",
    "    for i in 0:max_power\n",
    "        if haskey(powers, i)\n",
    "            powers[i] = curr\n",
    "        end\n",
    "        curr = (curr * curr) % n\n",
    "    end\n",
    "    result = 1\n",
    "    for (_, value) in powers\n",
    "        result = (result * value) % n\n",
    "    end\n",
    "    return result\n",
    "end\n",
    "\n",
    "for ch in ['a', 'b', 'c', 'd', 'e']\n",
    "    b = getfield(A, Symbol(\"Q4_3_\", ch, \"_data_b\"))\n",
    "    p = getfield(A, Symbol(\"Q4_3_\", ch, \"_data_p\"))\n",
    "    n = getfield(A, Symbol(\"Q4_3_\", ch, \"_data_n\"))\n",
    "    println(\"$b, $p, $n: $(mod_exp(b, p, n))\")\n",
    "    setfield!(A, Symbol(\"Q4_3_\", ch, \"_ans\"), mod_exp(b, p, n))\n",
    "end"
   ]
  },
  {
   "cell_type": "markdown",
   "id": "32c442b3",
   "metadata": {},
   "source": [
    "### 4.4\n"
   ]
  },
  {
   "cell_type": "code",
   "execution_count": 6,
   "id": "55680c79",
   "metadata": {},
   "outputs": [
    {
     "data": {
      "text/plain": [
       "48-element Vector{Int64}:\n",
       "  3\n",
       "  4\n",
       "  5\n",
       "  6\n",
       "  7\n",
       "  8\n",
       "  9\n",
       " 10\n",
       " 11\n",
       " 12\n",
       "  ⋮\n",
       " 42\n",
       " 43\n",
       " 44\n",
       " 45\n",
       " 46\n",
       " 47\n",
       " 48\n",
       " 49\n",
       " 50"
      ]
     },
     "metadata": {},
     "output_type": "display_data"
    }
   ],
   "source": [
    "function four_four_a(a::Int)\n",
    "    result = []\n",
    "    for b in 0:25\n",
    "        if gcd(3 - a*b, 26) == 1\n",
    "            push!(result, b)\n",
    "        end\n",
    "    end\n",
    "    return Array{Int}(result)\n",
    "end\n",
    "\n",
    "function four_four_b(a::Int, b::Int)\n",
    "    result = Int[]\n",
    "    det = abs(3 - a * b)\n",
    "    for n in 3:50\n",
    "        if gcd(n, det) == 1\n",
    "            push!(result, n)\n",
    "        end\n",
    "    end\n",
    "    return result\n",
    "end\n",
    "\n",
    "A.Q4_4_a_ans_b = four_four_a(A.Q4_4_a_data_a)\n",
    "A.Q4_4_b_ans_p = four_four_b(A.Q4_4_b_data_a, A.Q4_4_b_data_b)"
   ]
  },
  {
   "cell_type": "markdown",
   "id": "5ba27dd4",
   "metadata": {},
   "source": [
    "### 4.5"
   ]
  },
  {
   "cell_type": "code",
   "execution_count": 7,
   "id": "dc841e55",
   "metadata": {},
   "outputs": [
    {
     "data": {
      "text/plain": [
       "10×10 Matrix{Int64}:\n",
       "  6155   4971   7747   9532  15507  17662  20975  16448  13414  18215\n",
       "  9060  15469   5713  10580  17865   6849  14461  17359   9351   6242\n",
       " 20987  17107   9658  14377  19323  21488  17868   7388  21471   3580\n",
       "  5692  19547  11027  12934   8046   7865   4896  15809  19683  15881\n",
       " 21480   4152  19991  11891  18181  17807  15249  19255   9438   8219\n",
       " 10600    322   6490    491    324   4649  11709   3427  15886   6483\n",
       " 11636   9820  13967   6138  15981  17152  14570   9597  15857   2931\n",
       " 21382  20844   4921   6782   7030   3525   6418    874   3617   2758\n",
       "  2954   1338  20755   4905   3642   5282   9119   2690  10017   3566\n",
       " 15494  17917  17126  14726   5051   7696  13024   2086  14846  12645"
      ]
     },
     "metadata": {},
     "output_type": "display_data"
    }
   ],
   "source": [
    "function adjoint_matrix(A::Array{BigInt})\n",
    "    A_n = size(A, 1)\n",
    "    cofactor = zeros(BigInt, A_n, A_n)\n",
    "    for r in 1:A_n\n",
    "        for c in 1:A_n\n",
    "            cofactor[r, c] = (-1)^(r+c) * det(A[[i for i in 1:A_n if i != r], [j for j in 1:A_n if j != c]])\n",
    "        end\n",
    "    end\n",
    "    return Array(transpose(cofactor))\n",
    "end\n",
    "\n",
    "function matrix_modulo_inverse(A::Array{Int}, m::Int)\n",
    "    A_n = size(A, 1)\n",
    "    A, m = BigInt.(A), BigInt(m)\n",
    "    g, det_inv, _ = gcdx(det(A), m)\n",
    "    if g != 1\n",
    "        return Array{Int,1}(undef,0)\n",
    "    end\n",
    "    det_inv = mod(det_inv, m)\n",
    "    adjoint = adjoint_matrix(A)\n",
    "    return Int.(mod.(det_inv * adjoint, m))\n",
    "end\n",
    "\n",
    "A.Q4_5_a_ans = matrix_modulo_inverse(A.Q4_5_a_data_M, A.Q4_5_a_data_m)\n",
    "A.Q4_5_b_ans = matrix_modulo_inverse(A.Q4_5_b_data_M, A.Q4_5_b_data_m)\n",
    "A.Q4_5_c_ans = matrix_modulo_inverse(A.Q4_5_c_data_M, A.Q4_5_c_data_m)"
   ]
  },
  {
   "cell_type": "markdown",
   "id": "8716ed07",
   "metadata": {},
   "source": [
    "### 5.1\n"
   ]
  },
  {
   "cell_type": "code",
   "execution_count": 8,
   "id": "2b7f24f9",
   "metadata": {},
   "outputs": [
    {
     "data": {
      "text/plain": [
       "\"hethatisoftheopinionmoneywilldoeverythingmaywellbesuspectedofdoingeverythingformoney\""
      ]
     },
     "metadata": {},
     "output_type": "display_data"
    }
   ],
   "source": [
    "english_frequency = [0.082, 0.015, 0.028, 0.043, 0.127, 0.022, 0.020, 0.061,\n",
    "0.070, 0.002, 0.008, 0.040, 0.024, 0.067, 0.075, 0.019, 0.001, 0.060, 0.063,\n",
    "0.091, 0.028, 0.010, 0.023, 0.001, 0.020, 0.001]\n",
    "\n",
    "function frequency_mse(frequency_list::Array{Float64})\n",
    "    mse = 0.0\n",
    "    for i in 1:26\n",
    "        mse += (frequency_list[i] - english_frequency[i])^2\n",
    "    end\n",
    "    return mse / 26\n",
    "end\n",
    "\n",
    "function decrypt_shift(ciphertext::String, shift_amount::Int)\n",
    "    result = Char[]\n",
    "    for char in ciphertext\n",
    "        push!(result, Char(Int('A') + (((Int(char) - Int('A') - shift_amount) + 26) % 26)))\n",
    "    end\n",
    "    return String(result)\n",
    "end\n",
    "\n",
    "function try_shifts_five_one(ciphertext::String)\n",
    "    error, result = Inf, \"\"\n",
    "    for shift in 0:25\n",
    "        decrypted = decrypt_shift(ciphertext, shift)\n",
    "        frequency_list = zeros(Float64, 26)\n",
    "        for char in decrypted\n",
    "            frequency_list[Int(char) - Int('A') + 1] += 1\n",
    "        end\n",
    "        mse = frequency_mse(frequency_list ./ length(ciphertext))\n",
    "        if mse < error\n",
    "            error = mse\n",
    "            result = decrypted\n",
    "        end\n",
    "    end\n",
    "    return lowercase(result)\n",
    "end\n",
    "\n",
    "A.Q5_1_ans_quote1 = try_shifts_five_one(A.Q5_1_data_encrypted_quote1)\n",
    "A.Q5_1_ans_quote2 = try_shifts_five_one(A.Q5_1_data_encrypted_quote2)"
   ]
  },
  {
   "cell_type": "markdown",
   "id": "59cf540e",
   "metadata": {},
   "source": [
    "### 5.2\n"
   ]
  },
  {
   "cell_type": "code",
   "execution_count": 9,
   "id": "61a20029",
   "metadata": {},
   "outputs": [
    {
     "data": {
      "text/plain": [
       "\"opportunityismissedbymostpeoplebecauseitisdressedinoverallsandlookslikework\""
      ]
     },
     "metadata": {},
     "output_type": "display_data"
    }
   ],
   "source": [
    "function decrypt_affine(ciphertext::String, alpha_inverse::Int, beta::Int)\n",
    "    result = Char[]\n",
    "    for char in ciphertext\n",
    "        push!(result, Char(Int('A') + (((alpha_inverse * (Int(char) - Int('A') - beta)) % 26 + 26) % 26)))\n",
    "    end\n",
    "    return String(result)\n",
    "end\n",
    "\n",
    "function try_shifts_five_two(ciphertext::String)\n",
    "    error, result = Inf, \"\"\n",
    "    for alpha in 1:25\n",
    "        g, alpha_inverse, _ = gcdx(alpha, 26)\n",
    "        alpha_inverse = (alpha_inverse + 26) % 26\n",
    "        if g == 1\n",
    "            for beta in 0:25\n",
    "                decrypted = decrypt_affine(ciphertext, alpha_inverse, beta)\n",
    "                frequency_list = zeros(Float64, 26)\n",
    "                for char in decrypted\n",
    "                    frequency_list[Int(char) - Int('A') + 1] += 1\n",
    "                end\n",
    "                mse = frequency_mse(frequency_list ./ length(ciphertext))\n",
    "                if mse < error\n",
    "                    error = mse\n",
    "                    result = decrypted\n",
    "                end\n",
    "            end\n",
    "        end\n",
    "    end\n",
    "    return lowercase(result)\n",
    "end\n",
    "\n",
    "A.Q5_2_ans_para = try_shifts_five_two(A.Q5_2_data_encrypted_para)\n",
    "A.Q5_2_ans_quote1 = try_shifts_five_two(A.Q5_2_data_encrypted_quote1)\n",
    "A.Q5_2_ans_quote2 = try_shifts_five_two(A.Q5_2_data_encrypted_quote2)"
   ]
  },
  {
   "cell_type": "markdown",
   "id": "7d5f661b",
   "metadata": {},
   "source": [
    "### 5.3\n"
   ]
  },
  {
   "cell_type": "code",
   "execution_count": 10,
   "id": "84c336e2",
   "metadata": {},
   "outputs": [
    {
     "data": {
      "text/plain": [
       "\"itwasarimymorningandverydampihadseenthedamplyingontheoutsideofmylittlewindowasifsomegoblinhadbeencryingthereallnightandusingthewindowforapockethandkerchiefnowisawthedamplyingonthebarehedgesandsparegrasslikeacoarsersortofspiderswebshangingitselffromtwigtotwigandbladetobl\"\u001b[93m\u001b[1m ⋯ 1481 bytes ⋯ \u001b[22m\u001b[39m\"emudandthestakesthatstakedthetideoutmakingmywayalongherewithalldespatchihadjustcrossedaditchwhichiknewtobeverynearthebatteryandhadjustscrambledupthemoundbeyondtheditchwhenisawthemansittingbeforemehisbackwastowardsmeandhehadhisarmsfoldedandwasnoddingforwardheavywithsleep\""
      ]
     },
     "metadata": {},
     "output_type": "display_data"
    }
   ],
   "source": [
    "function calculate_scf(ciphertext::String, upper_bound::Int)\n",
    "    result, max_scf = 0, -1\n",
    "    N = length(ciphertext)\n",
    "    for l in 1:upper_bound\n",
    "        matches = 0\n",
    "        for j in 1:(N-l)\n",
    "            matches += Int(ciphertext[j] == ciphertext[j + l])\n",
    "        end\n",
    "        scf = matches / (N-l)\n",
    "        if scf > max_scf\n",
    "            result, max_scf = l, scf\n",
    "        end\n",
    "    end\n",
    "    return result\n",
    "end\n",
    "\n",
    "function get_key(ciphertext::String, scf::Int)\n",
    "    N = length(ciphertext)\n",
    "    key = Int[]\n",
    "    for i in 1:scf\n",
    "        letters = [ciphertext[p] for p in i:scf:N]\n",
    "        frequencies = zeros(26)\n",
    "        for letter in letters\n",
    "            frequencies[Int(letter) - Int('A') + 1] += 1\n",
    "        end\n",
    "        frequencies = frequencies ./ length(ciphertext)\n",
    "        k_i, max_inner_product = 0, -1\n",
    "        for shift in 0:25\n",
    "            inner_product = sum(circshift(english_frequency, shift) .* frequencies)\n",
    "            if inner_product > max_inner_product\n",
    "                k_i, max_inner_product = shift, inner_product\n",
    "            end\n",
    "        end\n",
    "        push!(key, k_i)\n",
    "    end\n",
    "    return key\n",
    "end\n",
    "\n",
    "function get_key_string(key::Vector{Int})\n",
    "    result = Char[]\n",
    "    for k in key\n",
    "        push!(result, Char(Int('A') + k))\n",
    "    end\n",
    "    return String(result)\n",
    "end\n",
    "\n",
    "function decrypt_vigenere(ciphertext::String, key::Vector{Int})\n",
    "    decrypted = Char[]\n",
    "    key_index = 1\n",
    "    for char in ciphertext\n",
    "        letter_index = Int(char) - Int('A')\n",
    "        key_shift = key[key_index]\n",
    "        decrypted_index = (letter_index - key_shift + 26) % 26\n",
    "        push!(decrypted, Char(decrypted_index + Int('A')))\n",
    "        key_index = (key_index % length(key)) + 1\n",
    "    end\n",
    "    return lowercase(String(decrypted))\n",
    "end\n",
    "\n",
    "A.Q5_3_a_ans_len_key = calculate_scf(A.Q5_3_data_encrypted_para, 8)\n",
    "vigenere_key = get_key(A.Q5_3_data_encrypted_para, A.Q5_3_a_ans_len_key)\n",
    "A.Q5_3_b_ans_key = get_key_string(vigenere_key)\n",
    "A.Q5_3_b_ans_para = decrypt_vigenere(A.Q5_3_data_encrypted_para, vigenere_key)"
   ]
  },
  {
   "cell_type": "markdown",
   "id": "aab85cc1",
   "metadata": {},
   "source": [
    "### 5.4\n"
   ]
  },
  {
   "cell_type": "code",
   "execution_count": 11,
   "id": "8cece281",
   "metadata": {},
   "outputs": [
    {
     "name": "stdout",
     "output_type": "stream",
     "text": [
      "[-0.03411122554067972, 0.025164778578784762, 0.005470648815653966, -0.004894953656024714, -0.09146961894953656, 0.011985581874356332, 0.021194644696189497, -0.017230690010298658, -0.03343975283213183, 0.04022451081359423, 0.028560247167868175, -0.001380020597322347, 0.011530381050463438, -0.023230690010298663, -0.05079814624098867, 0.026314109165808442, 0.0335005149330587, -0.026014418125643667, -0.015111225540679715, -0.05443975283213182, 0.008560247167868174, 0.02244078269824923, 0.01664984552008239, 0.04276930998970134, 0.01604531410916581, 0.04070957775489186]\n"
     ]
    }
   ],
   "source": [
    "# save your answers in Q5_4_a_ans, Q5_4_b_ans.\n",
    "# save Q5_4_b_ans as Array{Float64, 1}, whose frequency is for from letter a to z.\n",
    "\n",
    "function format_text(plaintext::String, block_size::Int)\n",
    "    filtered_text = Char[]\n",
    "    for char in plaintext\n",
    "        if isletter(char)\n",
    "            push!(filtered_text, char)\n",
    "        end\n",
    "    end\n",
    "    filtered_text = lowercase(String(filtered_text))\n",
    "    pad_length = (block_size - (length(filtered_text) % block_size)) % block_size\n",
    "    return vcat([Int(char) - Int('a') for char in filtered_text], [0 for _ in 1:pad_length]), pad_length\n",
    "end\n",
    "\n",
    "function block_encrypt(plaintext::String, A::Array{Int,2}, b::Array{Int,1})\n",
    "    N = size(b, 1)\n",
    "    plaintext, pad_length = format_text(plaintext, N)\n",
    "    result = Char[]\n",
    "    for i in 1:N:length(plaintext)\n",
    "        append!(result, [Char(Int('A') + char_index) for char_index in (A * plaintext[i:i+N-1] .+ b) .% 26])\n",
    "    end\n",
    "    return String(result[1:end-pad_length])\n",
    "end\n",
    "\n",
    "A.Q5_4_a_ans = block_encrypt(A.Q5_4_plain_text, A.Q5_4_data_A, A.Q5_4_data_b)\n",
    "A.Q5_4_b_ans = freqtable([char for char in A.Q5_4_a_ans]) ./ length(A.Q5_4_a_ans)\n",
    "println(A.Q5_4_b_ans .- english_frequency) # This is the difference between the ciphertext frequency, and the frequency of letters in the english language"
   ]
  },
  {
   "cell_type": "markdown",
   "id": "821e60ea",
   "metadata": {},
   "source": [
    "### Write Back to the Struct"
   ]
  },
  {
   "cell_type": "code",
   "execution_count": 12,
   "id": "0d4e2e41",
   "metadata": {},
   "outputs": [],
   "source": [
    "jldopen(\"Arnav 2018546StudentFile.jld2\", \"w\") do file\n",
    "    write(file, \"CourseWork_1\", A)\n",
    "end"
   ]
  },
  {
   "cell_type": "markdown",
   "id": "f705d8ce",
   "metadata": {},
   "source": [
    "### Sanity Check"
   ]
  },
  {
   "cell_type": "code",
   "execution_count": 13,
   "id": "2d4b004c",
   "metadata": {},
   "outputs": [
    {
     "data": {
      "text/plain": [
       "CourseWork_1(2018546, true, true, 17, 1, 37, 24, 19, 5, 31, 28, 62, 1, 134, Int64[], 629, 5, 1139, Int64[], 217, 7, 371, [12, 65, 118, 171, 224, 277, 330], 437, 133, 779, [11, 52, 93, 134, 175, 216, 257, 298, 339, 380, 421, 462, 503, 544, 585, 626, 667, 708, 749], 5, 9, 163, 59, 7, 53, 787, 206, 7, -6, 191, 109, 599, 40, 63407, 4215, 163, -20, 63407, Int64[], 1, [0, 2, 4, 6, 8, 10, 12, 14, 18, 20, 22, 24], 16, 17, [3, 4, 5, 6, 7, 8, 9, 10, 11, 12  …  41, 42, 43, 44, 45, 46, 47, 48, 49, 50], [10 2 4; 8 4 7; 3 3 10], 17, [2 9 15; 9 3 13; 12 10 7], [765 34 … 172 226; 363 807 … 899 516; … ; 756 36 … 340 95; 343 864 … 625 369], 133, Int64[], [2801 2502 … 4285 9218; 5957 7221 … 4440 9545; … ; 3738 3773 … 8361 1950; 6877 7235 … 1281 7420], 21647, [6155 4971 … 13414 18215; 9060 15469 … 9351 6242; … ; 2954 1338 … 10017 3566; 15494 17917 … 14846 12645], \"DCTDUIWTATHHDCHIWPIXVGTLJELXIWLPHIDPALPNHHIPNIGJTIDNDJGHTAUPCSCTKTGATILWPIHDBTQDSNTAHTHPNHSXHIGPRINDJUGDBNDJGVDPAH\", \"NKZNGZOYULZNKUVOTOUTSUTKECORRJUKBKXEZNOTMSGECKRRHKYAYVKIZKJULJUOTMKBKXEZNOTMLUXSUTKE\", \"oneofthelessonsthatigrewupwithwastoalwaysstaytruetoyourselfandneverletwhatsomebodyelsesaysdistractyoufromyourgoals\", \"hethatisoftheopinionmoneywilldoeverythingmaywellbesuspectedofdoingeverythingformoney\", \"QRQDIZMTIOHMAQKQPEUAHCACXMJMKDCJHEWCVZQPXYPMOAJQDNQWXVIOQVVXHCXSUKKVQXMPEACWMDJMDCXQXMOPOEXHCSCIMDZUDKQAAQACPTNDQQSQPCPTCPIZMTIOHMHCAWMPAUVXQTXHQCTTDQAAQAMNXHQSCIMDXMXHQNDQQSQPMDXHQNDQQSQPXMXHQSCIMDMDZMXHXMXHQWMDJMDCXEMPMDCVVXHDQQXMJCDVECSQPXOEVVVQCDPNDMSXHQPWQOHCXXHQIMUKHXXMHCRQYPMOPZQNMDQXHCXSUKKVQXMPEACPCPWEQPXCPTVMICVZMDMUKHSEPKVEPKCFQCVMUACTRMWCWIMNWHDEAXECPJDEPWEJVQAOEXHCTQRMXQTCXXCWHSQPXXMWMSSQDWECVDEKHXAEPTQSMPAXDCXEMPOHQDQMNXHQSCIMDWMDJMDCXEMPCPTMXHQDEPHCZEXCPXAHCRQJDQAQPXQTCXTERQDAXESQAPMNQOQDXHCPMPQXHMUACPTNMUDHUPTDQTCPTXOQPXIJQXEXEMPACKCEPAXXHQWMPXEPUCPWQMNPQKDMAVCRQDICZDMCTCPTCPQGUCVPUSZQDCKCEPAXCPIEPXQDNQDQPWQOEXHXHQNCWXMDIAIAXQSCXHMSQAELXIQEKHXEPNCRMUDMNXHQACVQMNVEREPKAEPXHQWHUDWHCPTQEKHXIAELNMDCZMVEAHEPKAUPTCIXDCTEPKEPXHQAXDQQXSDJEWYOEWYAXMMTEPXHQJDEPWEJCVAXDQQXMNXHEAEVVUAXDEMUAXMOPCPTKCFQTOEXHCPCEDMNWUDEMAEXIPMXUPSELQTOEXHEPXQDQAXMPXHQMZBQWXACDMUPTHESXHQDQOCACPMJQPAGUCDQNMDXHQSCDYQXJVCWQCPTEPXHQWQPXDQMNEXCVCDKQEPPOEXHCAEKPJMAXEPNDMPXTEAJVCIEPKCPMZBQWXRQDIWMSSMPEPCDXZUXDCDQVISQXOEXHEPPCXUDQXMOEXCZVUQVEMPOEXHXHDQQZMOVQKAEPXHQCEDZCVCPWEPKHESAQVNMPXHQQLXDQSQJMEPXMNXHQWQPXDQWVCOMNHEANMUDXHNMMXXHQDQOQDQOEXHEPAEKHXCPCUWXEMPQQDACPTNEDQCKQPWIMNNEWQCWMDPNCWXMDACVEPQPTDCJQDACACTTVQDACTEAXEVVQDACKDMWQDACPTCAHMQAHMJXHQVCAXSQPXEMPQTOCDQHMUAQZQEPKCVAMCJJDMJDECXQTXMXHQTENNUAEMPMNHCXAZMPPQXAOQCDEPKCJJCDQVWMXXMPUSZDQVVCACPTUAQNUVYPMOVQTKQXHQDQOCACDQTZDEWYHMUAQOEXHCASCVVJCRQTWMUDXICDTEPNDMPXOHEWHCPIZMTISEKHXHCRQYPMOPZQVMPKQTXMXHQCXXMDPQICPTXHQDQOCASMDQMRQDCPMXHQDDQTZDEWYHMUAQOEXHRQPQXECPZVEPTACPTCVCDKQZDCAATMMDJVCXQOEXHCRQDIVQKEZVQCPPMUPWQSQPXXHCXEXZQVMPKQTXMXHQAUDKQMPCNQOZMIAOQDQSCYEPKXHQEDOCIXMXHQWDEWYQXNEQVTCPTXOMMDXHDQQAHMJYQQJQDAOHMOQDQAXCPTEPKCXXHQEDTMMDAVMMYQTCAENXHQIAHMUVTVEYQXMZQSCYEPKXHQEDOCIXMXHQACSQAJMXCAEPTQQTXMCVVCJJQCDCPWQXHQISEKHXHCRQTMPQOEXHMUXVMAEPKCPIKDQCXCSMUPXMNWUAXMSXHQDQZISDJEWYOEWYHCREPKJCUAQTXMSCYQXHQAQMZAQDRCXEMPAXMZQPMXQTTMOPCXCSMDQWMPRQPEQPXJQDEMTHCAXQPQTXMDQBMEPHEANDEQPTAOHMHCTXUDPQTMUXMNXHQSCEPAXDQQXCPTOQDQCVDQCTIOEXHEPAEKHXMNXHQNEQVTMNZCXXVQ\", \"PRTVBYFQURRUDWWIDQLYNLRYIRENETNBYDBBVERUWJPRBIDWWDWWIDQLBRKDEDYRWJ\", \"BWWBMCXGFCDFHLFHHZEODLBHCWZBWQZOZJTXHZFCFHEMZHHZEFGBSZMTQQHTGEQBBVHQFVZNBMV\", \"everybodywhosegeniushasatopographicalbentknowsperfectlywellthatmuggletonisacorporatetownwithamayorburgessesandfreemenandanybodywhohasconsultedtheaddressesofthemayortothefreemenorthefreementothemayororbothtothecorporationorallthreetoparliamentwilllearnfromthencewhattheyoughttohaveknownbeforethatmuggletonisanancientandloyalboroughminglingazealousadvocacyofchristianprincipleswithadevotedattachmenttocommercialrightsindemonstrationwhereofthemayorcorporationandotherinhabitantshavepresentedatdiverstimesnofewerthanonethousandfourhundredandtwentypetitionsagainstthecontinuanceofnegroslaveryabroadandanequalnumberagainstanyinterferencewiththefactorysystemathomesixtyeightinfavourofthesaleoflivingsinthechurchandeightysixforabolishingsundaytradinginthestreetmrpickwickstoodintheprincipalstreetofthisillustrioustownandgazedwithanairofcuriositynotunmixedwithinterestontheobjectsaroundhimtherewasanopensquareforthemarketplaceandinthecentreofitalargeinnwithasignpostinfrontdisplayinganobjectverycommoninartbutrarelymetwithinnaturetowitabluelionwiththreebowlegsintheairbalancinghimselfontheextremepointofthecentreclawofhisfourthfoottherewerewithinsightanauctioneersandfireagencyofficeacornfactorsalinendrapersasaddlersadistillersagrocersandashoeshopthelastmentionedwarehousebeingalsoappropriatedtothediffusionofhatsbonnetswearingapparelcottonumbrellasandusefulknowledgetherewasaredbrickhousewithasmallpavedcourtyardinfrontwhichanybodymighthaveknownbelongedtotheattorneyandtherewasmoreoveranotherredbrickhousewithvenetianblindsandalargebrassdoorplatewithaverylegibleannouncementthatitbelongedtothesurgeonafewboysweremakingtheirwaytothecricketfieldandtwoorthreeshopkeeperswhowerestandingattheirdoorslookedasiftheyshouldliketobemakingtheirwaytothesamespotasindeedtoallappearancetheymighthavedonewithoutlosinganygreatamountofcustomtherebymrpickwickhavingpausedtomaketheseobservationstobenoteddownatamoreconvenientperiodhastenedtorejoinhisfriendswhohadturnedoutofthemainstreetandwerealreadywithinsightofthefieldofbattle\", \"wemustindeedallhangtogetherormostassuredlyweshallallhangseparately\", \"opportunityismissedbymostpeoplebecauseitisdressedinoverallsandlookslikework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itwasarimymorningandverydampihadseenthedamplyingontheoutsideofmylittlewindowasifsomegoblinhadbeencryingthereallnightandusingthewindowforapockethandkerchiefnowisawthedamplyingonthebarehedgesandsparegrasslikeacoarsersortofspiderswebshangingitselffromtwigtotwigandbladetobladeoneveryrailandgatewetlayclammyandthemarshmistwassothickthatthewoodenfingeronthepostdirectingpeopletoourvillageadirectionwhichtheyneveracceptedfortheynevercametherewasinvisibletomeuntiliwasquitecloseunderitthenasilookedupatitwhileitdrippeditseemedtomyoppressedconsciencelikeaphantomdevotingmetothehulksthemistwasheavieryetwhenigotoutuponthemarshessothatinsteadofmyrunningateverythingeverythingseemedtorunatmethiswasverydisagreeabletoaguiltymindthegatesanddikesandbankscameburstingatmethroughthemistasiftheycriedasplainlyascouldbeaboywithsomebodyelsesporkpiestophimthecattlecameuponmewithlikesuddennessstaringoutoftheireyesandsteamingoutoftheirnostrilshalloayoungthiefoneblackoxwithawhitecravatonwhoevenhadtomyawakenedconsciencesomethingofaclericalairfixedmesoobstinatelywithhiseyesandmovedhisbluntheadroundinsuchanaccusatorymannerasimovedroundthatiblubberedouttohimicouldnthelpitsiritwasntformyselfitookituponwhichheputdownhisheadblewacloudofsmokeoutofhisnoseandvanishedwithakickupofhishindlegsandaflourishofhistailallthistimeiwasgettingontowardstheriverbuthoweverfastiwenticouldntwarmmyfeettowhichthedampcoldseemedrivetedastheironwasrivetedtothelegofthemaniwasrunningtomeetiknewmywaytothebatteryprettystraightforihadbeendownthereonasundaywithjoeandjoesittingonanoldgunhadtoldmethatwheniwasprenticetohimregularlyboundwewouldhavesuchlarkstherehoweverintheconfusionofthemistifoundmyselfatlasttoofartotherightandconsequentlyhadtotrybackalongtheriversideonthebankofloosestonesabovethemudandthestakesthatstakedthetideoutmakingmywayalongherewithalldespatchihadjustcrossedaditchwhichiknewtobeverynearthebatteryandhadjustscrambledupthemoundbeyondtheditchwhenisawthemansittingbeforemehisbackwastowardsmeandhehadhisarmsfoldedandwasnoddingforwardheavywithsleep\", [25 13 … 7 2; 11 7 … 2 4; … ; 0 7 … 0 25; 21 25 … 23 0], [23, 6, 8, 15, 15], \"A long list could easily be given of “sporting plants;” by this term\\n    gardeners mean a single bud or offset, which suddenly assumes a new and\\n    sometimes very different character from that of the rest of the plant.\\n    Such buds can be propagated by grafting, etc., and sometimes by seed.\\n    These “sports” are extremely rare under nature, but far from rare under\\n    cultivation; and in this case we see that the treatment of the parent\\n    has affected a bud or offset, and not the ovules or pollen. But it is\\n    the opinion of most physiologists that there is no essential difference\\n    between a bud and an ovule in their earliest stages of formation; so\\n    that, in fact, “sports” support my view, that variability may be\\n    largely attributed to the ovules or pollen, or to both, having been\\n    affected by the treatment of the parent prior to the act of conception.\\n    These cases anyhow show that variation is not necessarily connected, as\\n    some authors have supposed, with the act of generation.\\n    \\n    Seedlings from the same fruit, and the young of the same litter,\\n    sometimes differ considerably from each other, though both the young\\n    and the parents, as Müller has remarked, have apparently been exposed\\n    to exactly the same conditions of life; and this shows how unimportant\\n    the direct effects of the conditions of life are in comparison with the\\n    laws of reproduction, and of growth, and of inheritance; for had the\\n    action of the conditions been direct, if any of the young had varied,\\n    all would probably have varied in the same manner. To judge how much,\\n    in the case of any variation, we should attribute to the direct action\\n    of heat, moisture, light, food, etc., is most difficult: my impression\\n    is, that with animals such agencies have produced very little direct\\n    effect, though apparently more in the case of plants. Under this point\\n    of view, Mr. Buckman’s recent experiments on plants seem extremely\\n    valuable. When all or nearly all the individuals exposed to certain\\n    conditions are affected in the same way, the change at first appears to\\n    be directly due to such conditions; but in some cases it can be shown\\n    that quite opposite conditions produce\\n    similar changes of structure. Nevertheless some slight amount of change\\n    may, I think, be attributed to the direct action of the conditions of\\n    life—as, in some cases, increased size from amount of food, colour from\\n    particular kinds of food and from light, and perhaps the thickness of\\n    fur from climate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…  0.0345005149330587, 0.03398558187435633, 0.047888774459320285, 0.036560247167868175, 0.036560247167868175, 0.03244078269824923, 0.03964984552008239, 0.04376930998970134, 0.03604531410916581, 0.04170957775489186])"
      ]
     },
     "metadata": {},
     "output_type": "display_data"
    }
   ],
   "source": [
    "A"
   ]
  }
 ],
 "metadata": {
  "kernelspec": {
   "display_name": "Julia 1.10.5",
   "language": "julia",
   "name": "julia-1.10"
  },
  "language_info": {
   "file_extension": ".jl",
   "mimetype": "application/julia",
   "name": "julia",
   "version": "1.10.5"
  }
 },
 "nbformat": 4,
 "nbformat_minor": 5
}
